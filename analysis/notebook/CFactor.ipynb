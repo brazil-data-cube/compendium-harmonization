{
 "cells": [
  {
   "cell_type": "markdown",
   "id": "59a557cf-f38b-49fd-b4ea-ae56c3041d66",
   "metadata": {},
   "source": [
    "# CFactor - A comparision article"
   ]
  },
  {
   "cell_type": "markdown",
   "id": "970ac1c1-803e-4963-90d2-2febbaab1014",
   "metadata": {},
   "source": [
    "## 1. Resource configuration"
   ]
  },
  {
   "cell_type": "code",
   "execution_count": null,
   "id": "9a81c34a-8100-464a-b07c-1c0cb07c8889",
   "metadata": {},
   "outputs": [],
   "source": [
    "import os"
   ]
  },
  {
   "cell_type": "markdown",
   "id": "c784a41a-c963-4e8c-9e36-e5d9c9be8667",
   "metadata": {},
   "source": [
    "**Configure data directory (with environment variable)**"
   ]
  },
  {
   "cell_type": "code",
   "execution_count": null,
   "id": "7015d4b5-0d54-4643-abe0-9d2aef617a9b",
   "metadata": {},
   "outputs": [],
   "source": [
    "cfactor_data_directory = os.environ.get(\"CFACTOR_DATA_DIRECTORY\")\n",
    "cfactor_data_directory"
   ]
  },
  {
   "cell_type": "markdown",
   "id": "bb6f4090-e580-4344-a204-fb240e8fac17",
   "metadata": {},
   "source": [
    "**Defining input files and directories for Sentinel-2/MSI steps**"
   ]
  },
  {
   "cell_type": "code",
   "execution_count": null,
   "id": "0ee7062f-f622-436f-b480-961b9fecc537",
   "metadata": {},
   "outputs": [],
   "source": [
    "#\n",
    "# Input and files references\n",
    "#\n",
    "sentinel2_input_dir = os.path.join(cfactor_data_directory, \"raw_data/Sentinel2Data\")\n",
    "\n",
    "sentinel2_sceneid_list = os.path.join(cfactor_data_directory, \"raw_data/ReferenceFiles_L8-S2/s2-sceneids.txt\")"
   ]
  },
  {
   "cell_type": "markdown",
   "id": "4c4d3849-f18b-47eb-ad9a-1428df9b4ef0",
   "metadata": {},
   "source": [
    "**Defining input files and directories for Landsat-8/MSI steps**"
   ]
  },
  {
   "cell_type": "code",
   "execution_count": null,
   "id": "fb204c19-abfd-4f16-afc2-1a16468e5251",
   "metadata": {},
   "outputs": [],
   "source": [
    "#\n",
    "# Input and files references\n",
    "#\n",
    "landsat8_input_dir = os.path.join(cfactor_data_directory, \"raw_data/Landsat8Data\")\n",
    "\n",
    "landsat8_sceneid_list = os.path.join(cfactor_data_directory, \"raw_data/ReferenceFiles_L8-S2/l8-sceneids.txt\")"
   ]
  },
  {
   "cell_type": "markdown",
   "id": "4e618193-6433-4b74-b4ea-0e5a164dec1c",
   "metadata": {},
   "source": [
    "**Defining auxiliary data**"
   ]
  },
  {
   "cell_type": "code",
   "execution_count": null,
   "id": "05116472-a06b-4fda-8df1-d6576a97bdaa",
   "metadata": {},
   "outputs": [],
   "source": [
    "#\n",
    "# Extra: LADS Auxiliary files\n",
    "#\n",
    "lads_auxiliary_data = os.path.join(cfactor_data_directory, \"raw_data/LADS_AuxiliaryData/\")"
   ]
  },
  {
   "cell_type": "markdown",
   "id": "03f053d5-7c71-4ff2-88f5-78c3a0afb851",
   "metadata": {},
   "source": [
    "**Defining output directory**"
   ]
  },
  {
   "cell_type": "code",
   "execution_count": null,
   "id": "bc04e11a-5ae4-43a8-becb-6220f6f8f0c4",
   "metadata": {},
   "outputs": [],
   "source": [
    "derived_data_dir = os.path.join(cfactor_data_directory, \"derived_data\")"
   ]
  },
  {
   "cell_type": "markdown",
   "id": "dd8b0314-355f-457c-9ae1-90c5b4eb9cb8",
   "metadata": {},
   "source": [
    "**Load scene identifiers (Landsat-8/OLI and Sentinel-2/MSI)**"
   ]
  },
  {
   "cell_type": "code",
   "execution_count": null,
   "id": "505f5e39-d248-4d3c-8fc4-04261c0c838e",
   "metadata": {},
   "outputs": [],
   "source": [
    "from cfactor import toolbox"
   ]
  },
  {
   "cell_type": "code",
   "execution_count": null,
   "id": "982ba401-35f2-4606-afae-a6d7c9566b97",
   "metadata": {},
   "outputs": [],
   "source": [
    "#\n",
    "# Landsat-8/OLI Scenes Identifiers\n",
    "#\n",
    "landsat8_sceneids = toolbox.standardize_filename(open(landsat8_sceneid_list).readlines())\n",
    "\n",
    "#\n",
    "# Sentinel-2/MSI Scenes Identifiers\n",
    "#\n",
    "sentinel2_sceneids = toolbox.standardize_filename(open(sentinel2_sceneid_list).readlines())"
   ]
  },
  {
   "cell_type": "markdown",
   "id": "0aa06dc1-5009-4818-9074-bb4847dcc3bf",
   "metadata": {},
   "source": [
    "**Defining output scenes**"
   ]
  },
  {
   "cell_type": "code",
   "execution_count": null,
   "id": "cebb31cd-bb2e-4752-8365-83ff9a0efdfb",
   "metadata": {},
   "outputs": [],
   "source": [
    "import os"
   ]
  },
  {
   "cell_type": "code",
   "execution_count": null,
   "id": "73f1ee69-0ca5-484e-b59d-92689ba7ba66",
   "metadata": {},
   "outputs": [],
   "source": [
    "#\n",
    "# Landsat-8/OLI Scenes\n",
    "#\n",
    "l8_outputs = os.path.join(derived_data_dir, \"l8\")\n",
    "\n",
    "#\n",
    "# Sentinel-2/MSI Scenes\n",
    "#\n",
    "s2_outputs = os.path.join(derived_data_dir, \"s2\")"
   ]
  },
  {
   "cell_type": "markdown",
   "id": "5aeadbb1-6321-4fbb-b478-5c1336d1c4c8",
   "metadata": {},
   "source": [
    "## 2. Atmosphere Correction"
   ]
  },
  {
   "cell_type": "code",
   "execution_count": null,
   "id": "3a885a22-7390-4cb1-bfdc-74d00554c16b",
   "metadata": {},
   "outputs": [],
   "source": [
    "# ToDo: Text"
   ]
  },
  {
   "cell_type": "markdown",
   "id": "cf63e9e6-b36f-4729-a73d-c9c4c5d2a80a",
   "metadata": {},
   "source": [
    "### 2.1. Sen2Cor (Sentinel-2/MSI)"
   ]
  },
  {
   "cell_type": "code",
   "execution_count": null,
   "id": "eea7a4bb-a0e9-4b14-883c-7d806e41004b",
   "metadata": {},
   "outputs": [],
   "source": [
    "from cfactor.surface_reflectance import sen2cor"
   ]
  },
  {
   "cell_type": "markdown",
   "id": "a996644b-01c3-47bc-996d-25582e38718a",
   "metadata": {},
   "source": [
    "**Prepare output directory**"
   ]
  },
  {
   "cell_type": "code",
   "execution_count": null,
   "id": "10790de0-79bb-45f0-b713-4f5722969d26",
   "metadata": {},
   "outputs": [],
   "source": [
    "sen2cor_scene_path = toolbox.prepare_output_directory(s2_outputs, \"sen2cor\")"
   ]
  },
  {
   "cell_type": "markdown",
   "id": "24c8a6cd-7de6-44b4-a881-bb2c5372f6bc",
   "metadata": {},
   "source": [
    "**Apply sen2cor**"
   ]
  },
  {
   "cell_type": "code",
   "execution_count": null,
   "id": "85c75987-0bd2-423d-8edf-bc8f8023ad94",
   "metadata": {},
   "outputs": [],
   "source": [
    "sen2cor(sentinel2_input_dir, sen2cor_scene_path, sentinel2_sceneids)"
   ]
  },
  {
   "cell_type": "markdown",
   "id": "4fdee5a5-8b21-4530-a2c5-d2ca87118e42",
   "metadata": {},
   "source": [
    "**Saving Sen2Cor scene list**"
   ]
  },
  {
   "cell_type": "code",
   "execution_count": null,
   "id": "a94f045f-bfcf-4422-ae44-860bf820c26c",
   "metadata": {},
   "outputs": [],
   "source": [
    "sen2cor_scene_ids = toolbox.filename(os.listdir(sen2cor_scene_path))"
   ]
  },
  {
   "cell_type": "markdown",
   "id": "9a67e324-5f8a-4e23-99d1-9a0deaf623c5",
   "metadata": {},
   "source": [
    "### 2.2. LaSRC (Sentinel-2/MSI)"
   ]
  },
  {
   "cell_type": "code",
   "execution_count": null,
   "id": "556f1392-1cbd-418c-82e6-fbed4d5391f9",
   "metadata": {},
   "outputs": [],
   "source": [
    "from cfactor.surface_reflectance import lasrc"
   ]
  },
  {
   "cell_type": "markdown",
   "id": "2a4caf68-f847-4ddc-a1df-4bf9e20b5438",
   "metadata": {},
   "source": [
    "**Prepare output directory**"
   ]
  },
  {
   "cell_type": "code",
   "execution_count": null,
   "id": "897d00a9-0269-4048-9672-b42420003483",
   "metadata": {},
   "outputs": [],
   "source": [
    "lasrc_scene_path = toolbox.prepare_output_directory(s2_outputs, \"lasrc_sr\")"
   ]
  },
  {
   "cell_type": "markdown",
   "id": "8ac1d77a-b55c-447b-9cd3-9c658b62347f",
   "metadata": {},
   "source": [
    "**Apply LaSRC**"
   ]
  },
  {
   "cell_type": "code",
   "execution_count": null,
   "id": "37a9aa05-dcec-4574-9c0a-bc7765dce82e",
   "metadata": {},
   "outputs": [],
   "source": [
    "lasrc(sentinel2_input_dir, lasrc_scene_path, sentinel2_sceneids, lads_auxiliary_data)"
   ]
  },
  {
   "cell_type": "markdown",
   "id": "d58260cd-93ba-42ef-bf3a-2bb02f1e1f06",
   "metadata": {},
   "source": [
    "**Saving LaSRC scene list**"
   ]
  },
  {
   "cell_type": "code",
   "execution_count": null,
   "id": "0c3b0eb5-1515-4a3a-aced-d209ac876395",
   "metadata": {},
   "outputs": [],
   "source": [
    "lasrc_scene_ids = toolbox.filename(os.listdir(lasrc_scene_path))"
   ]
  }
 ],
 "metadata": {
  "kernelspec": {
   "display_name": "Python 3",
   "language": "python",
   "name": "python3"
  },
  "language_info": {
   "codemirror_mode": {
    "name": "ipython",
    "version": 3
   },
   "file_extension": ".py",
   "mimetype": "text/x-python",
   "name": "python",
   "nbconvert_exporter": "python",
   "pygments_lexer": "ipython3",
   "version": "3.8.8"
  }
 },
 "nbformat": 4,
 "nbformat_minor": 5
}
