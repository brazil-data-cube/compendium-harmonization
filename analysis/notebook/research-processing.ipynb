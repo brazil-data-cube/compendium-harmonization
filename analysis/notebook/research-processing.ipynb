{
 "cells": [
  {
   "cell_type": "markdown",
   "id": "cc3b6f10-8da6-494b-959b-5e6bc9d12f47",
   "metadata": {},
   "source": [
    "<img src=\"figures/icon-512x512-brazildatacube-png.png\" alt=\"Brazil Data Cube logo\" align=\"right\" width=\"172\" />\n",
    "\n",
    "## <span style=\"color:#336699\">Evaluating  Landsat-8  and  Sentinel-2  Nadir  BRDF  Adjusted  Reflectance (NBAR) on South of Brazil through a Reproducible and Replicable Workflow</span>\n",
    "<hr style=\"border:2px solid #0077b9;\">\n",
    "\n",
    "<br/>\n",
    "\n",
    "<div style=\"text-align: center;font-size: 90%;\">\n",
    "    Rennan de Freitas Bezerra Marujo<sup><a href=\"https://orcid.org/0000-0002-0082-9498\"><i class=\"fab fa-lg fa-orcid\" style=\"color: #a6ce39\"></i></a></sup>, Felipe M. Carlos<sup><a href=\"https://orcid.org/0000-0002-3334-4315\"><i class=\"fab fa-lg fa-orcid\" style=\"color: #a6ce39\"></i></a></sup>, Raphael W. Costa<sup><a href=\"#\"><i class=\"fab fa-lg fa-orcid\" style=\"color: #a6ce39\"></i></a></sup>, Carlos A. F. Noronha<sup><a href=\"#\"><i class=\"fab fa-lg fa-orcid\" style=\"color: #a6ce39\"></i></a></sup>, José Guilherme Fronza<sup><a href=\"https://orcid.org/0000-0002-0830-8101\"><i class=\"fab fa-lg fa-orcid\" style=\"color: #a6ce39\"></i></a></sup>, Jeferson de Souza Arcanjo<sup><a href=\"#\"><i class=\"fab fa-lg fa-orcid\" style=\"color: #a6ce39\"></i></a></sup>, Anderson Soares<sup><a href=\"https://orcid.org/0000-0001-6513-2192\"><i class=\"fab fa-lg fa-orcid\" style=\"color: #a6ce39\"></i></a></sup>, Gilberto R. Queiroz<sup><a href=\"https://orcid.org/0000-0001-7534-0219\"><i class=\"fab fa-lg fa-orcid\" style=\"color: #a6ce39\"></i></a></sup>, Karine R. Ferreira<sup><a href=\"https://orcid.org/0000-0003-2656-5504\"><i class=\"fab fa-lg fa-orcid\" style=\"color: #a6ce39\"></i></a></sup>\n",
    "    <br/><br/><br/>\n",
    "    Earth Observation and Geoinformatics Division, National Institute for Space Research (INPE)\n",
    "    <br/>\n",
    "    Avenida dos Astronautas, 1758, Jardim da Granja, São José dos Campos, SP 12227-010, Brazil\n",
    "    <br/><br/>\n",
    "    Contact: <a href=\"mailto:brazildatacube@inpe.br\">brazildatacube@inpe.br</a>\n",
    "    <br/><br/>\n",
    "</div>\n",
    "\n",
    "<br/>\n",
    "\n",
    "<div style=\"text-align: justify;  margin-left: 25%; margin-right: 25%;\">\n",
    "    <b>Abstract.</b>This notebook presents the step-by-step execution of the workflow of the <i>Evaluating  Landsat-8  and  Sentinel-2  Nadir  BRDF  Adjusted  Reflectance (NBAR) on South of Brazil through a Reproducible and Replicable Workflow</i> article.\n",
    "</div>   \n",
    "\n",
    "<br>\n",
    "\n",
    "<div style=\"text-align: justify;  margin-left: 15%; margin-right: 15%;font-size: 75%; border-style: solid; border-color: #0077b9; border-width: 1px; padding: 5px;\">\n",
    "    <b>This Jupyter Notebook is a supplement to the <a href=\"#\">Section 3</a> of the following paper:</b>\n",
    "    <div style=\"margin-left: 10px; margin-right: 10px; margin-top:10px\">\n",
    "      <p> Marujo, R. F.B.; Carlos, F.M.; Costa, R.W.; Noronha, C.A.F.; Arcanjo, J.S.; Fronza, J.G.; Soares, A.R.; Queiroz, G.R.; Ferreira, K.R; 2021. Evaluating  Landsat-8  and  Sentinel-2  Nadir  BRDF  Adjusted  Reflectance (NBAR) on South of Brazil through a Reproducible and Replicable Workflow</p>\n",
    "    </div>\n",
    "</div>"
   ]
  },
  {
   "cell_type": "markdown",
   "id": "f4a93a52-3c42-449b-ab79-39e13d8d11f2",
   "metadata": {},
   "source": [
    "### Comparing Landsat-8/OLI and Sentinel-2/MSI Surface images (SR) and Nadir BRDF Adjusted Reflectance (NBAR).\n",
    "<hr style=\"border:1px solid #0077b9;\">\n",
    "\n",
    "This paper presents the processing workflow used to compare surface reflectance (SR) images from the Landsat-8/OLI and Sentinel-2/MSI. In this workflow, the first step is performing atmospheric correction of the Sentinel-2/MSI images. Afterward, in the second step, the NBAR correction on the Landsat-8/OLI and Sentinel-2/MSI images is done. Finally, after the data are generated, they are used to perform the comparisons presented in the paper.\n",
    "\n",
    "> The codes presented in this notebook are the same ones used for generating the results presented by Marujo *et al.* (2021).\n"
   ]
  },
  {
   "cell_type": "markdown",
   "id": "a0bd72ed-7240-434f-a51c-e2b6c01e437c",
   "metadata": {},
   "source": [
    "### Study Area\n",
    "<hr style=\"border:1px solid #0077b9;\">\n",
    "\n",
    "This study used Sentinel-2/MSI, and Landsat-8/OLI images for the Rio Grande do Sul state region in the south of Brazil. In this region, there is the presence of overlapping Landsat-8/OLI and Sentinel-2/MSI orbits. This overlap is beneficial for the article comparisons since the border of the images, where the overlap occurs, is more affected by view angle variation. In **Figure 1**, the study region is shown, at WRS2 path/rows `223081` and `223082` and at MGRS Granule `22JBM`."
   ]
  },
  {
   "cell_type": "markdown",
   "id": "a6d49d69-2acb-4770-a16d-8887498ac341",
   "metadata": {},
   "source": [
    "<div align=\"center\">\n",
    "  <img src=\"figures/study_area.png\" alt=\"Study Area\" width=\"600px\"/>\n",
    "   \n",
    "  <div align=\"center\">\n",
    "      <b>Figure 1.</b> Study Area\n",
    "  </div>\n",
    "</div>"
   ]
  },
  {
   "cell_type": "markdown",
   "id": "4774f7ec",
   "metadata": {},
   "source": [
    "### 1. Resource configuration\n",
    "<hr style=\"border:1px solid #0077b9;\">"
   ]
  },
  {
   "cell_type": "markdown",
   "id": "4d1a9502",
   "metadata": {},
   "source": [
    "The first step of the Workflow consists in configuring the input directories, images to be processed, auxiliary data and output directories."
   ]
  },
  {
   "cell_type": "code",
   "execution_count": null,
   "id": "2846386c",
   "metadata": {},
   "outputs": [],
   "source": [
    "import os\n",
    "from research_processing import toolbox"
   ]
  },
  {
   "cell_type": "markdown",
   "id": "38fe1b7a",
   "metadata": {},
   "source": [
    "#### 1.1 Configure data directory (with environment variable)"
   ]
  },
  {
   "cell_type": "markdown",
   "id": "fe3c0b1d",
   "metadata": {},
   "source": [
    "Initially, we will configure the workflow base directory. In this Jupyter Notebook, we will set this directory based on the `DATA_DIRECTORY` environment variable, representing the root directory of the **R**esearch **C**ompendium (RC) located on the user's machine.\n",
    "\n",
    "> If you are running this notebook in the Docker environment provided in RC, the directory pointed on the `DATA_DIRECTORY` will be mapped as a Docker volume. Please refer to the [RC documentation](#) provided by Marujo *et al.* (2021) for more information on setting up the environment."
   ]
  },
  {
   "cell_type": "code",
   "execution_count": null,
   "id": "9503366b",
   "metadata": {},
   "outputs": [],
   "source": [
    "data_directory = os.environ.get(\"DATA_DIRECTORY\")\n",
    "data_directory"
   ]
  },
  {
   "cell_type": "markdown",
   "id": "b9c7ec68",
   "metadata": {},
   "source": [
    "#### 1.2 Defining input files and directories for Sentinel-2/MSI data"
   ]
  },
  {
   "cell_type": "markdown",
   "id": "ca4fa6e1",
   "metadata": {},
   "source": [
    "Now, let's define the path to the directory where the `.SAFE` directories with the Sentinel-2 L1C (Level 1 C, Top of Atmosphere) data that will be used are located.\n",
    "\n",
    "> The data used in this study was obtained from [Copernicus Open Access Hub](https://scihub.copernicus.eu/dhus/#/home).\n"
   ]
  },
  {
   "cell_type": "code",
   "execution_count": null,
   "id": "cb12c0ef-bb8f-4ba3-b575-e0f0ad62b589",
   "metadata": {},
   "outputs": [],
   "source": [
    "sentinel2_input_dir = os.path.join(data_directory, \"raw_data/sentinel2_data\")\n",
    "sentinel2_input_dir"
   ]
  },
  {
   "cell_type": "markdown",
   "id": "13d5e645-53a9-4203-b1da-058bd4207d09",
   "metadata": {},
   "source": [
    "In this notebook, the definition of which images are to be used is done through a `txt` file. All the scene ids (.SAFE directory names) to be processed are placed in this file.\n",
    "\n",
    "> The name specified in the `txt` file must be the same as the directory where the Sentinel-2/MSI scenes are located since it will be used as the basis for selecting the scene and loading the data.\n",
    "\n",
    "The code below defines the `txt` file that specifies the Sentinel-2/MSI data used:"
   ]
  },
  {
   "cell_type": "markdown",
   "id": "626e96c8-089e-470b-bceb-92413e9f8e33",
   "metadata": {},
   "source": [
    "<div style=\"text-align: justify;  margin-left: 15%; margin-right: 15%;font-size: 95%; border-style: solid; border-color: #0077b9; border-width: 1px; padding: 5px;\"> \n",
    "    <b>Important note</b>\n",
    "    <div style=\"margin-left: 10px; margin-right: 10px; margin-top:10px\">\n",
    "        <p>If you do not have the file used below, please refer to the <a href=\"#\">RC documentation</a>. In the documentation, instructions are available to help you set up the environment needed to run this notebook.</p>\n",
    "    </div>\n",
    "</div>"
   ]
  },
  {
   "cell_type": "code",
   "execution_count": null,
   "id": "79c53841",
   "metadata": {},
   "outputs": [],
   "source": [
    "sentinel2_sceneid_list = os.path.join(data_directory, \"raw_data/scene_id_list/s2-sceneids.txt\")\n",
    "sentinel2_sceneid_list"
   ]
  },
  {
   "cell_type": "markdown",
   "id": "51c2de9e-f988-4cb2-83ad-64a1c525d70e",
   "metadata": {},
   "source": [
    "With the file defined, we can read it. When doing this reading, some special characters may be present in the file's content. We must remove these characters to avoid problems during the processing steps. So in the code below, the file is loaded, and then its content is used as input to the function `research_processing.toolbox.standardize_filename`, which removes possible special line break characters:"
   ]
  },
  {
   "cell_type": "code",
   "execution_count": null,
   "id": "801e149f-2ee5-44e3-a599-767628223421",
   "metadata": {},
   "outputs": [],
   "source": [
    "sentinel2_sceneids = toolbox.standardize_filename(open(sentinel2_sceneid_list).readlines())\n",
    "sentinel2_sceneids[0:3]  # Showing the first three"
   ]
  },
  {
   "cell_type": "markdown",
   "id": "9bcaf56d",
   "metadata": {},
   "source": [
    "#### 1.3 Defining input files and directories for Landsat-8/OLI steps"
   ]
  },
  {
   "cell_type": "markdown",
   "id": "73b43d0e-c54f-431a-b5a5-69a5c12679ec",
   "metadata": {},
   "source": [
    "As in [Section 1.2](#1.2-Defining-input-files-and-directories-for-Sentinel-2/MSI-data), for the Landsat-8/OLI data, we first define the directory where the directories of the Landsat-8 Collection-2 Level-2 (Surface Reflectance) scenes are stored.\n",
    "\n",
    "> The Landsat-8 Collect-2 Level 2 data used in this work was originally retrieved through the [USGS Earth Explorer](http://earthexplorer.usgs.gov/).\n"
   ]
  },
  {
   "cell_type": "code",
   "execution_count": null,
   "id": "aa001c87-0350-4b68-aee2-1f296f73d7a4",
   "metadata": {},
   "outputs": [],
   "source": [
    "landsat8_input_dir = os.path.join(data_directory, \"raw_data/landsat8_data\")\n",
    "landsat8_input_dir"
   ]
  },
  {
   "cell_type": "markdown",
   "id": "aa3c37e0",
   "metadata": {},
   "source": [
    "To specify what Landsat-8/OLI scenes will be processed, the code below defines the `txt` file that contains the name of each used scene (Directory Name):\n",
    "\n",
    "> The name specified in the `txt` file must be the same as the directory where the Landsat-8/OLI scenes are located since it will be used as the basis for selecting the scene and loading the data."
   ]
  },
  {
   "cell_type": "code",
   "execution_count": null,
   "id": "bb4f6d5a",
   "metadata": {},
   "outputs": [],
   "source": [
    "landsat8_sceneid_list = os.path.join(data_directory, \"raw_data/scene_id_list/l8-sceneids.txt\")\n",
    "landsat8_sceneid_list"
   ]
  },
  {
   "cell_type": "markdown",
   "id": "7ff0c8ad-da87-48ce-869a-608c00185f3e",
   "metadata": {},
   "source": [
    "Now, analogous to the process in [Section 1.2](#1.2-Defining-input-files-and-directories-for-Sentinel-2/MSI-data), the file content will be loaded and then used as input for the `toolbox.standardize_filename` function, removing possible line break characters from the file contents. These special characters cause problems during code execution."
   ]
  },
  {
   "cell_type": "code",
   "execution_count": null,
   "id": "7917e152-78f8-4e59-a195-3f8ce9e274de",
   "metadata": {},
   "outputs": [],
   "source": [
    "landsat8_sceneids = toolbox.standardize_filename(open(landsat8_sceneid_list).readlines())\n",
    "landsat8_sceneids[0:3]  # Showing the first three"
   ]
  },
  {
   "cell_type": "markdown",
   "id": "2fa730d2",
   "metadata": {},
   "source": [
    "#### 1.4 Defining LaSRC auxiliary data"
   ]
  },
  {
   "cell_type": "markdown",
   "id": "048e8f78",
   "metadata": {},
   "source": [
    "The Sentinel-2 L1C will be processed to Surface Reflectance through LaSRC and Sen2cor Atmospheric Correction. However, LaSRC requires a few auxiliary files. We can obtain these auxiliary files from the directory [lasrc_auxiliary/L8/](https://edclpdsftp.cr.usgs.gov/downloads/auxiliaries/lasrc_auxiliary/L8/), provided by the USGS. From this directory, we need all the data to perform the atmospheric correction. The code below defines the path to the directory where this data is stored in the RC:"
   ]
  },
  {
   "cell_type": "markdown",
   "id": "3f06cf59-eb18-4d73-8a26-8d60dd60aec2",
   "metadata": {},
   "source": [
    "<div style=\"text-align: justify;  margin-left: 15%; margin-right: 15%;font-size: 95%; border-style: solid; border-color: #0077b9; border-width: 1px; padding: 5px;\"> \n",
    "    <b>Important note</b>\n",
    "    <div style=\"margin-left: 10px; margin-right: 10px; margin-top:10px\">\n",
    "        <p>Among the files made available in the auxiliary directory are the LADS data which are daily files required to perform the atmosphere correction. This daily frequency makes this directory a considerable size. Therefore, you can acquire only the files that refer to the dates of the scenes you will process.</p>\n",
    "        <p>Only the LADS data from the scenes used in the minimal example are being used in this RC.</p>\n",
    "    </div>\n",
    "</div>"
   ]
  },
  {
   "cell_type": "code",
   "execution_count": null,
   "id": "576e0273",
   "metadata": {},
   "outputs": [],
   "source": [
    "lads_auxiliary_data = os.path.join(data_directory, \"raw_data/lasrc_auxiliary_data/\")\n",
    "lads_auxiliary_data"
   ]
  },
  {
   "cell_type": "markdown",
   "id": "26e2109e",
   "metadata": {},
   "source": [
    "#### 1.5 Defining the base output directory"
   ]
  },
  {
   "cell_type": "markdown",
   "id": "c78bccb8",
   "metadata": {},
   "source": [
    "The results of the processing steps that we will perform next on this notebook, which includes the processed images and the results of the comparisons, will be saved in separate directories, following the structure shown below:\n",
    "\n",
    "```\n",
    "BASE_OUTPUT_DIRECTORY\n",
    "├── l8\n",
    "├── s2\n",
    "└── analysis\n",
    "```\n",
    "\n",
    "Where:\n",
    "\n",
    "1. **l8**: Directory with the processed Landsat-8/OLI data;\n",
    "2. **s2**: Directory with the processed Sentinel-2/MSI datas;\n",
    "3. **analysis**: Directory with the comparisons results.\n",
    "\n",
    "Therefore, it is necessary to define a base directory, which will store all other directories. In the code below, this directory is defined:"
   ]
  },
  {
   "cell_type": "code",
   "execution_count": null,
   "id": "880ff84e",
   "metadata": {},
   "outputs": [],
   "source": [
    "derived_data_dir = os.path.join(data_directory, \"derived_data\")\n",
    "derived_data_dir"
   ]
  },
  {
   "cell_type": "markdown",
   "id": "2c479d4c-ed85-4678-ba36-79b29bf748b1",
   "metadata": {},
   "source": [
    "Finally, let's define the other directories:"
   ]
  },
  {
   "cell_type": "code",
   "execution_count": null,
   "id": "51226d20-8619-4ede-aced-50934d0e77a8",
   "metadata": {},
   "outputs": [],
   "source": [
    "#\n",
    "# Landsat-8/OLI output directory\n",
    "#\n",
    "l8_outputs = os.path.join(derived_data_dir, \"l8\")\n",
    "\n",
    "#\n",
    "# Sentinel-2/MSI output directory\n",
    "#\n",
    "s2_outputs = os.path.join(derived_data_dir, \"s2\")\n",
    "\n",
    "#\n",
    "# Comparison analysis results directory\n",
    "#\n",
    "analysis_outputs = os.path.join(derived_data_dir, \"analysis\")"
   ]
  },
  {
   "cell_type": "markdown",
   "id": "4c1b10a0-46ba-455b-9f92-efd8ece582a8",
   "metadata": {},
   "source": [
    "The next sections will make use of these directories as a basis for storing the generated results."
   ]
  },
  {
   "cell_type": "markdown",
   "id": "8c0a22ab",
   "metadata": {},
   "source": [
    "### 2. Atmosphere Correction\n",
    "<hr style=\"border:1px solid #0077b9;\">"
   ]
  },
  {
   "cell_type": "markdown",
   "id": "220e4a8c",
   "metadata": {},
   "source": [
    "For this study, Landsat-8 images were already acquired as Surface Reflectance products. However, Sentinel-2 images were obtained as L1C (Top of Atmosphere). To compare Sentinel and Landsat-8 first we must process Sentinel-2 to Surface Reflectance. For that we opted for using 2 methods:\n",
    "\n",
    "- `Sen2cor`: is provided by the European Space Agency (ESA) and consist in a processor for Sentinel-2 Level 2A product generation\n",
    "\n",
    "- `LaSRC`: The Landsat 8 Collection 1 Land Surface Reflectance Code (LaSRC) software uses an implementation of the Second Simulation of a Satellite Signal in the Solar Spectrum (6S) atmospheric correction model, to correct the atmospheric effects. It was originally projected to correct Landsat-8 Collection-1 images, but was adapted to also runs Sentinel-2 images.\n",
    "\n",
    "On this section we perform the atmosphere correction with sen2cor."
   ]
  },
  {
   "cell_type": "markdown",
   "id": "08a9887e",
   "metadata": {},
   "source": [
    "#### 2.1. Sentinel-2/MSI (Sen2Cor)"
   ]
  },
  {
   "cell_type": "markdown",
   "id": "1e6612a8",
   "metadata": {},
   "source": [
    "To process the Sentinel-2 L1C images using `sen2cor`, we will use the features implemented in the `research processing` library provided in the article RC. Then, let's import from this library the function `sen2cor`, which performs the atmospheric correction of Sentinel-2/MSI scenes:"
   ]
  },
  {
   "cell_type": "code",
   "execution_count": null,
   "id": "beac3088",
   "metadata": {},
   "outputs": [],
   "source": [
    "from research_processing.surface_reflectance import sen2cor"
   ]
  },
  {
   "cell_type": "markdown",
   "id": "464c5dbf-3924-443a-ba49-33b32de9cb65",
   "metadata": {},
   "source": [
    "<div style=\"text-align: justify;  margin-left: 15%; margin-right: 15%;font-size: 95%; border-style: solid; border-color: #0077b9; border-width: 1px; padding: 5px;\"> \n",
    "    <b>Important note</b>\n",
    "    <div style=\"margin-left: 10px; margin-right: 10px; margin-top:10px\">\n",
    "         <p>If you do not have the <emph>research processing</emph> library in your environment, please, refer to the <a href=\"#\">RC documentation</a> for more information. In the documentation, the technical details of each part of this RC are available, which includes the step-by-step setup of the complete environment for running the codes.</p>\n",
    "    </div>\n",
    "</div>"
   ]
  },
  {
   "cell_type": "markdown",
   "id": "f896d38f",
   "metadata": {},
   "source": [
    "#### 2.1.1 Preparing the sen2cor output directory"
   ]
  },
  {
   "cell_type": "markdown",
   "id": "2477877a",
   "metadata": {},
   "source": [
    "Using the base output directory previously created to store the results generated with Sentinel-2/MSI data, in the code below is defined the directory where the atmospheric correction results will be saved:"
   ]
  },
  {
   "cell_type": "code",
   "execution_count": null,
   "id": "b4c07ce8",
   "metadata": {},
   "outputs": [],
   "source": [
    "sen2cor_dir = toolbox.prepare_output_directory(s2_outputs, \"s2_sen2cor_sr\")\n",
    "sen2cor_dir"
   ]
  },
  {
   "cell_type": "markdown",
   "id": "7d67ef0d",
   "metadata": {},
   "source": [
    "#### 2.1.2 Applying sen2cor"
   ]
  },
  {
   "cell_type": "markdown",
   "id": "48ea397b",
   "metadata": {},
   "source": [
    "Now we can perform the atmosphere correction using `Sen2cor`:\n",
    "\n",
    "> Atmospheric correction using sen2cor can take considerable time. For the production of this notebook, we used a computer with an Intel Xeon processor and 48 GB RAM. In this scenario, the processing took 20 minutes per image."
   ]
  },
  {
   "cell_type": "code",
   "execution_count": null,
   "id": "c47cc838",
   "metadata": {},
   "outputs": [],
   "source": [
    "s2_sen2cor_outputs = sen2cor(sentinel2_input_dir, sen2cor_dir, sentinel2_sceneids)\n",
    "s2_sen2cor_outputs[0:3]  # Showing the first three"
   ]
  },
  {
   "cell_type": "markdown",
   "id": "34e48c8f",
   "metadata": {},
   "source": [
    "#### 2.1.3 Saving Sen2Cor scene list"
   ]
  },
  {
   "cell_type": "markdown",
   "id": "f5963779",
   "metadata": {},
   "source": [
    "Finally, save the name of each of the processed scenes. This step is necessary for two reasons: (I) We will use the names in subsequent steps to determine which Sentinel-2/MSI images with atmospheric correction should be used; (II) The names of the atmospherically corrected scenes are different from the original ones because of the processing date.\n"
   ]
  },
  {
   "cell_type": "code",
   "execution_count": null,
   "id": "08714d34",
   "metadata": {},
   "outputs": [],
   "source": [
    "sen2cor_sceneids = toolbox.filename(os.listdir(sen2cor_dir))\n",
    "sen2cor_sceneids[0:3]  # Showing the first three"
   ]
  },
  {
   "cell_type": "markdown",
   "id": "f3bb790e",
   "metadata": {},
   "source": [
    "### 2.2. Sentinel-2/MSI (LaSRC)"
   ]
  },
  {
   "cell_type": "markdown",
   "id": "40307746",
   "metadata": {},
   "source": [
    "As performed using `Sen2cor`, here we atmospherically correct the Sentinel-2 L1C to produce Surface Reflectance products, but correcting through LaSRC. Then, just as with the `sen2cor` function, we will import the `lasrc` function available in the `research processing` library:"
   ]
  },
  {
   "cell_type": "code",
   "execution_count": null,
   "id": "c49705b9",
   "metadata": {},
   "outputs": [],
   "source": [
    "from research_processing.surface_reflectance import lasrc"
   ]
  },
  {
   "cell_type": "markdown",
   "id": "cd688d7e",
   "metadata": {},
   "source": [
    "#### 2.2.1 Preparing the LaSRC output directory"
   ]
  },
  {
   "cell_type": "markdown",
   "id": "886a1428",
   "metadata": {},
   "source": [
    "As in [Section 2.1.1](#2.1.1-Preparing-the-sen2cor-output-directory), let's create the directory where we will save the Sentinel-2/MSI data corrected with LaSRC:"
   ]
  },
  {
   "cell_type": "code",
   "execution_count": null,
   "id": "07459dcd",
   "metadata": {},
   "outputs": [],
   "source": [
    "lasrc_dir = toolbox.prepare_output_directory(s2_outputs, \"s2_lasrc_sr\")\n",
    "lasrc_dir"
   ]
  },
  {
   "cell_type": "markdown",
   "id": "e699482b",
   "metadata": {},
   "source": [
    "#### 2.2.2 Applying LaSRC"
   ]
  },
  {
   "cell_type": "markdown",
   "id": "a76fe933",
   "metadata": {},
   "source": [
    "Now we can perform the atmosphere correction using `LaSRC`:\n",
    "\n",
    "> Atmospheric correction using sen2cor can take considerable time. For the production of this notebook, we used a computer with an Intel Xeon processor and 48 GB RAM. In this scenario, the processing took 20 minutes per image."
   ]
  },
  {
   "cell_type": "code",
   "execution_count": null,
   "id": "9b50a207",
   "metadata": {},
   "outputs": [],
   "source": [
    "s2_lasrc_outputs = lasrc(sentinel2_input_dir, lasrc_dir, sentinel2_sceneids, lads_auxiliary_data)\n",
    "s2_lasrc_outputs[0:3]  # Showing the first three"
   ]
  },
  {
   "cell_type": "markdown",
   "id": "fa55eadb",
   "metadata": {},
   "source": [
    "#### 2.2.3 Saving LaSRC scene list"
   ]
  },
  {
   "cell_type": "markdown",
   "id": "1ab96851",
   "metadata": {},
   "source": [
    "Using the same approach as in [Section 2.1.3](#2.1.3-Saving-Sen2Cor-scene-list), we will save the name of the scenes that were generated with LaSRC:"
   ]
  },
  {
   "cell_type": "code",
   "execution_count": null,
   "id": "028865a9",
   "metadata": {},
   "outputs": [],
   "source": [
    "lasrc_sceneids = toolbox.filename(os.listdir(lasrc_dir))\n",
    "lasrc_sceneids[0:3]  # Showing the first three"
   ]
  },
  {
   "cell_type": "markdown",
   "id": "9809878c",
   "metadata": {},
   "source": [
    "### 3. NBAR correction\n",
    "<hr style=\"border:1px solid #0077b9;\">"
   ]
  },
  {
   "cell_type": "markdown",
   "id": "00bf9f5a",
   "metadata": {},
   "source": [
    "Remote sensing systems observations are influenced by the Sun-Sensor Geometry Effects, which are described by the Bidirectional Reflectance Distribution Function (BRDF). The surface reflectance measured by an orbital sensor is influenced by changes on the Sun-Sensor geometry due to differences in azimuth and zenith angles. Scattering models can be used to estimate Bidirectional Reflectance Factors (BRFs) as if they were observed in a specific view and sun zenith angles. Nadir BRDF-Adjusted Reflectance (NBAR) products are surface reflectance estimated through a scattering model at nadir (0&deg; view zenith) and a specified solar zenith angle.\n",
    "\n",
    "On this section we perform the NBAR correction on Sentinel-2/MSI (with sen2cor atmosphere correction), Sentinel-2/MSI (with LaSRC atmosphere correction) and Landsat-8/OLI images."
   ]
  },
  {
   "cell_type": "markdown",
   "id": "a80e06ed",
   "metadata": {},
   "source": [
    "#### 3.1. Sentinel-2/MSI (Sen2Cor) NBAR"
   ]
  },
  {
   "cell_type": "markdown",
   "id": "b7bec615-1021-47fd-bfb7-692c92f865fe",
   "metadata": {},
   "source": [
    "To perform the NBAR correction on Sentinel-2/MSI and Landsat-8/OLI images, we will use the features implemented in the `research processing` library provided in the RC of the article. Since NBAR correction can be done for both Sentinel and Landsat images, there are three functions for performing the correction in the `research processing` library, one for each satellite-sensor and atmosphere corrections (LaSRC e Sen2cor). This section will process Sentinel data, so we start by importing the function `s2_sen2cor_nbar`, which applies the NBAR correction to Sentinel-2/MSI scenes. The code below imports this function from the library:"
   ]
  },
  {
   "cell_type": "code",
   "execution_count": null,
   "id": "e7668b12",
   "metadata": {},
   "outputs": [],
   "source": [
    "from research_processing.nbar import s2_sen2cor_nbar"
   ]
  },
  {
   "cell_type": "markdown",
   "id": "26597830",
   "metadata": {},
   "source": [
    "#### 3.1.1 Preparing the Sentinel-2/MSI (Sen2cor) NBAR correction output directory"
   ]
  },
  {
   "cell_type": "markdown",
   "id": "68f8d1f2",
   "metadata": {},
   "source": [
    "The code below defines the output directory for the data generated in the NBAR correction. This output directory will be based on the Sentinel output directory, specified and used in the previous steps to store the generated Sentinel products."
   ]
  },
  {
   "cell_type": "code",
   "execution_count": null,
   "id": "3c95c3e6",
   "metadata": {},
   "outputs": [],
   "source": [
    "s2_sen2cor_nbar_dir = toolbox.prepare_output_directory(s2_outputs, \"s2_sen2cor_nbar\")\n",
    "s2_sen2cor_nbar_dir"
   ]
  },
  {
   "cell_type": "markdown",
   "id": "55b646f1",
   "metadata": {},
   "source": [
    "#### 3.1.2 Generate NBAR for Sentinel-2/MSI (Sen2cor) products"
   ]
  },
  {
   "cell_type": "markdown",
   "id": "36f568a9",
   "metadata": {},
   "source": [
    "Now we can generate the NBAR on the Surface Reflectance products (generated through Sen2cor).\n",
    "\n",
    "> To generate Sentinel-2 NBAR, the function `s2_sen2cor_bar` uses the [s2-angs](https://github.com/brazil-data-cube/s2-angs) python library. Due to that, here, we do not need to call the angle generation explicitly."
   ]
  },
  {
   "cell_type": "code",
   "execution_count": null,
   "id": "47a0eb0c",
   "metadata": {},
   "outputs": [],
   "source": [
    "s2_sen2cor_nbar_outputs = s2_sen2cor_nbar(sen2cor_dir, s2_sen2cor_nbar_dir, sen2cor_sceneids)\n",
    "s2_sen2cor_nbar_outputs[0:3]  # Showing the first three"
   ]
  },
  {
   "cell_type": "markdown",
   "id": "98738f80",
   "metadata": {},
   "source": [
    "#### 3.1.3 Saving Sen2Cor NBAR scene list"
   ]
  },
  {
   "cell_type": "code",
   "execution_count": null,
   "id": "2b42c5a0",
   "metadata": {},
   "outputs": [],
   "source": [
    "s2_sen2cor_nbar_sceneids = toolbox.filename(os.listdir(s2_sen2cor_nbar_dir))\n",
    "s2_sen2cor_nbar_sceneids[0:3]  # Showing the first three"
   ]
  },
  {
   "cell_type": "markdown",
   "id": "d35cf70e",
   "metadata": {},
   "source": [
    "#### 3.2. Sentinel-2/MSI (LaSRC) NBAR\n",
    "\n",
    "<!--  -->\n",
    "\n",
    "The second NBAR correction we will make will be with Sentinel-2/MSI data with LaSRC atmospheric correction. As mentioned earlier in [Section 3.1](#3.1.-Sentinel-2/MSI-(Sen2Cor)-NBAR), the `research processing` library provides three functions for NBAR correction. The first one, presented earlier, corrects Sentinel data generated with Sen2cor. This step will use the second function, named `s2_lasrc_nbar`, which does the NBAR correction on Sentinel data generated with LaSRC.\n",
    "\n",
    "Let's import this function from the `research processing` library:"
   ]
  },
  {
   "cell_type": "code",
   "execution_count": null,
   "id": "f0bce332",
   "metadata": {},
   "outputs": [],
   "source": [
    "from research_processing.nbar import s2_lasrc_nbar"
   ]
  },
  {
   "cell_type": "markdown",
   "id": "3cfbf760",
   "metadata": {},
   "source": [
    "#### 3.2.1 Preparing the Sentinel-2/MSI (LaSRC) NBAR correction output directory\n",
    "\n",
    "The code below defines based on the Sentinel-2/MSI outputs directory, the path where the generated NBAR data will be stored:"
   ]
  },
  {
   "cell_type": "code",
   "execution_count": null,
   "id": "051bf2ac",
   "metadata": {},
   "outputs": [],
   "source": [
    "s2_lasrc_nbar_dir = toolbox.prepare_output_directory(s2_outputs, \"s2_lasrc_nbar\")\n",
    "s2_lasrc_nbar_dir"
   ]
  },
  {
   "cell_type": "markdown",
   "id": "0270a948",
   "metadata": {},
   "source": [
    "#### 3.2.2 Generate NBAR for Sentinel-2 (LaSRC) products"
   ]
  },
  {
   "cell_type": "markdown",
   "id": "cfad20ce",
   "metadata": {},
   "source": [
    "Now we can generate the NBAR on the Surface Reflectance products (generated through LaSRC).\n",
    "\n",
    "> To generate Sentinel-2 NBAR, the function `s2_lasrc_nbar` uses the [s2-angs](https://github.com/brazil-data-cube/s2-angs) python library. Due to that, here, we do not need to call the angle generation explicitly."
   ]
  },
  {
   "cell_type": "code",
   "execution_count": null,
   "id": "0a4edab3",
   "metadata": {},
   "outputs": [],
   "source": [
    "s2_lasrc_nbar_outputs = s2_lasrc_nbar(lasrc_dir, s2_lasrc_nbar_dir, lasrc_sceneids)\n",
    "s2_lasrc_nbar_outputs[0:3]  # Showing the first three"
   ]
  },
  {
   "cell_type": "markdown",
   "id": "5d0d2b8f",
   "metadata": {},
   "source": [
    "#### 3.2.3 Saving LaSRC NBAR scene list"
   ]
  },
  {
   "cell_type": "code",
   "execution_count": null,
   "id": "49a8a9de",
   "metadata": {},
   "outputs": [],
   "source": [
    "s2_lasrc_nbar_sceneids = toolbox.filename(os.listdir(s2_lasrc_nbar_dir))\n",
    "s2_lasrc_nbar_sceneids[0:3]  # Showing the first three"
   ]
  },
  {
   "cell_type": "markdown",
   "id": "8bc1010b",
   "metadata": {},
   "source": [
    "#### 3.3. Landsat-8/OLI NBAR\n",
    "\n",
    "Finally, we will do the last NBAR correction in this Jupyter Notebook, which will be done with the Landsat-8/OLI data. We will use the third NBAR correction function provided in the `research processing` library for this step. This function is named `lc8_nbar`, which is imported from the library in the code below:\n",
    "\n",
    "> In addition to the `lc8_nbar`, the `lc8_generate_angles` function is also imported. Through the [USGS Angle Creation Tool](https://www.usgs.gov/media/files/landsat-8-angles-creation-tools-readme), this function obtains the angles from the Landsat-8/OLI images needed for the NBAR correction."
   ]
  },
  {
   "cell_type": "code",
   "execution_count": null,
   "id": "f19bb930",
   "metadata": {},
   "outputs": [],
   "source": [
    "from research_processing.nbar import lc8_nbar, lc8_generate_angles"
   ]
  },
  {
   "cell_type": "markdown",
   "id": "22b5d970",
   "metadata": {},
   "source": [
    "#### 3.3.1 Preparing the Landsat-8 NBAR correction output directory"
   ]
  },
  {
   "cell_type": "markdown",
   "id": "1de6c5d6",
   "metadata": {},
   "source": [
    "The code below defines the directory where we will store the generated Landsat-8/OLI NBAR data. The definition is based on the Landsat result directory specified in [Section 1.5](#1.5-Defining-the-base-output-directory).\n"
   ]
  },
  {
   "cell_type": "code",
   "execution_count": null,
   "id": "82043d5c",
   "metadata": {},
   "outputs": [],
   "source": [
    "#\n",
    "# Angles\n",
    "#\n",
    "lc8_nbar_angles_dir = toolbox.prepare_output_directory(l8_outputs, \"lc8_nbar_angles\")\n",
    "\n",
    "#\n",
    "# NBAR\n",
    "#\n",
    "lc8_nbar_dir = toolbox.prepare_output_directory(l8_outputs, \"lc8_nbar\")"
   ]
  },
  {
   "cell_type": "markdown",
   "id": "e5ae3428",
   "metadata": {},
   "source": [
    "#### 3.3.2 Generating Landsat-8 Angles for NBAR calculation"
   ]
  },
  {
   "cell_type": "markdown",
   "id": "02e170d4",
   "metadata": {},
   "source": [
    "Having defined the output directory, now, using the `lc8_generate_angles` function, we will generate the angles needed for the NBAR correction:"
   ]
  },
  {
   "cell_type": "code",
   "execution_count": null,
   "id": "eebac943",
   "metadata": {},
   "outputs": [],
   "source": [
    "scene_angles_lc8 = lc8_generate_angles(landsat8_input_dir, lc8_nbar_angles_dir, landsat8_sceneids)\n",
    "scene_angles_lc8"
   ]
  },
  {
   "cell_type": "markdown",
   "id": "058afedf",
   "metadata": {},
   "source": [
    "#### 3.3.3 Generate NBAR for Landsat-8/OLI Surface Reflectance products"
   ]
  },
  {
   "cell_type": "markdown",
   "id": "edf0b407",
   "metadata": {},
   "source": [
    "Now we can generate the NBAR on the Landsat-8/OLI Surface Reflectance products."
   ]
  },
  {
   "cell_type": "code",
   "execution_count": null,
   "id": "ce332426",
   "metadata": {},
   "outputs": [],
   "source": [
    "lc8_nbar_outputs = lc8_nbar(landsat8_input_dir, lc8_nbar_angles_dir, lc8_nbar_dir, landsat8_sceneids)\n",
    "lc8_nbar_outputs[0:3]  # Showing the first three"
   ]
  },
  {
   "cell_type": "markdown",
   "id": "9437c445",
   "metadata": {},
   "source": [
    "#### 3.3.4 Saving Landsat-8/OLI NBAR scene list"
   ]
  },
  {
   "cell_type": "code",
   "execution_count": null,
   "id": "d15d604d",
   "metadata": {},
   "outputs": [],
   "source": [
    "lc8_nbar_scene_ids = toolbox.filename(os.listdir(lc8_nbar_dir))\n",
    "lc8_nbar_scene_ids[0:3]  # Showing the first three"
   ]
  },
  {
   "cell_type": "markdown",
   "id": "1dd13cd6",
   "metadata": {},
   "source": [
    "## 4. Comparison Analysis\n",
    "<hr style=\"border:1px solid #0077b9;\">"
   ]
  },
  {
   "cell_type": "markdown",
   "id": "7c6fde1d",
   "metadata": {},
   "source": [
    "In this section, we will perform comparative analyses between the data generated in the previous sections. This analysis is divided into two steps. In the first step, we will make comparisons considering each sensor individually, where we will compare scenes from the same sensor in the same region on different dates. Then, in the second step, we will make the comparison between Landsat-8 and Sentinel-2 data together.\n",
    "\n",
    "For the first step, in the analysis of the individual sensor, we will consider comparisons in the following data:\n",
    "\n",
    "**Landsat-8**\n",
    "\n",
    "- Surface reflectance;\n",
    "- NBAR.\n",
    "\n",
    "**Sentinel-2 (Sen2cor)**\n",
    "\n",
    "- Surface reflectance;\n",
    "- NBAR.\n",
    "\n",
    "**Sentinel-2 (LaSRC)**\n",
    "\n",
    "- Surface reflectance;\n",
    "- NBAR.\n",
    "\n",
    "As for the analysis between Landsat-8 and Sentinel-2, the following comparisons will be made:\n",
    "\n",
    "**Surface Reflectance**\n",
    "\n",
    "- Landsat-8 x Sentinel-2 (LaSRC);\n",
    "- Landsat-8 x Sentinel-2 (Sen2cor).\n",
    "\n",
    "**NBAR**\n",
    "\n",
    "- Landsat-8 x Sentinel-2 (LaSRC);\n",
    "- Landsat-8 x Sentinel-2 (Sen2Cor).\n",
    "\n",
    "To do that, first we create pairs of images. This pairing uses images close in time, so for Sentinel-2 we assume that images with a 5 day difference can be compared, while Landsat-8 images within a 10 day difference is also aceptable and when comparing both sensor we also use a maximum difference of 5 days.\n",
    "The analysis is performed by comparing the pixel values within images overlap and disconsidering pixels masked as cloud, cloud shadow or snow in any of the images being compared. The comparison is performed band-wise."
   ]
  },
  {
   "cell_type": "markdown",
   "id": "a509f9ec-7f62-4f24-8be5-05a9b1ea8bf4",
   "metadata": {},
   "source": [
    "To perform this step, we will use the functionality contained in the `validation` module of the `research processing` library. From this module, we will import the `validation_funcs` and `validation_routines` sets of functions that have the operations needed to perform the comparison analysis described above."
   ]
  },
  {
   "cell_type": "code",
   "execution_count": null,
   "id": "e86513fd",
   "metadata": {},
   "outputs": [],
   "source": [
    "from research_processing.validation import validation_funcs\n",
    "from research_processing.validation import validation_routines"
   ]
  },
  {
   "cell_type": "markdown",
   "id": "93c4abc5-49e3-4f3a-9ab5-4e8ef0e5fd07",
   "metadata": {},
   "source": [
    "**Research Processing analysis output format**\n",
    "\n",
    "To make the comparison results easier to manipulate and use, the functions implemented in the `research processing` library, imported above, save the results in a `JSON` file with a standard structure. In this way, the analyses performed generate a common format file that we can easily use to manipulate and compare data.\n",
    "\n",
    "The structure of this JSON file generated by the parsing functions is shown below:\n",
    "\n",
    "```json\n",
    "{\n",
    "    \"pair name\": { \n",
    "        \"band name\": {\n",
    "            \"abs_dif_mean\": value of the Absolute Difference Mean,\n",
    "            \"rel_abs_perc_mean\": value of the Relative Absolute Percentage Mean \n",
    "        }\n",
    "    }\n",
    "}\n",
    "```\n",
    "\n",
    "To exemplify the practical use of this structure, below is a `JSON` file resulting from an execution of a comparison function available in the `research processing` library:\n",
    "\n",
    "```json\n",
    "{\n",
    "   \"LC08_L2SP_222081_20171120_20200902_02_T1_x_S2B_MSIL1C_20171119T133209_N0206_R081_T22JBM_20171120T175608.SAFE\":{\n",
    "      \"B2\":{\n",
    "         \"abs_dif_mean\": 45.888021057439516,\n",
    "         \"rel_abs_perc_mean\": 11.514417257935989\n",
    "      },\n",
    "      \"B3\":{\n",
    "         \"abs_dif_mean\": 57.23636659471754,\n",
    "         \"rel_abs_perc_mean\": 7.876673572513256\n",
    "      },\n",
    "      \"B4\":{\n",
    "         \"abs_dif_mean\": 88.04676482895931,\n",
    "         \"rel_abs_perc_mean\": 13.821068590781024\n",
    "      }\n",
    "   }\n",
    "}\n",
    "```\n",
    "\n",
    "See that in a pair, there are the bands that have been compared. In each of these bands, the statistics Absolute Difference Mean (`abs_dif_mean`) and Relative Absolute Percentage Mean (`rel_abs_perc_mean`) resulting from the comparison are available.\n",
    "\n",
    "In the sections below, we will generate the results of the comparisons performed in this JSON format. Following the analyses, we will present a utility function from the `research processing` library, which transforms the `JSON` results from multiple analyses into a `CSV` file organized as tidy data."
   ]
  },
  {
   "cell_type": "markdown",
   "id": "1e64008e",
   "metadata": {},
   "source": [
    "### 4.1. Surface reflectance comparison: Landsat-8"
   ]
  },
  {
   "cell_type": "markdown",
   "id": "cd1e75cb",
   "metadata": {},
   "source": [
    "In this section, the comparison analysis between Landsat-8/OLI Surface Reflectance data is made."
   ]
  },
  {
   "cell_type": "markdown",
   "id": "7a9d1dfa",
   "metadata": {},
   "source": [
    "#### 4.1.1 Searching for image pairs"
   ]
  },
  {
   "cell_type": "markdown",
   "id": "ac321518",
   "metadata": {},
   "source": [
    "Below we will create pairs of images. Pairs of scenes will be formed that have a sensing date difference of at most **10 days**:"
   ]
  },
  {
   "cell_type": "code",
   "execution_count": null,
   "id": "cad56d01",
   "metadata": {},
   "outputs": [],
   "source": [
    "validation_sr_l8_pairs = validation_funcs.search_pairs_l8(landsat8_sceneid_list, day_diff = 10)\n",
    "validation_sr_l8_pairs[0:3]  # Showing the first three"
   ]
  },
  {
   "cell_type": "markdown",
   "id": "a86fa1e5",
   "metadata": {},
   "source": [
    "#### 4.1.2 Preparing the Landsat-8 (SR) analysis output directory"
   ]
  },
  {
   "cell_type": "code",
   "execution_count": null,
   "id": "e6b4df6e",
   "metadata": {},
   "outputs": [],
   "source": [
    "validation_sr_l8_dir = toolbox.prepare_output_directory(analysis_outputs, \"validation_sr_l8\")\n",
    "validation_sr_l8_dir"
   ]
  },
  {
   "cell_type": "markdown",
   "id": "7edfd07c",
   "metadata": {},
   "source": [
    "#### 4.1.3 Defining spectral bands\n",
    "\n",
    "The code below defines the spectral bands that will be used in the validation."
   ]
  },
  {
   "cell_type": "markdown",
   "id": "1230a757-c7a6-450d-b09e-996988e1ba47",
   "metadata": {},
   "source": [
    "<div style=\"text-align: justify;  margin-left: 15%; margin-right: 15%;font-size: 95%; border-style: solid; border-color: #0077b9; border-width: 1px; padding: 5px;\"> \n",
    "    <b>Important note</b>\n",
    "    <div style=\"margin-left: 10px; margin-right: 10px; margin-top:10px\">\n",
    "        <p>In this study, as mentioned, we used Landsat-8 data retrieved from the USGS Earth Explorer. So, the validation function expects the specified band name to be equivalent to the <em>USGS Landsat-8 file band naming pattern</em> (e.g., B1, B2). This naming pattern match is necessary because we will use the name of each of the bands specified to filter the data files. Therefore, if the band name is different from the format defined in the files, the validation function may not find any file to perform the validation.</p>\n",
    "    </div>\n",
    "</div>"
   ]
  },
  {
   "cell_type": "code",
   "execution_count": null,
   "id": "28b7bc71",
   "metadata": {},
   "outputs": [],
   "source": [
    "validation_sr_l8_bands = [\"B2\", \"B3\", \"B4\", \"B5\", \"B6\", \"B7\"]\n",
    "validation_sr_l8_bands"
   ]
  },
  {
   "cell_type": "markdown",
   "id": "79294d25",
   "metadata": {},
   "source": [
    "#### 4.1.4 Comparing the results"
   ]
  },
  {
   "cell_type": "markdown",
   "id": "b6a4ce8b-15e6-432f-8a73-3a2a0bd586a3",
   "metadata": {},
   "source": [
    "With all the definitions made, we will use them to compare each of the pairs of Landsat-8/OLI scenes generated earlier. For this, the function `validation_sr_l8` will be used, which implements the comparison operations for Landsat-8/OLI SR images. The code below performs the validation with this function, using as input the previously defined data."
   ]
  },
  {
   "cell_type": "markdown",
   "id": "23772f0d-25ca-4d3d-8215-80e43285bdab",
   "metadata": {},
   "source": [
    "<div style=\"text-align: justify;  margin-left: 15%; margin-right: 15%;font-size: 95%; border-style: solid; border-color: #0077b9; border-width: 1px; padding: 5px;\"> \n",
    "    <b>Cloud band</b>\n",
    "    <div style=\"margin-left: 10px; margin-right: 10px; margin-top:10px\">\n",
    "        <p>Note that the <em>cloud_dir</em> argument of the <em>validation_nbar_l8</em> function is used to specify the cloud mask directory. The defined directory should contain the same identifiers as the input data (Used to identify the scenes in pairs). The function will look for the directory that has the same identifier as the scene being processed. When it finds it, the function will access the directory and look for the pixel quality file (available in USGS Landsat-8/OLI data) for the scene to be processed. Thus, the cloud mask file must have the same identifier as the images in the input directory with a <em>_QA_PIXEL.TIF</em> postfix. An example file name is shown below:</p>\n",
    "        <p>For the scene with the identifier <em>LC08_L2SP_223081_20171111_20200902_02_T1</em>, the <em>validation_sr_l8</em> function will search for the file <em>LC08_L2SP_223081_20171111_20200902_02_T1_QA_PIXEL.TIF</em>.</p>\n",
    "    </div>\n",
    "</div>"
   ]
  },
  {
   "cell_type": "code",
   "execution_count": null,
   "id": "8aeada1f",
   "metadata": {},
   "outputs": [],
   "source": [
    "validation_routines.validation_sr_l8(\n",
    "    input_dir  = landsat8_input_dir,\n",
    "    cloud_dir  = landsat8_input_dir,\n",
    "    output_dir = validation_sr_l8_dir,\n",
    "    pairs      = validation_sr_l8_pairs, \n",
    "    bands      = validation_sr_l8_bands\n",
    ")"
   ]
  },
  {
   "cell_type": "markdown",
   "id": "c6c44391-832e-4d70-a6a1-dc98f0992d5e",
   "metadata": {},
   "source": [
    "<hr>"
   ]
  },
  {
   "cell_type": "markdown",
   "id": "f90377f9-eea1-4791-a3b8-ddcb38da4a1b",
   "metadata": {},
   "source": [
    "The JSON file with the analysis results is available in the directory defined by the variable `validation_sr_l8_dir`:"
   ]
  },
  {
   "cell_type": "code",
   "execution_count": null,
   "id": "52f51b13-a8ac-4fd4-8a6f-4deff6d9e6e4",
   "metadata": {},
   "outputs": [],
   "source": [
    "os.listdir(validation_sr_l8_dir)"
   ]
  },
  {
   "cell_type": "markdown",
   "id": "4701ecae",
   "metadata": {},
   "source": [
    "### 4.2. NBAR comparison: Landsat-8"
   ]
  },
  {
   "cell_type": "markdown",
   "id": "2702bfc1",
   "metadata": {},
   "source": [
    "In this section, the comparison analysis between Landsat-8/OLI NBAR data is made."
   ]
  },
  {
   "cell_type": "markdown",
   "id": "459bfe45",
   "metadata": {},
   "source": [
    "#### 4.2.1 Searching for image pairs"
   ]
  },
  {
   "cell_type": "markdown",
   "id": "cb15c954",
   "metadata": {},
   "source": [
    "Below we will create pairs of images. Pairs of scenes will be formed that have a sensing date difference of at most **10 days**:"
   ]
  },
  {
   "cell_type": "code",
   "execution_count": null,
   "id": "643d75c1",
   "metadata": {},
   "outputs": [],
   "source": [
    "validation_nbar_l8_pairs = validation_funcs.search_pairs_l8(landsat8_sceneid_list, day_diff = 10)\n",
    "validation_nbar_l8_pairs[0:3]  # Showing the first three"
   ]
  },
  {
   "cell_type": "markdown",
   "id": "797d8455",
   "metadata": {},
   "source": [
    "#### 4.2.2 Preparing the Landsat-8 (NBAR) analysis output directory"
   ]
  },
  {
   "cell_type": "code",
   "execution_count": null,
   "id": "c6fdc1c3",
   "metadata": {},
   "outputs": [],
   "source": [
    "validation_nbar_l8_dir = toolbox.prepare_output_directory(analysis_outputs, \"validation_nbar_l8\")\n",
    "validation_nbar_l8_dir"
   ]
  },
  {
   "cell_type": "markdown",
   "id": "4611f9d8",
   "metadata": {},
   "source": [
    "#### 4.2.3 Defining spectral bands\n",
    "\n",
    "The code below defines the spectral bands that will be used in the validation."
   ]
  },
  {
   "cell_type": "markdown",
   "id": "608a1d94-c0f2-4c5b-a1f6-a0f4eca312f1",
   "metadata": {},
   "source": [
    "<div style=\"text-align: justify;  margin-left: 15%; margin-right: 15%;font-size: 95%; border-style: solid; border-color: #0077b9; border-width: 1px; padding: 5px;\"> \n",
    "    <b>Important note</b>\n",
    "    <div style=\"margin-left: 10px; margin-right: 10px; margin-top:10px\">\n",
    "        <p>In this study, as mentioned, we used Landsat-8 data retrieved from the USGS Earth Explorer. So, the validation function expects the specified band name to be equivalent to the <em>USGS Landsat-8 file band naming pattern</em> (e.g., B1, B2). This naming pattern match is necessary because we will use the name of each of the bands specified to filter the data files. Therefore, if the band name is different from the format defined in the files, the validation function may not find any file to perform the validation.</p>\n",
    "    </div>\n",
    "</div>"
   ]
  },
  {
   "cell_type": "code",
   "execution_count": null,
   "id": "4e6549e3",
   "metadata": {},
   "outputs": [],
   "source": [
    "validation_nbar_l8_bands = [\"B2\", \"B3\", \"B4\", \"B5\", \"B6\", \"B7\"]\n",
    "validation_nbar_l8_bands"
   ]
  },
  {
   "cell_type": "markdown",
   "id": "daefa4f3",
   "metadata": {},
   "source": [
    "#### 4.2.4 Comparing the results\n",
    "\n",
    "With all the definitions made, we will use them to compare each of the pairs of Landsat-8/OLI scenes generated earlier. For this, the function `validation_nbar_l8` will be used, which implements the comparison operations for Landsat-8/OLI NBAR corrected images. The code below performs the validation with this function, using as input the previously defined data."
   ]
  },
  {
   "cell_type": "markdown",
   "id": "7f2c6e14-11ea-4af3-a3a2-8024f236ba22",
   "metadata": {},
   "source": [
    "<div style=\"text-align: justify;  margin-left: 15%; margin-right: 15%;font-size: 95%; border-style: solid; border-color: #0077b9; border-width: 1px; padding: 5px;\"> \n",
    "    <b>Cloud band</b>\n",
    "    <div style=\"margin-left: 10px; margin-right: 10px; margin-top:10px\">\n",
    "        <p>Note that the <em>cloud_dir</em> argument of the <em>validation_nbar_l8</em> function is used to specify the cloud mask directory. The defined directory should contain the same identifiers as the input data (Used to identify the scenes in pairs). The function will look for the directory that has the same identifier as the scene being processed. When it finds it, the function will access the directory and look for the pixel quality file (available in USGS Landsat-8/OLI data) for the scene to be processed. Thus, the cloud mask file must have the same identifier as the images in the input directory with a <em>_QA_PIXEL.TIF</em> postfix. An example file name is shown below:</p>\n",
    "        <p>For the scene with the identifier <em>LC08_L2SP_223081_20171111_20200902_02_T1</em>, the <em>validation_sr_l8</em> function will search for the file <em>LC08_L2SP_223081_20171111_20200902_02_T1_QA_PIXEL.TIF</em>.</p>\n",
    "    </div>\n",
    "</div>"
   ]
  },
  {
   "cell_type": "code",
   "execution_count": null,
   "id": "61238b23",
   "metadata": {},
   "outputs": [],
   "source": [
    "validation_routines.validation_nbar_l8(\n",
    "    input_dir  = lc8_nbar_dir,\n",
    "    cloud_dir  = landsat8_input_dir,\n",
    "    output_dir = validation_nbar_l8_dir,\n",
    "    pairs      = validation_nbar_l8_pairs,\n",
    "    bands      = validation_nbar_l8_bands\n",
    ")"
   ]
  },
  {
   "cell_type": "markdown",
   "id": "4ff96306-c891-47d2-a32f-4de10c8a1388",
   "metadata": {},
   "source": [
    "<hr>"
   ]
  },
  {
   "cell_type": "markdown",
   "id": "5a107982-4499-40d9-90ec-2f0a9977b63a",
   "metadata": {},
   "source": [
    "The JSON file with the analysis results is available in the directory defined by the variable `validation_nbar_l8_dir`:"
   ]
  },
  {
   "cell_type": "code",
   "execution_count": null,
   "id": "22b32aa4-14a8-48b2-b99f-676a199b4086",
   "metadata": {},
   "outputs": [],
   "source": [
    "os.listdir(validation_nbar_l8_dir)"
   ]
  },
  {
   "cell_type": "markdown",
   "id": "65e9680b",
   "metadata": {},
   "source": [
    "### 4.3. Surface reflectance comparison: Sentinel-2 (Sen2Cor)"
   ]
  },
  {
   "cell_type": "markdown",
   "id": "12f29ef4",
   "metadata": {},
   "source": [
    "In this section, the comparison analysis between Sentinel-2/MSI Surface Reflectance (with Sen2cor correction) data is made."
   ]
  },
  {
   "cell_type": "markdown",
   "id": "d8d12400",
   "metadata": {},
   "source": [
    "#### 4.3.1 Searching for image pairs"
   ]
  },
  {
   "cell_type": "markdown",
   "id": "b8c8f9e7",
   "metadata": {},
   "source": [
    "Below we will create pairs of images. Pairs of scenes will be formed that have a sensing date difference of at most **5 days**:"
   ]
  },
  {
   "cell_type": "code",
   "execution_count": null,
   "id": "05fa2031",
   "metadata": {},
   "outputs": [],
   "source": [
    "validation_sr_s2_sen2cor_pairs = validation_funcs.search_pairs_s2(sentinel2_sceneid_list, day_diff=5)\n",
    "validation_sr_s2_sen2cor_pairs[0:3]  # Showing the first three"
   ]
  },
  {
   "cell_type": "markdown",
   "id": "632462d7",
   "metadata": {},
   "source": [
    "#### 4.3.2 Preparing the Sentinel-2 (Sen2cor) analysis output directory"
   ]
  },
  {
   "cell_type": "code",
   "execution_count": null,
   "id": "c72a303e",
   "metadata": {},
   "outputs": [],
   "source": [
    "validation_sr_s2_sen2cor_dir = toolbox.prepare_output_directory(analysis_outputs, \"validation_sr_s2_sen2cor\")\n",
    "validation_sr_s2_sen2cor_dir"
   ]
  },
  {
   "cell_type": "markdown",
   "id": "23b7d0fb",
   "metadata": {},
   "source": [
    "#### 4.3.3 Defining spectral bands\n",
    "\n",
    "The code below defines the spectral bands that will be used in the validation. We will split the bands definitions by their spatial resolution (10m and 20m)."
   ]
  },
  {
   "cell_type": "markdown",
   "id": "52f484ab-98ed-41e3-9cf2-40b91e2b6a93",
   "metadata": {},
   "source": [
    "<div style=\"text-align: justify;  margin-left: 15%; margin-right: 15%;font-size: 95%; border-style: solid; border-color: #0077b9; border-width: 1px; padding: 5px;\"> \n",
    "    <b>Important note</b>\n",
    "    <div style=\"margin-left: 10px; margin-right: 10px; margin-top:10px\">\n",
    "        <p>In this study, as mentioned, we used Sentinel-2 data retrieved from the Copernicus Open Access Hub. So, the validation function expects the specified band name to be equivalent to the <em>ESA Sentinel-2 .SAFE file band naming pattern</em> (e.g., B01, B02). This naming pattern match is required because we will use the name of each of the bands specified to filter the data files. Therefore, if the band name is different from the format defined in the files, the validation function may not find any file to perform the validation.</p>\n",
    "    </div>\n",
    "</div>"
   ]
  },
  {
   "cell_type": "markdown",
   "id": "d54a3f71-8b82-4c44-a2a4-c3dcd25e95bd",
   "metadata": {},
   "source": [
    "**Bands (10m)**"
   ]
  },
  {
   "cell_type": "code",
   "execution_count": null,
   "id": "86fa2a5d",
   "metadata": {},
   "outputs": [],
   "source": [
    "validation_sr_s2_sen2cor_bands10m = [\"B02\", \"B03\", \"B04\", \"B08\"]\n",
    "validation_sr_s2_sen2cor_bands10m"
   ]
  },
  {
   "cell_type": "markdown",
   "id": "a09b60a2",
   "metadata": {},
   "source": [
    "**Bands (20m)**"
   ]
  },
  {
   "cell_type": "code",
   "execution_count": null,
   "id": "c0e9292e",
   "metadata": {},
   "outputs": [],
   "source": [
    "validation_sr_s2_sen2cor_bands20m = [\"B8A\", \"B11\", \"B12\"]\n",
    "validation_sr_s2_sen2cor_bands20m"
   ]
  },
  {
   "cell_type": "markdown",
   "id": "7d7b36d2",
   "metadata": {},
   "source": [
    "#### 4.3.4 Comparing the results\n",
    "\n",
    "Now, we will use the definitions made above to compare each Sentinel-2/MSI scene pair generated. For this, the function `validation_sr_s2_sen2cor` will be used, which implements the comparison operations for Sentinel-2/MSI SR images, corrected with Sen2cor. The code below performs the validation with this function, using as input the previously defined data."
   ]
  },
  {
   "cell_type": "markdown",
   "id": "806e7a23-0534-4789-9bf8-eef64208509d",
   "metadata": {},
   "source": [
    "<div style=\"text-align: justify;  margin-left: 15%; margin-right: 15%;font-size: 95%; border-style: solid; border-color: #0077b9; border-width: 1px; padding: 5px;\"> \n",
    "    <b>Cloud band</b>\n",
    "    <div style=\"margin-left: 10px; margin-right: 10px; margin-top:10px\">\n",
    "        <p>Note that the <em>cloud_dir</em> argument of the <em>validation_sr_s2_sen2cor</em> function is used to specify the cloud mask directory. In the research processing library, is assumed that the <em>cloud_dir</em> is a directory with the Sen2cor results. To do this, the <em>validation_sr_s2_sen2cor</em> function will search on the <em>cloud_dir</em> directory defined, the identifier of each of the scenes. Since the naming pattern of the sen2cor results is different from those defined in the input data (Used to identify the scenes in pairs), the function will automatically convert the names so that they are equivalent. Upon finding the directory, the function access it and use the available Scene Classification Map (SCL) file to compose the cloud mask</p>\n",
    "    </div>\n",
    "</div>"
   ]
  },
  {
   "cell_type": "code",
   "execution_count": null,
   "id": "a9283815",
   "metadata": {},
   "outputs": [],
   "source": [
    "validation_routines.validation_sr_s2_sen2cor(\n",
    "    input_dir  = sen2cor_dir,\n",
    "    cloud_dir  = sen2cor_dir,\n",
    "    output_dir = validation_sr_s2_sen2cor_dir,\n",
    "    pairs      = validation_sr_s2_sen2cor_pairs,\n",
    "    bands10m   = validation_sr_s2_sen2cor_bands10m,\n",
    "    bands20m   = validation_sr_s2_sen2cor_bands20m\n",
    ")"
   ]
  },
  {
   "cell_type": "markdown",
   "id": "eaf098ab-5735-4283-a787-339cd0dcb292",
   "metadata": {},
   "source": [
    "<hr>"
   ]
  },
  {
   "cell_type": "markdown",
   "id": "c8b84496-d302-49d4-bcb1-8a14c4edc600",
   "metadata": {},
   "source": [
    "The JSON file with the analysis results is available in the directory defined by the variable `validation_sr_s2_sen2cor_dir`:"
   ]
  },
  {
   "cell_type": "code",
   "execution_count": null,
   "id": "994f7ce5-5132-4b46-905b-23ad89aaca30",
   "metadata": {},
   "outputs": [],
   "source": [
    "os.listdir(validation_sr_s2_sen2cor_dir)"
   ]
  },
  {
   "cell_type": "markdown",
   "id": "fd020646",
   "metadata": {},
   "source": [
    "### 4.4. NBAR comparison: Sentinel-2 (Sen2Cor)"
   ]
  },
  {
   "cell_type": "markdown",
   "id": "e29f780e",
   "metadata": {},
   "source": [
    "In this section, the comparison analysis between Sentinel-2/MSI NBAR data is made."
   ]
  },
  {
   "cell_type": "markdown",
   "id": "770a79ed",
   "metadata": {},
   "source": [
    "#### 4.4.1 Searching for image pairs"
   ]
  },
  {
   "cell_type": "markdown",
   "id": "dcd84fae",
   "metadata": {},
   "source": [
    "Below we will create pairs of images. Pairs of scenes will be formed that have a sensing date difference of at most **5 days**:"
   ]
  },
  {
   "cell_type": "code",
   "execution_count": null,
   "id": "ef3fddb9",
   "metadata": {},
   "outputs": [],
   "source": [
    "validation_nbar_s2_sen2cor_pairs = validation_funcs.search_pairs_s2(sentinel2_sceneid_list, day_diff=5)\n",
    "validation_nbar_s2_sen2cor_pairs[0:3]  # Showing the first three"
   ]
  },
  {
   "cell_type": "markdown",
   "id": "653d1b64",
   "metadata": {},
   "source": [
    "#### 4.4.2 Preparing the Sentinel-2/MSI NBAR (Sen2cor) analysis output directory"
   ]
  },
  {
   "cell_type": "code",
   "execution_count": null,
   "id": "7f675a60",
   "metadata": {},
   "outputs": [],
   "source": [
    "validation_nbar_s2_sen2cor_dir = toolbox.prepare_output_directory(analysis_outputs, \"validation_nbar_s2_sen2cor\")\n",
    "validation_nbar_s2_sen2cor_dir"
   ]
  },
  {
   "cell_type": "markdown",
   "id": "7fe140e1",
   "metadata": {},
   "source": [
    "#### 4.4.3 Defining spectral bands\n",
    "\n",
    "The code below defines the spectral bands that will be used in the validation. We will split the bands definitions by their spatial resolution (10m and 20m)."
   ]
  },
  {
   "cell_type": "markdown",
   "id": "01af2102-ffd0-4a05-98c3-903b109bc176",
   "metadata": {},
   "source": [
    "<div style=\"text-align: justify;  margin-left: 15%; margin-right: 15%;font-size: 95%; border-style: solid; border-color: #0077b9; border-width: 1px; padding: 5px;\"> \n",
    "    <b>Important note</b>\n",
    "    <div style=\"margin-left: 10px; margin-right: 10px; margin-top:10px\">\n",
    "        <p>In this study, as mentioned, we used Sentinel-2 data retrieved from the Copernicus Open Access Hub. So, the validation function expects the specified band name to be equivalent to the <em>ESA Sentinel-2 .SAFE file band naming pattern</em> (e.g., B01, B02). This naming pattern match is required because we will use the name of each of the bands specified to filter the data files. Therefore, if the band name is different from the format defined in the files, the validation function may not find any file to perform the validation.</p>\n",
    "    </div>\n",
    "</div>"
   ]
  },
  {
   "cell_type": "markdown",
   "id": "12814eed-6a35-485d-aa45-400bbee383cb",
   "metadata": {},
   "source": [
    "**Bands (10m)**"
   ]
  },
  {
   "cell_type": "code",
   "execution_count": null,
   "id": "25d48354",
   "metadata": {},
   "outputs": [],
   "source": [
    "validation_nbar_s2_sen2cor_bands10m = [\"B02\", \"B03\", \"B04\", \"B08\"]\n",
    "validation_nbar_s2_sen2cor_bands10m"
   ]
  },
  {
   "cell_type": "markdown",
   "id": "c210730f",
   "metadata": {},
   "source": [
    "**Bands (20m)**"
   ]
  },
  {
   "cell_type": "code",
   "execution_count": null,
   "id": "7857d71a",
   "metadata": {},
   "outputs": [],
   "source": [
    "validation_nbar_s2_sen2cor_bands20m = [\"B8A\", \"B11\", \"B12\"]\n",
    "validation_nbar_s2_sen2cor_bands20m"
   ]
  },
  {
   "cell_type": "markdown",
   "id": "d963837f",
   "metadata": {},
   "source": [
    "#### 4.4.4 Comparing the results\n",
    "\n",
    "Now, we will use the definitions made above to compare each Sentinel-2/MSI NBAR pair generated. For this, the function `validation_nbar_s2_sen2cor` will be used, which implements the comparison operations for Sentinel-2/MSI NBAR images, corrected with Sen2cor. The code below performs the validation with this function, using as input the previously defined data.\n"
   ]
  },
  {
   "cell_type": "markdown",
   "id": "e517fb73-5c4d-4a91-bb89-5a16bd7524c2",
   "metadata": {},
   "source": [
    "<div style=\"text-align: justify;  margin-left: 15%; margin-right: 15%;font-size: 95%; border-style: solid; border-color: #0077b9; border-width: 1px; padding: 5px;\"> \n",
    "    <b>Cloud band</b>\n",
    "    <div style=\"margin-left: 10px; margin-right: 10px; margin-top:10px\">\n",
    "        <p>Note that the <em>cloud_dir</em> argument of the <em>validation_nbar_s2_sen2cor</em> function is used to specify the cloud mask directory. In the research processing library, is assumed that the <em>cloud_dir</em> is a directory with the Sen2cor results. To do this, the <em>validation_nbar_s2_sen2cor</em> function will search on the <em>cloud_dir</em> directory defined, the identifier of each of the scenes. Since the naming pattern of the sen2cor results is different from those defined in the input data (Used to identify the scenes in pairs), the function will automatically convert the names so that they are equivalent. Upon finding the directory, the function access it and use the available Scene Classification Map (SCL) file to compose the cloud mask</p>\n",
    "    </div>\n",
    "</div>"
   ]
  },
  {
   "cell_type": "code",
   "execution_count": null,
   "id": "7732261d",
   "metadata": {},
   "outputs": [],
   "source": [
    "validation_routines.validation_nbar_s2_sen2cor(\n",
    "    input_dir  = s2_sen2cor_nbar_dir,\n",
    "    cloud_dir  = sen2cor_dir,\n",
    "    output_dir = validation_nbar_s2_sen2cor_dir,\n",
    "    pairs      = validation_nbar_s2_sen2cor_pairs,\n",
    "    bands10m   = validation_nbar_s2_sen2cor_bands10m,\n",
    "    bands20m   = validation_nbar_s2_sen2cor_bands20m\n",
    ")"
   ]
  },
  {
   "cell_type": "markdown",
   "id": "2e573f1a-c74d-4c28-bafc-ffc640b6c806",
   "metadata": {},
   "source": [
    "<hr>"
   ]
  },
  {
   "cell_type": "markdown",
   "id": "3abdeee2-8688-46ad-9d31-33d083008ebe",
   "metadata": {},
   "source": [
    "The JSON file with the analysis results is available in the directory defined by the variable `validation_nbar_s2_sen2cor_dir`:"
   ]
  },
  {
   "cell_type": "code",
   "execution_count": null,
   "id": "8ee42dc8-27a3-4ee8-9786-9300854ceabe",
   "metadata": {},
   "outputs": [],
   "source": [
    "os.listdir(validation_nbar_s2_sen2cor_dir)"
   ]
  },
  {
   "cell_type": "markdown",
   "id": "1d3709ab",
   "metadata": {},
   "source": [
    "### 4.5. Surface reflectance comparison: Sentinel-2 (LaSRC)\n"
   ]
  },
  {
   "cell_type": "markdown",
   "id": "a15fdd6b",
   "metadata": {},
   "source": [
    "In this section, the comparison analysis between Sentinel-2/MSI Surface Reflectance (with LaSRC correction) data is made."
   ]
  },
  {
   "cell_type": "markdown",
   "id": "ed68da11",
   "metadata": {},
   "source": [
    "#### 4.5.1 Searching for image pairs"
   ]
  },
  {
   "cell_type": "markdown",
   "id": "019e389b",
   "metadata": {},
   "source": [
    "Below we will create pairs of images. Pairs of scenes will be formed that have a sensing date difference of at most **5 days**:"
   ]
  },
  {
   "cell_type": "code",
   "execution_count": null,
   "id": "1fec5416",
   "metadata": {},
   "outputs": [],
   "source": [
    "validation_sr_s2_lasrc_pairs = validation_funcs.search_pairs_s2(sentinel2_sceneid_list, day_diff=5)\n",
    "validation_sr_s2_lasrc_pairs[0:3]  # Showing the first three"
   ]
  },
  {
   "cell_type": "markdown",
   "id": "148b3309",
   "metadata": {},
   "source": [
    "#### 4.5.2 Preparing the Sentinel-2/MSI Surface Reflectance (Sen2cor) analysis output directory"
   ]
  },
  {
   "cell_type": "code",
   "execution_count": null,
   "id": "0f57fc53",
   "metadata": {},
   "outputs": [],
   "source": [
    "validation_sr_s2_lasrc_dir = toolbox.prepare_output_directory(analysis_outputs, \"validation_sr_s2_lasrc\")\n",
    "validation_sr_s2_lasrc_dir"
   ]
  },
  {
   "cell_type": "markdown",
   "id": "3e00ae2d",
   "metadata": {},
   "source": [
    "#### 4.5.3 Defining spectral bands\n",
    "\n",
    "The code below defines the spectral bands that will be used in the validation."
   ]
  },
  {
   "cell_type": "markdown",
   "id": "0c3f5c4a-46d2-45c4-9275-588c4e77349c",
   "metadata": {},
   "source": [
    "<div style=\"text-align: justify;  margin-left: 15%; margin-right: 15%;font-size: 95%; border-style: solid; border-color: #0077b9; border-width: 1px; padding: 5px;\"> \n",
    "    <b>Important note</b>\n",
    "    <div style=\"margin-left: 10px; margin-right: 10px; margin-top:10px\">\n",
    "        <p>Unlike the previous analyses involving Sentinel-2/MSI data, for the comparison using the SR data generated by the LaSRC, one must specify the name of the bands following the <em>name pattern used by the LaSRC</em> (e.g., sr_band1, sr_band2). As already specified in the previous cases, using this specific pattern is necessary so that the validation function can correctly identify the files that will be used.</p>\n",
    "    </div>\n",
    "</div>"
   ]
  },
  {
   "cell_type": "code",
   "execution_count": null,
   "id": "e8c9a7f6",
   "metadata": {},
   "outputs": [],
   "source": [
    "validation_sr_s2_lasrc_bands = [\"sr_band2\", \"sr_band3\", \"sr_band4\", \"sr_band8\", \"sr_band8a\", \"sr_band11\", \"sr_band12\"]\n",
    "validation_sr_s2_lasrc_bands"
   ]
  },
  {
   "cell_type": "markdown",
   "id": "bddfebcd",
   "metadata": {},
   "source": [
    "#### 4.5.4 Comparing the results\n",
    "\n",
    "Now, we will use the definitions made above to compare each Sentinel-2/MSI SR pair generated. For this, the function `validation_sr_s2_lasrc` will be used, which implements the comparison operations for Sentinel-2/MSI SR images, corrected with LaSRC. The code below performs the validation with this function, using as input the previously defined data.\n"
   ]
  },
  {
   "cell_type": "markdown",
   "id": "5c115e4d-e5f7-41fb-8edb-2aec5b62cdb2",
   "metadata": {},
   "source": [
    "<div style=\"text-align: justify;  margin-left: 15%; margin-right: 15%;font-size: 95%; border-style: solid; border-color: #0077b9; border-width: 1px; padding: 5px;\"> \n",
    "    <b>Cloud band</b>\n",
    "    <div style=\"margin-left: 10px; margin-right: 10px; margin-top:10px\">\n",
    "        <p>Note that the <em>cloud_dir</em> argument of the <em>validation_sr_s2_lasrc</em> function is used to specify the cloud mask directory. In the research processing library, is assumed that the <em>cloud_dir</em> is a directory with the Sen2cor results. To do this, the <em>validation_sr_s2_lasrc</em> function will search on the <em>cloud_dir</em> directory defined, the identifier of each of the scenes. Since the naming pattern of the sen2cor results is different from those defined in the input data (Used to identify the scenes in pairs), the function will automatically convert the names so that they are equivalent. Upon finding the directory, the function access it and use the available Scene Classification Map (SCL) file to compose the cloud mask</p>\n",
    "    </div>\n",
    "</div>"
   ]
  },
  {
   "cell_type": "code",
   "execution_count": null,
   "id": "3dffd184",
   "metadata": {},
   "outputs": [],
   "source": [
    "validation_routines.validation_sr_s2_lasrc(\n",
    "    input_dir  = lasrc_dir,\n",
    "    cloud_dir  = sen2cor_dir,\n",
    "    output_dir = validation_sr_s2_lasrc_dir,\n",
    "    pairs      = validation_sr_s2_lasrc_pairs,\n",
    "    bands      = validation_sr_s2_lasrc_bands\n",
    ")"
   ]
  },
  {
   "cell_type": "markdown",
   "id": "ba08f666-93a5-42f0-a81e-e81cf4adc7c2",
   "metadata": {},
   "source": [
    "<hr>"
   ]
  },
  {
   "cell_type": "markdown",
   "id": "1b487a1d-7ec0-4571-9ea0-639b5d88f99b",
   "metadata": {},
   "source": [
    "The JSON file with the analysis results is available in the directory defined by the variable `validation_sr_s2_lasrc_dir`:"
   ]
  },
  {
   "cell_type": "code",
   "execution_count": null,
   "id": "071489c4-d199-469e-a9fc-70ced6664669",
   "metadata": {},
   "outputs": [],
   "source": [
    "os.listdir(validation_sr_s2_lasrc_dir)"
   ]
  },
  {
   "cell_type": "markdown",
   "id": "375be572",
   "metadata": {},
   "source": [
    "### 4.6. NBAR comparison: Sentinel-2 (LaSRC)"
   ]
  },
  {
   "cell_type": "markdown",
   "id": "4aa31bf3",
   "metadata": {},
   "source": [
    "In this section, the comparison analysis between Sentinel-2/MSI NBAR (with LaSRC correction) data is made."
   ]
  },
  {
   "cell_type": "markdown",
   "id": "1432843e",
   "metadata": {},
   "source": [
    "#### 4.6.1 Searching for image pairs"
   ]
  },
  {
   "cell_type": "markdown",
   "id": "0f763057",
   "metadata": {},
   "source": [
    "Below we will create pairs of images. Pairs of scenes will be formed that have a sensing date difference of at most **5 days**:"
   ]
  },
  {
   "cell_type": "code",
   "execution_count": null,
   "id": "69a6f42b",
   "metadata": {},
   "outputs": [],
   "source": [
    "validation_nbar_s2_lasrc_pairs = validation_funcs.search_pairs_s2(sentinel2_sceneid_list, day_diff=5)\n",
    "validation_nbar_s2_lasrc_pairs[0:3]  # Showing the first three"
   ]
  },
  {
   "cell_type": "markdown",
   "id": "92fafcf7",
   "metadata": {},
   "source": [
    "#### 4.6.2 Preparing the Sentinel-2/MSI NBAR (LaSRC) analysis output directory"
   ]
  },
  {
   "cell_type": "code",
   "execution_count": null,
   "id": "cb4dbdaf",
   "metadata": {},
   "outputs": [],
   "source": [
    "validation_nbar_s2_lasrc_dir = toolbox.prepare_output_directory(analysis_outputs, \"validation_nbar_s2_lasrc\")\n",
    "validation_nbar_s2_lasrc_dir"
   ]
  },
  {
   "cell_type": "markdown",
   "id": "5d8dcd6b",
   "metadata": {},
   "source": [
    "#### 4.6.3 Defining spectral bands\n",
    "\n",
    "The code below defines the spectral bands that will be used in the validation."
   ]
  },
  {
   "cell_type": "markdown",
   "id": "58a05aba-6fd9-4052-b6e6-b903309939cb",
   "metadata": {},
   "source": [
    "<div style=\"text-align: justify;  margin-left: 15%; margin-right: 15%;font-size: 95%; border-style: solid; border-color: #0077b9; border-width: 1px; padding: 5px;\"> \n",
    "    <b>Important note</b>\n",
    "    <div style=\"margin-left: 10px; margin-right: 10px; margin-top:10px\">\n",
    "        <p>Unlike the previous analyses involving Sentinel-2/MSI data, for the comparison using the SR data generated by the LaSRC, one must specify the name of the bands following the <em>name pattern used by the LaSRC</em> (e.g., sr_band1, sr_band2). As already specified in the previous cases, using this specific pattern is necessary so that the validation function can correctly identify the files that will be used.</p>\n",
    "    </div>\n",
    "</div>"
   ]
  },
  {
   "cell_type": "code",
   "execution_count": null,
   "id": "6c9ec915",
   "metadata": {},
   "outputs": [],
   "source": [
    "validation_nbar_s2_lasrc_bands = [\"sr_band2\", \"sr_band3\", \"sr_band4\", \"sr_band8\", \"sr_band8a\", \"sr_band11\", \"sr_band12\"]\n",
    "validation_nbar_s2_lasrc_bands"
   ]
  },
  {
   "cell_type": "markdown",
   "id": "f142ee48",
   "metadata": {},
   "source": [
    "#### 4.6.4 Comparing the results\n",
    "\n",
    "Now, we will use the definitions made above to compare each Sentinel-2/MSI NBAR pair generated. For this, the function `validation_nbar_s2_lasrc` will be used, which implements the comparison operations for Sentinel-2/MSI NBAR images, corrected with LaSRC. The code below performs the validation with this function, using as input the previously defined data."
   ]
  },
  {
   "cell_type": "markdown",
   "id": "a54907a8-63aa-4da9-9091-9ec7426d809a",
   "metadata": {},
   "source": [
    "<div style=\"text-align: justify;  margin-left: 15%; margin-right: 15%;font-size: 95%; border-style: solid; border-color: #0077b9; border-width: 1px; padding: 5px;\"> \n",
    "    <b>Cloud band</b>\n",
    "    <div style=\"margin-left: 10px; margin-right: 10px; margin-top:10px\">\n",
    "        <p>Note that the <em>cloud_dir</em> argument of the <em>validation_nbar_s2_lasrc</em> function is used to specify the cloud mask directory. In the research processing library, is assumed that the <em>cloud_dir</em> is a directory with the Sen2cor results. To do this, the <em>validation_nbar_s2_lasrc</em> function will search on the <em>cloud_dir</em> directory defined, the identifier of each of the scenes. Since the naming pattern of the sen2cor results is different from those defined in the input data (Used to identify the scenes in pairs), the function will automatically convert the names so that they are equivalent. Upon finding the directory, the function access it and use the available Scene Classification Map (SCL) file to compose the cloud mask</p>\n",
    "    </div>\n",
    "</div>"
   ]
  },
  {
   "cell_type": "code",
   "execution_count": null,
   "id": "e490e9f2-840d-4dc9-abc5-b02340624381",
   "metadata": {},
   "outputs": [],
   "source": [
    "s2_lasrc_nbar_dir"
   ]
  },
  {
   "cell_type": "code",
   "execution_count": null,
   "id": "75ec670d",
   "metadata": {},
   "outputs": [],
   "source": [
    "validation_routines.validation_nbar_s2_lasrc(\n",
    "    input_dir  = s2_lasrc_nbar_dir, \n",
    "    cloud_dir  = sen2cor_dir, \n",
    "    output_dir = validation_nbar_s2_lasrc_dir, \n",
    "    pairs      = validation_nbar_s2_lasrc_pairs,\n",
    "    bands      = validation_nbar_s2_lasrc_bands\n",
    ")"
   ]
  },
  {
   "cell_type": "markdown",
   "id": "4b5858f8-41ed-4148-a1ba-95b573211389",
   "metadata": {},
   "source": [
    "<hr>"
   ]
  },
  {
   "cell_type": "markdown",
   "id": "327652b6-5038-4184-acb3-80251db13ddd",
   "metadata": {},
   "source": [
    "The JSON file with the analysis results is available in the directory defined by the variable `validation_nbar_s2_lasrc_dir`:"
   ]
  },
  {
   "cell_type": "code",
   "execution_count": null,
   "id": "9560c33c-16b8-4a45-b38a-14844deaafb7",
   "metadata": {},
   "outputs": [],
   "source": [
    "os.listdir(validation_nbar_s2_lasrc_dir)"
   ]
  },
  {
   "cell_type": "markdown",
   "id": "9ee0618c",
   "metadata": {},
   "source": [
    "### 4.7. Surface reflectance comparison: Landsat-8 x Sentinel-2 (Sen2Cor)"
   ]
  },
  {
   "cell_type": "markdown",
   "id": "7ee1a72f",
   "metadata": {},
   "source": [
    "In this section, the comparison analysis between Sentinel-2/MSI and Landsat-8/OLI Surface Reflectance (with Sen2cor correction) data is made."
   ]
  },
  {
   "cell_type": "markdown",
   "id": "9e711725",
   "metadata": {},
   "source": [
    "#### 4.7.1 Searching for image pairs"
   ]
  },
  {
   "cell_type": "markdown",
   "id": "f412a0ef",
   "metadata": {},
   "source": [
    "Below we will create pairs using Landsat-8/OLI and Sentinel-2/MSI images. Pairs of scenes will be formed that have a sensing date difference of at most **5 days**:"
   ]
  },
  {
   "cell_type": "code",
   "execution_count": null,
   "id": "3748ddf2",
   "metadata": {},
   "outputs": [],
   "source": [
    "validation_sr_l8_s2_sen2cor_pairs = validation_funcs.search_pairs_l8_s2(\n",
    "    landsat8_sceneid_list, sentinel2_sceneid_list, day_diff=5\n",
    ")\n",
    "\n",
    "validation_sr_l8_s2_sen2cor_pairs[0:3]  # Showing the first three"
   ]
  },
  {
   "cell_type": "markdown",
   "id": "17398dc9",
   "metadata": {},
   "source": [
    "#### 4.7.2 Preparing the comparison analysis output directory"
   ]
  },
  {
   "cell_type": "code",
   "execution_count": null,
   "id": "5779bad6",
   "metadata": {},
   "outputs": [],
   "source": [
    "validation_sr_l8_s2_sen2cor_dir = toolbox.prepare_output_directory(analysis_outputs, \"validation_sr_l8_s2_sen2cor\")\n",
    "validation_sr_l8_s2_sen2cor_dir"
   ]
  },
  {
   "cell_type": "markdown",
   "id": "14a179bd",
   "metadata": {},
   "source": [
    "#### 4.7.3 Defining spectral bands\n",
    "\n",
    "The code below defines the spectral bands that will be used in the validation, for both Landsat-8/OLI and Sentinel-2/MSI."
   ]
  },
  {
   "cell_type": "markdown",
   "id": "1a8e5c92-e367-4f98-bea8-1f4641f29a08",
   "metadata": {},
   "source": [
    "**Landsat-8/OLI**\n",
    "\n",
    "> These band names should be equivalent to the standard `USGS Landsat-8 file band naming pattern` (e.g., B1, B2)"
   ]
  },
  {
   "cell_type": "code",
   "execution_count": null,
   "id": "30b30bc1",
   "metadata": {},
   "outputs": [],
   "source": [
    "validation_sr_l8_s2_sen2cor_bands_l8 = [\"B2\", \"B3\", \"B4\", \"B5\", \"B5\", \"B6\", \"B7\"]\n",
    "validation_sr_l8_s2_sen2cor_bands_l8"
   ]
  },
  {
   "cell_type": "markdown",
   "id": "881e0e47",
   "metadata": {},
   "source": [
    "**Sentinel-2/MSI**\n",
    "\n",
    "> These abnd names should be equivalent to the standard `ESA Sentinel-2 .SAFE file band naming pattern` (e.g., B01, B02, B8A)\n",
    "\n",
    "> Note that, unlike the previous analyses, the list of bands for the Sentinel data is unique. Therefore bands with different spatial resolutions (e.g., 10m, 20m) can be defined."
   ]
  },
  {
   "cell_type": "code",
   "execution_count": null,
   "id": "4aa3983f",
   "metadata": {},
   "outputs": [],
   "source": [
    "validation_sr_l8_s2_sen2cor_bands_s2 = [\"B02\", \"B03\", \"B04\", \"B08\", \"B8A\", \"B11\", \"B12\"]\n",
    "validation_sr_l8_s2_sen2cor_bands_s2"
   ]
  },
  {
   "cell_type": "markdown",
   "id": "0e77f187",
   "metadata": {},
   "source": [
    "#### 4.7.4 Comparing the results"
   ]
  },
  {
   "cell_type": "code",
   "execution_count": null,
   "id": "c9161f45",
   "metadata": {},
   "outputs": [],
   "source": [
    "validation_routines.validation_sr_l8_s2_sen2cor(\n",
    "    input_dir_l8 = landsat8_input_dir, \n",
    "    cloud_dir_l8 = landsat8_input_dir,\n",
    "    input_dir_s2 = sen2cor_dir,\n",
    "    cloud_dir_s2 = sen2cor_dir,\n",
    "    output_dir   = validation_sr_l8_s2_sen2cor_dir,\n",
    "    pairs        = validation_sr_l8_s2_sen2cor_pairs,\n",
    "    bands_l8     = validation_sr_l8_s2_sen2cor_bands_l8,\n",
    "    bands_s2     = validation_sr_l8_s2_sen2cor_bands_s2\n",
    ")"
   ]
  },
  {
   "cell_type": "markdown",
   "id": "ddbb66d8-95ef-4367-a826-b0dab5dc67e2",
   "metadata": {},
   "source": [
    "<hr>"
   ]
  },
  {
   "cell_type": "markdown",
   "id": "d0d8be4a-1d83-4339-82ce-84f295d7d42d",
   "metadata": {},
   "source": [
    "The JSON file with the analysis results is available in the directory defined by the variable `validation_sr_l8_s2_sen2cor_dir`:"
   ]
  },
  {
   "cell_type": "code",
   "execution_count": null,
   "id": "63391343-6c85-4579-a253-b0bcbb5fedb1",
   "metadata": {},
   "outputs": [],
   "source": [
    "os.listdir(validation_sr_l8_s2_sen2cor_dir)"
   ]
  },
  {
   "cell_type": "markdown",
   "id": "2379cf05",
   "metadata": {},
   "source": [
    "### 4.8. Surface Reflectance comparison: Landsat-8 x Sentinel-2 (LaSRC)"
   ]
  },
  {
   "cell_type": "markdown",
   "id": "94dba78b",
   "metadata": {},
   "source": [
    "In this section, the comparison analysis between Sentinel-2/MSI and Landsat-8/OLI Surface Reflectance (with LaSRC correction) data is made."
   ]
  },
  {
   "cell_type": "markdown",
   "id": "cfd557a3",
   "metadata": {},
   "source": [
    "#### 4.8.1 Searching for image pairs"
   ]
  },
  {
   "cell_type": "markdown",
   "id": "dd1db98c",
   "metadata": {},
   "source": [
    "Below we will create pairs using Landsat-8/OLI and Sentinel-2/MSI images. Pairs of scenes will be formed that have a sensing date difference of at most **5 days**:"
   ]
  },
  {
   "cell_type": "code",
   "execution_count": null,
   "id": "c1c4196c",
   "metadata": {},
   "outputs": [],
   "source": [
    "validation_sr_l8_s2_lasrc_pairs = validation_funcs.search_pairs_l8_s2(\n",
    "    landsat8_sceneid_list, sentinel2_sceneid_list\n",
    ")\n",
    "\n",
    "validation_sr_l8_s2_lasrc_pairs[0:3]  # Showing the first three"
   ]
  },
  {
   "cell_type": "markdown",
   "id": "c81d4bf1",
   "metadata": {},
   "source": [
    "#### 4.8.2 Preparing the comparison analysis output directory"
   ]
  },
  {
   "cell_type": "code",
   "execution_count": null,
   "id": "bfbc6c8f",
   "metadata": {},
   "outputs": [],
   "source": [
    "validation_sr_l8_s2_lasrc_dir = toolbox.prepare_output_directory(analysis_outputs, \"validation_sr_l8_s2_lasrc\")\n",
    "validation_sr_l8_s2_lasrc_dir"
   ]
  },
  {
   "cell_type": "markdown",
   "id": "8dbe3f64",
   "metadata": {},
   "source": [
    "#### 4.8.3 Defining spectral bands\n",
    "\n",
    "The code below defines the spectral bands that will be used in the validation, for both Landsat-8/OLI and Sentinel-2/MSI.\n",
    "\n",
    "**Landsat-8/OLI**\n",
    "\n",
    "> These band names should be equivalent to the standard `USGS Landsat-8 file band naming pattern` (e.g., B1, B2)"
   ]
  },
  {
   "cell_type": "code",
   "execution_count": null,
   "id": "9598efac",
   "metadata": {},
   "outputs": [],
   "source": [
    "validation_sr_l8_s2_lasrc_bands_l8 = [\"B2\", \"B3\", \"B4\", \"B5\", \"B5\", \"B6\", \"B7\"]\n",
    "validation_sr_l8_s2_lasrc_bands_l8"
   ]
  },
  {
   "cell_type": "markdown",
   "id": "f0525bb9",
   "metadata": {},
   "source": [
    "**Sentinel-2/MSI**\n",
    "\n",
    "> These band names should be equivalent to the standard `LaSRC file band naming pattern` (e.g., sr_band2, sr_band3, sr_band8a);\n",
    "\n",
    "> Note that, unlike the previous analyses, the list of bands for the Sentinel data is unique. Therefore bands with different spatial resolutions (e.g., 10m, 20m) can be defined.\n"
   ]
  },
  {
   "cell_type": "code",
   "execution_count": null,
   "id": "23c0da71",
   "metadata": {},
   "outputs": [],
   "source": [
    "validation_sr_l8_s2_lasrc_bands_s2 = [\"sr_band2\", \"sr_band3\", \"sr_band4\", \"sr_band8\", \"sr_band8a\", \"sr_band11\", \"sr_band12\"]\n",
    "validation_sr_l8_s2_lasrc_bands_s2"
   ]
  },
  {
   "cell_type": "markdown",
   "id": "ec185136",
   "metadata": {},
   "source": [
    "#### 4.8.4 Comparing the results"
   ]
  },
  {
   "cell_type": "code",
   "execution_count": null,
   "id": "cff504e9",
   "metadata": {},
   "outputs": [],
   "source": [
    "validation_routines.validation_sr_l8_s2_lasrc(\n",
    "    input_dir_l8 = landsat8_input_dir,\n",
    "    cloud_dir_l8 = landsat8_input_dir,\n",
    "    input_dir_s2 = lasrc_dir,\n",
    "    cloud_dir_s2 = sen2cor_dir,\n",
    "    output_dir   = validation_sr_l8_s2_lasrc_dir,\n",
    "    pairs        = validation_sr_l8_s2_lasrc_pairs,\n",
    "    bands_l8     = validation_sr_l8_s2_lasrc_bands_l8,\n",
    "    bands_s2     = validation_sr_l8_s2_lasrc_bands_s2\n",
    ")"
   ]
  },
  {
   "cell_type": "markdown",
   "id": "8499a3a0-2d27-44d9-84ec-28cf73601556",
   "metadata": {},
   "source": [
    "<hr>"
   ]
  },
  {
   "cell_type": "markdown",
   "id": "a5e42b03-45b3-4f93-804b-40f3abe8d338",
   "metadata": {},
   "source": [
    "The JSON file with the analysis results is available in the directory defined by the variable `validation_sr_l8_s2_lasrc_dir`:"
   ]
  },
  {
   "cell_type": "code",
   "execution_count": null,
   "id": "f5a94a8c-8f4b-4496-8a80-654171642405",
   "metadata": {},
   "outputs": [],
   "source": [
    "os.listdir(validation_sr_l8_s2_lasrc_dir)"
   ]
  },
  {
   "cell_type": "markdown",
   "id": "2d65743f",
   "metadata": {},
   "source": [
    "### 4.9. NBAR comparison: Landsat-8 x Sentinel-2 (Sen2Cor)"
   ]
  },
  {
   "cell_type": "markdown",
   "id": "857ac24e",
   "metadata": {},
   "source": [
    "In this section, the comparison analysis between Sentinel-2/MSI and Landsat-8/OLI NBAR (with Sen2cor correction) data is made."
   ]
  },
  {
   "cell_type": "markdown",
   "id": "2e012672",
   "metadata": {},
   "source": [
    "#### 4.9.1 Searching for image pairs"
   ]
  },
  {
   "cell_type": "markdown",
   "id": "ee5a5d1b",
   "metadata": {},
   "source": [
    "Below we will create pairs using Landsat-8/OLI and Sentinel-2/MSI images. Pairs of scenes will be formed that have a sensing date difference of at most **5 days**:"
   ]
  },
  {
   "cell_type": "code",
   "execution_count": null,
   "id": "028e4405",
   "metadata": {},
   "outputs": [],
   "source": [
    "validation_nbar_l8_s2_sen2cor_pairs = validation_funcs.search_pairs_l8_s2(\n",
    "    landsat8_sceneid_list, sentinel2_sceneid_list, day_diff=5\n",
    ")\n",
    "\n",
    "validation_nbar_l8_s2_sen2cor_pairs[0:3]  # Showing the first three"
   ]
  },
  {
   "cell_type": "markdown",
   "id": "28036a43",
   "metadata": {},
   "source": [
    "#### 4.9.2 Preparing the comparison analysis output directory"
   ]
  },
  {
   "cell_type": "code",
   "execution_count": null,
   "id": "1e0999a0",
   "metadata": {},
   "outputs": [],
   "source": [
    "validation_nbar_l8_s2_sen2cor_dir = toolbox.prepare_output_directory(analysis_outputs, \"validation_nbar_l8_s2_sen2cor\")\n",
    "validation_nbar_l8_s2_sen2cor_dir"
   ]
  },
  {
   "cell_type": "markdown",
   "id": "13c2d248",
   "metadata": {},
   "source": [
    "#### 4.9.3 Defining spectral bands\n",
    "\n",
    "The code below defines the spectral bands that will be used in the validation, for both Landsat-8/OLI and Sentinel-2/MSI.\n",
    "\n",
    "**Landsat-8/OLI**\n",
    "\n",
    "> These band names should be equivalent to the standard `USGS Landsat-8 file band naming pattern` (e.g., B1, B2)\n"
   ]
  },
  {
   "cell_type": "code",
   "execution_count": null,
   "id": "345ea2c0",
   "metadata": {},
   "outputs": [],
   "source": [
    "validation_nbar_l8_s2_sen2cor_bands_l8 = [\"B2\", \"B3\", \"B4\", \"B5\", \"B5\", \"B6\", \"B7\"]\n",
    "validation_nbar_l8_s2_sen2cor_bands_l8"
   ]
  },
  {
   "cell_type": "markdown",
   "id": "796aac27",
   "metadata": {},
   "source": [
    "**Sentinel-2/MSI**\n",
    "\n",
    "> These abnd names should be equivalent to the standard `ESA Sentinel-2 .SAFE file band naming pattern` (e.g., B01, B02, B8A)\n",
    "\n",
    "> Note that, unlike the previous analyses, the list of bands for the Sentinel data is unique. Therefore bands with different spatial resolutions (e.g., 10m, 20m) can be defined."
   ]
  },
  {
   "cell_type": "code",
   "execution_count": null,
   "id": "dda4feda",
   "metadata": {},
   "outputs": [],
   "source": [
    "validation_nbar_l8_s2_sen2cor_bands_s2 = [\"B02\", \"B03\", \"B04\", \"B08\", \"B8A\", \"B11\", \"B12\"]\n",
    "validation_nbar_l8_s2_sen2cor_bands_s2"
   ]
  },
  {
   "cell_type": "markdown",
   "id": "22ff57ef",
   "metadata": {},
   "source": [
    "#### 4.9.4 Comparing the results"
   ]
  },
  {
   "cell_type": "code",
   "execution_count": null,
   "id": "0575b17f",
   "metadata": {},
   "outputs": [],
   "source": [
    "validation_routines.validation_nbar_l8_s2_sen2cor(\n",
    "    input_dir_l8 = lc8_nbar_dir,\n",
    "    cloud_dir_l8 = landsat8_input_dir,\n",
    "    input_dir_s2 = s2_sen2cor_nbar_dir,\n",
    "    cloud_dir_s2 = sen2cor_dir,\n",
    "    output_dir   = validation_nbar_l8_s2_sen2cor_dir,\n",
    "    pairs        = validation_nbar_l8_s2_sen2cor_pairs,\n",
    "    bands_l8     = validation_nbar_l8_s2_sen2cor_bands_l8,\n",
    "    bands_s2     = validation_nbar_l8_s2_sen2cor_bands_s2\n",
    ")"
   ]
  },
  {
   "cell_type": "markdown",
   "id": "08574973-fa22-4b31-9ba2-558ec6b265f5",
   "metadata": {},
   "source": [
    "<hr>"
   ]
  },
  {
   "cell_type": "markdown",
   "id": "ab25122b-f2f4-489b-bb07-75e8985f1cac",
   "metadata": {},
   "source": [
    "The JSON file with the analysis results is available in the directory defined by the variable `validation_nbar_l8_s2_sen2cor_dir`:"
   ]
  },
  {
   "cell_type": "code",
   "execution_count": null,
   "id": "d6d473d3-b501-4010-9b3d-0d2ebd02c1c8",
   "metadata": {},
   "outputs": [],
   "source": [
    "os.listdir(validation_nbar_l8_s2_sen2cor_dir)"
   ]
  },
  {
   "cell_type": "markdown",
   "id": "0e5b7480",
   "metadata": {},
   "source": [
    "### 4.10. NBAR comparison: Landsat-8 x Sentinel-2 (LaSRC)"
   ]
  },
  {
   "cell_type": "markdown",
   "id": "46463236",
   "metadata": {},
   "source": [
    "In this section, the comparison analysis between Sentinel-2/MSI and Landsat-8/OLI NBAR (with LaSRC correction) data is made."
   ]
  },
  {
   "cell_type": "markdown",
   "id": "b9e74547",
   "metadata": {},
   "source": [
    "#### 4.10.1 Searching for image pairs"
   ]
  },
  {
   "cell_type": "markdown",
   "id": "981df0d6",
   "metadata": {},
   "source": [
    "Below we will create pairs of images. Pairs of scenes will be formed that have a sensing date difference of at most **5 days**:"
   ]
  },
  {
   "cell_type": "code",
   "execution_count": null,
   "id": "26e38852",
   "metadata": {},
   "outputs": [],
   "source": [
    "validation_nbar_l8_s2_lasrc_pairs = validation_funcs.search_pairs_l8_s2(\n",
    "    landsat8_sceneid_list, sentinel2_sceneid_list, day_diff=5\n",
    ")\n",
    "\n",
    "validation_nbar_l8_s2_lasrc_pairs[0:3]  # Showing the first three"
   ]
  },
  {
   "cell_type": "markdown",
   "id": "11628f33",
   "metadata": {},
   "source": [
    "#### 4.10.2 Preparing the comparison analysis output directory"
   ]
  },
  {
   "cell_type": "code",
   "execution_count": null,
   "id": "ce8b2626",
   "metadata": {},
   "outputs": [],
   "source": [
    "validation_nbar_l8_s2_lasrc_dir = toolbox.prepare_output_directory(analysis_outputs, \"validation_nbar_l8_s2_lasrc\")\n",
    "validation_nbar_l8_s2_lasrc_dir"
   ]
  },
  {
   "cell_type": "markdown",
   "id": "13016bf9",
   "metadata": {},
   "source": [
    "#### 4.10.3 Defining spectral bands\n",
    "\n",
    "The code below defines the spectral bands that will be used in the validation, for both Landsat-8/OLI and Sentinel-2/MSI.\n",
    "\n",
    "**Landsat-8/OLI**\n",
    "\n",
    "> These band names should be equivalent to the standard `USGS Landsat-8 file band naming pattern` (e.g., B1, B2)\n"
   ]
  },
  {
   "cell_type": "code",
   "execution_count": null,
   "id": "bfecf9d7",
   "metadata": {},
   "outputs": [],
   "source": [
    "validation_nbar_l8_s2_lasrc_bands_l8 = [\"B2\", \"B3\", \"B4\", \"B5\", \"B5\", \"B6\", \"B7\"]\n",
    "validation_nbar_l8_s2_lasrc_bands_l8"
   ]
  },
  {
   "cell_type": "markdown",
   "id": "ef8588a9",
   "metadata": {},
   "source": [
    "**Sentinel-2/MSI**\n",
    "\n",
    "> These band names should be equivalent to the standard `LaSRC file band naming pattern` (e.g., sr_band2, sr_band3, sr_band8a);\n",
    "\n",
    "> Note that, unlike the previous analyses, the list of bands for the Sentinel data is unique. Therefore bands with different spatial resolutions (e.g., 10m, 20m) can be defined."
   ]
  },
  {
   "cell_type": "code",
   "execution_count": null,
   "id": "721241dd",
   "metadata": {},
   "outputs": [],
   "source": [
    "validation_nbar_l8_s2_lasrc_bands_s2 = [\"sr_band2\", \"sr_band3\", \"sr_band4\", \"sr_band8\", \"sr_band8a\", \"sr_band11\", \"sr_band12\"]\n",
    "validation_nbar_l8_s2_lasrc_bands_s2"
   ]
  },
  {
   "cell_type": "markdown",
   "id": "c9ba0499",
   "metadata": {},
   "source": [
    "#### 4.10.4 Validate the results"
   ]
  },
  {
   "cell_type": "code",
   "execution_count": null,
   "id": "84264ad7",
   "metadata": {},
   "outputs": [],
   "source": [
    "validation_routines.validation_nbar_l8_s2_lasrc(\n",
    "    input_dir_l8 = lc8_nbar_dir,\n",
    "    cloud_dir_l8 = landsat8_input_dir,\n",
    "    input_dir_s2 = s2_lasrc_nbar_dir,\n",
    "    cloud_dir_s2 = sen2cor_dir,\n",
    "    output_dir   = validation_nbar_l8_s2_lasrc_dir, \n",
    "    pairs        = validation_nbar_l8_s2_lasrc_pairs,\n",
    "    bands_l8     = validation_nbar_l8_s2_lasrc_bands_l8,\n",
    "    bands_s2     = validation_nbar_l8_s2_lasrc_bands_s2\n",
    ")"
   ]
  },
  {
   "cell_type": "markdown",
   "id": "dde30d33-98fb-4953-b2b6-8a591273a4cc",
   "metadata": {},
   "source": [
    "<hr>"
   ]
  },
  {
   "cell_type": "markdown",
   "id": "9d2aa726-8283-4b6e-a279-d5f80d76f1a8",
   "metadata": {},
   "source": [
    "The JSON file with the analysis results is available in the directory defined by the variable `validation_nbar_l8_s2_lasrc_dir`:"
   ]
  },
  {
   "cell_type": "code",
   "execution_count": null,
   "id": "99b17aa5-ff16-46ce-a507-a36914771c58",
   "metadata": {},
   "outputs": [],
   "source": [
    "os.listdir(validation_nbar_l8_s2_lasrc_dir)"
   ]
  },
  {
   "cell_type": "markdown",
   "id": "17ba750f",
   "metadata": {},
   "source": [
    "### 5. Saving the results table\n",
    "<hr style=\"border:1px solid #0077b9;\">"
   ]
  },
  {
   "cell_type": "markdown",
   "id": "941b2faa",
   "metadata": {},
   "source": [
    "To finish this notebook, we will centralize and organize the results of all the comparison analyses performed in this section. To do this, we will use the function `map_validation_folder_as_tidydata` available in the `research processing` library. This function retrieves the results of all the analyses. It centralizes them in a table, organizing the data in the Tidy format so that the analysis and understanding of this data are made easier.\n",
    "\n",
    "To use this function, we first import it from the `research processing` library:"
   ]
  },
  {
   "cell_type": "code",
   "execution_count": null,
   "id": "3bdeec8a",
   "metadata": {},
   "outputs": [],
   "source": [
    "from research_processing.tidy import map_validation_folder_as_tidydata"
   ]
  },
  {
   "cell_type": "markdown",
   "id": "dd6a314a-4c86-422d-8a78-0aec984fb2d1",
   "metadata": {},
   "source": [
    "Now we can use the function. To do this, we will need to pass as a parameter the base directory from which all previously generated analysis results are stored. In this case, this base directory is defined in the `analysis_outputs` variable:"
   ]
  },
  {
   "cell_type": "code",
   "execution_count": null,
   "id": "f8e228f2-519b-4859-93d3-8a1b1b1bf57c",
   "metadata": {},
   "outputs": [],
   "source": [
    "analysis_outputs"
   ]
  },
  {
   "cell_type": "markdown",
   "id": "d011841c-a2e9-4c32-b193-7e1b4ea6dd2f",
   "metadata": {},
   "source": [
    "Checking the directory content:"
   ]
  },
  {
   "cell_type": "code",
   "execution_count": null,
   "id": "c3dc58ce-6f7f-4cdd-ba0c-0a6b97ac0251",
   "metadata": {},
   "outputs": [],
   "source": [
    "os.listdir(analysis_outputs)"
   ]
  },
  {
   "cell_type": "markdown",
   "id": "d71d8fa1-88e3-4bfd-844f-7f7d72e13207",
   "metadata": {},
   "source": [
    "The analysis result in a JSON file is in each of these listed directories, following the format specified in [Section 4](#4.-Comparison-Analysis). So, getting the base directory, the function `map_validation_folder_as_tidydata` will access each children directory (as listed below). In each directory accessed, the function will load the JSON file. Thus, in the end, all JSON files are centralized and made available in a tidy table.\n",
    "\n",
    "The code below applies the function to the `analysis_outputs` directory:"
   ]
  },
  {
   "cell_type": "code",
   "execution_count": null,
   "id": "76209a5c",
   "metadata": {},
   "outputs": [],
   "source": [
    "tidy_output = map_validation_folder_as_tidydata(analysis_outputs)\n",
    "tidy_output"
   ]
  },
  {
   "cell_type": "markdown",
   "id": "5d258320",
   "metadata": {},
   "source": [
    "The generated table is a `pandas.DataFrame`, which can be exported to [various formats](https://pandas.pydata.org/pandas-docs/stable/user_guide/io.html). As an example, the code below saves this table to an `CSV` file:\n",
    "\n",
    "> The file will be saved in the root directory defined by the `analysis_outputs` variable.\n"
   ]
  },
  {
   "cell_type": "code",
   "execution_count": null,
   "id": "f6edb714",
   "metadata": {},
   "outputs": [],
   "source": [
    "tidy_output.to_csv(os.path.join(analysis_outputs, \"results.csv\"))"
   ]
  }
 ],
 "metadata": {
  "kernelspec": {
   "display_name": "Python 3 (ipykernel)",
   "language": "python",
   "name": "python3"
  },
  "language_info": {
   "codemirror_mode": {
    "name": "ipython",
    "version": 3
   },
   "file_extension": ".py",
   "mimetype": "text/x-python",
   "name": "python",
   "nbconvert_exporter": "python",
   "pygments_lexer": "ipython3",
   "version": "3.8.12"
  }
 },
 "nbformat": 4,
 "nbformat_minor": 5
}
