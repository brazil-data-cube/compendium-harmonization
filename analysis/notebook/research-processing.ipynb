{
 "cells": [
  {
   "cell_type": "markdown",
   "id": "59a557cf-f38b-49fd-b4ea-ae56c3041d66",
   "metadata": {},
   "source": [
    "### Evaluating Landsat-8 and Sentinel-2 Nadir BRDF Adjusted Reflectance (NBAR) on South of Brazil through a Reproducible and Replicable environment"
   ]
  },
  {
   "cell_type": "markdown",
   "id": "970ac1c1-803e-4963-90d2-2febbaab1014",
   "metadata": {},
   "source": [
    "## 1. Resource configuration"
   ]
  },
  {
   "cell_type": "code",
   "execution_count": null,
   "id": "9a81c34a-8100-464a-b07c-1c0cb07c8889",
   "metadata": {},
   "outputs": [],
   "source": [
    "import os"
   ]
  },
  {
   "cell_type": "markdown",
   "id": "c784a41a-c963-4e8c-9e36-e5d9c9be8667",
   "metadata": {},
   "source": [
    "**Configure data directory (with environment variable)**"
   ]
  },
  {
   "cell_type": "code",
   "execution_count": null,
   "id": "7015d4b5-0d54-4643-abe0-9d2aef617a9b",
   "metadata": {},
   "outputs": [],
   "source": [
    "data_directory = os.environ.get(\"DATA_DIRECTORY\")\n",
    "data_directory"
   ]
  },
  {
   "cell_type": "markdown",
   "id": "bb6f4090-e580-4344-a204-fb240e8fac17",
   "metadata": {},
   "source": [
    "**Defining input files and directories for Sentinel-2/MSI steps**"
   ]
  },
  {
   "cell_type": "code",
   "execution_count": null,
   "id": "0ee7062f-f622-436f-b480-961b9fecc537",
   "metadata": {},
   "outputs": [],
   "source": [
    "#\n",
    "# Input and files references\n",
    "#\n",
    "sentinel2_input_dir = os.path.join(data_directory, \"raw_data/Sentinel2Data\")\n",
    "\n",
    "sentinel2_sceneid_list = os.path.join(data_directory, \"raw_data/ReferenceFiles_L8-S2/s2-sceneids.txt\")"
   ]
  },
  {
   "cell_type": "markdown",
   "id": "4c4d3849-f18b-47eb-ad9a-1428df9b4ef0",
   "metadata": {},
   "source": [
    "**Defining input files and directories for Landsat-8/MSI steps**"
   ]
  },
  {
   "cell_type": "code",
   "execution_count": null,
   "id": "fb204c19-abfd-4f16-afc2-1a16468e5251",
   "metadata": {},
   "outputs": [],
   "source": [
    "#\n",
    "# Input and files references\n",
    "#\n",
    "landsat8_input_dir = os.path.join(data_directory, \"raw_data/Landsat8Data\")\n",
    "\n",
    "landsat8_sceneid_list = os.path.join(data_directory, \"raw_data/ReferenceFiles_L8-S2/l8-sceneids.txt\")"
   ]
  },
  {
   "cell_type": "markdown",
   "id": "4e618193-6433-4b74-b4ea-0e5a164dec1c",
   "metadata": {},
   "source": [
    "**Defining auxiliary data**"
   ]
  },
  {
   "cell_type": "code",
   "execution_count": null,
   "id": "05116472-a06b-4fda-8df1-d6576a97bdaa",
   "metadata": {},
   "outputs": [],
   "source": [
    "#\n",
    "# Extra: LADS Auxiliary files\n",
    "#\n",
    "lads_auxiliary_data = os.path.join(data_directory, \"raw_data/LADS_AuxiliaryData/\")"
   ]
  },
  {
   "cell_type": "markdown",
   "id": "03f053d5-7c71-4ff2-88f5-78c3a0afb851",
   "metadata": {},
   "source": [
    "**Defining output directory**"
   ]
  },
  {
   "cell_type": "code",
   "execution_count": null,
   "id": "bc04e11a-5ae4-43a8-becb-6220f6f8f0c4",
   "metadata": {},
   "outputs": [],
   "source": [
    "derived_data_dir = os.path.join(data_directory, \"derived_data\")"
   ]
  },
  {
   "cell_type": "markdown",
   "id": "dd8b0314-355f-457c-9ae1-90c5b4eb9cb8",
   "metadata": {},
   "source": [
    "**Load scene identifiers (Landsat-8/OLI and Sentinel-2/MSI)**"
   ]
  },
  {
   "cell_type": "code",
   "execution_count": null,
   "id": "505f5e39-d248-4d3c-8fc4-04261c0c838e",
   "metadata": {},
   "outputs": [],
   "source": [
    "from research_processing import toolbox"
   ]
  },
  {
   "cell_type": "code",
   "execution_count": null,
   "id": "982ba401-35f2-4606-afae-a6d7c9566b97",
   "metadata": {},
   "outputs": [],
   "source": [
    "#\n",
    "# Landsat-8/OLI Scenes Identifiers\n",
    "#\n",
    "landsat8_sceneids = toolbox.standardize_filename(open(landsat8_sceneid_list).readlines())\n",
    "\n",
    "#\n",
    "# Sentinel-2/MSI Scenes Identifiers\n",
    "#\n",
    "sentinel2_sceneids = toolbox.standardize_filename(open(sentinel2_sceneid_list).readlines())"
   ]
  },
  {
   "cell_type": "markdown",
   "id": "0aa06dc1-5009-4818-9074-bb4847dcc3bf",
   "metadata": {},
   "source": [
    "**Defining output scenes**"
   ]
  },
  {
   "cell_type": "code",
   "execution_count": null,
   "id": "73f1ee69-0ca5-484e-b59d-92689ba7ba66",
   "metadata": {},
   "outputs": [],
   "source": [
    "#\n",
    "# Landsat-8/OLI Scenes\n",
    "#\n",
    "l8_outputs = os.path.join(derived_data_dir, \"l8\")\n",
    "\n",
    "#\n",
    "# Sentinel-2/MSI Scenes\n",
    "#\n",
    "s2_outputs = os.path.join(derived_data_dir, \"s2\")\n",
    "\n",
    "#\n",
    "# Validation results\n",
    "#\n",
    "validation_outputs = os.path.join(derived_data_dir, \"validation\")"
   ]
  },
  {
   "cell_type": "markdown",
   "id": "5aeadbb1-6321-4fbb-b478-5c1336d1c4c8",
   "metadata": {},
   "source": [
    "## 2. Atmosphere Correction"
   ]
  },
  {
   "cell_type": "code",
   "execution_count": null,
   "id": "3a885a22-7390-4cb1-bfdc-74d00554c16b",
   "metadata": {},
   "outputs": [],
   "source": [
    "# ToDo: Text"
   ]
  },
  {
   "cell_type": "markdown",
   "id": "cf63e9e6-b36f-4729-a73d-c9c4c5d2a80a",
   "metadata": {},
   "source": [
    "### 2.1. Sentinel-2/MSI (Sen2Cor)"
   ]
  },
  {
   "cell_type": "code",
   "execution_count": null,
   "id": "eea7a4bb-a0e9-4b14-883c-7d806e41004b",
   "metadata": {},
   "outputs": [],
   "source": [
    "from research_processing.surface_reflectance import sen2cor"
   ]
  },
  {
   "cell_type": "markdown",
   "id": "a996644b-01c3-47bc-996d-25582e38718a",
   "metadata": {},
   "source": [
    "**Prepare output directory**"
   ]
  },
  {
   "cell_type": "code",
   "execution_count": null,
   "id": "10790de0-79bb-45f0-b713-4f5722969d26",
   "metadata": {},
   "outputs": [],
   "source": [
    "sen2cor_dir = toolbox.prepare_output_directory(s2_outputs, \"s2_sen2cor_sr\")"
   ]
  },
  {
   "cell_type": "markdown",
   "id": "24c8a6cd-7de6-44b4-a881-bb2c5372f6bc",
   "metadata": {},
   "source": [
    "**Apply sen2cor**"
   ]
  },
  {
   "cell_type": "code",
   "execution_count": null,
   "id": "85c75987-0bd2-423d-8edf-bc8f8023ad94",
   "metadata": {},
   "outputs": [],
   "source": [
    "sen2cor(sentinel2_input_dir, sen2cor_dir, sentinel2_sceneids)"
   ]
  },
  {
   "cell_type": "markdown",
   "id": "4fdee5a5-8b21-4530-a2c5-d2ca87118e42",
   "metadata": {},
   "source": [
    "**Saving Sen2Cor scene list**"
   ]
  },
  {
   "cell_type": "code",
   "execution_count": null,
   "id": "a94f045f-bfcf-4422-ae44-860bf820c26c",
   "metadata": {},
   "outputs": [],
   "source": [
    "sen2cor_sceneids = toolbox.filename(os.listdir(sen2cor_dir))"
   ]
  },
  {
   "cell_type": "markdown",
   "id": "9a67e324-5f8a-4e23-99d1-9a0deaf623c5",
   "metadata": {},
   "source": [
    "### 2.2. Sentinel-2/MSI (LaSRC)"
   ]
  },
  {
   "cell_type": "code",
   "execution_count": null,
   "id": "556f1392-1cbd-418c-82e6-fbed4d5391f9",
   "metadata": {},
   "outputs": [],
   "source": [
    "from research_processing.surface_reflectance import lasrc"
   ]
  },
  {
   "cell_type": "markdown",
   "id": "2a4caf68-f847-4ddc-a1df-4bf9e20b5438",
   "metadata": {},
   "source": [
    "**Prepare output directory**"
   ]
  },
  {
   "cell_type": "code",
   "execution_count": null,
   "id": "897d00a9-0269-4048-9672-b42420003483",
   "metadata": {},
   "outputs": [],
   "source": [
    "lasrc_dir = toolbox.prepare_output_directory(s2_outputs, \"s2_lasrc_sr\")"
   ]
  },
  {
   "cell_type": "markdown",
   "id": "8ac1d77a-b55c-447b-9cd3-9c658b62347f",
   "metadata": {},
   "source": [
    "**Apply LaSRC**"
   ]
  },
  {
   "cell_type": "code",
   "execution_count": null,
   "id": "37a9aa05-dcec-4574-9c0a-bc7765dce82e",
   "metadata": {},
   "outputs": [],
   "source": [
    "lasrc(sentinel2_input_dir, lasrc_dir, sentinel2_sceneids, lads_auxiliary_data)"
   ]
  },
  {
   "cell_type": "markdown",
   "id": "d58260cd-93ba-42ef-bf3a-2bb02f1e1f06",
   "metadata": {},
   "source": [
    "**Saving LaSRC scene list**"
   ]
  },
  {
   "cell_type": "code",
   "execution_count": null,
   "id": "0c3b0eb5-1515-4a3a-aced-d209ac876395",
   "metadata": {},
   "outputs": [],
   "source": [
    "lasrc_sceneids = toolbox.filename(os.listdir(lasrc_dir))"
   ]
  },
  {
   "cell_type": "markdown",
   "id": "a2109613-e8c9-4c41-982f-c44c76015dc2",
   "metadata": {},
   "source": [
    "## 3. NBAR"
   ]
  },
  {
   "cell_type": "code",
   "execution_count": null,
   "id": "5297c540-1eaf-40bb-836d-e27978fbb365",
   "metadata": {},
   "outputs": [],
   "source": [
    "# ToDo: Text"
   ]
  },
  {
   "cell_type": "markdown",
   "id": "aa3ce23b-47ac-4a48-8aa7-acd17e6ed716",
   "metadata": {},
   "source": [
    "### 3.1. Sentinel-2/MSI (Sen2Cor)"
   ]
  },
  {
   "cell_type": "code",
   "execution_count": null,
   "id": "a4c574cf-999c-4b1c-b91a-13b27f62b047",
   "metadata": {},
   "outputs": [],
   "source": [
    "from research_processing.nbar import s2_sen2cor_nbar"
   ]
  },
  {
   "cell_type": "markdown",
   "id": "8a84a51a-74ad-4275-b5e5-03c94a6743d1",
   "metadata": {},
   "source": [
    "**Prepare output directory**"
   ]
  },
  {
   "cell_type": "code",
   "execution_count": null,
   "id": "c9e3ab66-44da-4f2b-852c-912d65c4676d",
   "metadata": {},
   "outputs": [],
   "source": [
    "s2_sen2cor_nbar_dir = toolbox.prepare_output_directory(s2_outputs, \"s2_sen2cor_nbar\")"
   ]
  },
  {
   "cell_type": "markdown",
   "id": "5258638f-2234-4492-8cb4-825f80e761e0",
   "metadata": {},
   "source": [
    "**Generate NBAR for sen2cor products**"
   ]
  },
  {
   "cell_type": "code",
   "execution_count": null,
   "id": "08eed2e4-fe86-49cd-b9a4-90fe4398a0f4",
   "metadata": {},
   "outputs": [],
   "source": [
    "s2_sen2cor_nbar(sen2cor_dir, s2_sen2cor_nbar_dir, sen2cor_sceneids)"
   ]
  },
  {
   "cell_type": "markdown",
   "id": "88adf361-e3f5-4bac-931a-36cac630c359",
   "metadata": {},
   "source": [
    "**Saving Sen2Cor NBAR scene list**"
   ]
  },
  {
   "cell_type": "code",
   "execution_count": null,
   "id": "d03fa2f6-bfc9-475d-a97f-55681a5a4907",
   "metadata": {},
   "outputs": [],
   "source": [
    "s2_sen2cor_nbar_sceneids = toolbox.filename(os.listdir(s2_sen2cor_nbar_dir))"
   ]
  },
  {
   "cell_type": "markdown",
   "id": "1374b582-30b9-4936-8418-023ae4e10878",
   "metadata": {},
   "source": [
    "### 3.2. Sentinel-2/MSI (LaSRC)"
   ]
  },
  {
   "cell_type": "code",
   "execution_count": null,
   "id": "e476f93b-9d16-42f3-8941-9364d9fe39f9",
   "metadata": {},
   "outputs": [],
   "source": [
    "from research_processing.nbar import s2_lasrc_nbar"
   ]
  },
  {
   "cell_type": "markdown",
   "id": "e7551ab7-a3fb-46d5-944c-948ee115ffb6",
   "metadata": {},
   "source": [
    "**Prepare output directory**"
   ]
  },
  {
   "cell_type": "code",
   "execution_count": null,
   "id": "67a5a9f5-277f-4f02-8fa5-4ee1abfe1d74",
   "metadata": {},
   "outputs": [],
   "source": [
    "s2_lasrc_nbar_dir = toolbox.prepare_output_directory(s2_outputs, \"s2_lasrc_nbar\")"
   ]
  },
  {
   "cell_type": "markdown",
   "id": "c422e9cd-c3f2-43c5-b7df-5d27c2a5d50d",
   "metadata": {},
   "source": [
    "**Generate NBAR for LaSRC products**"
   ]
  },
  {
   "cell_type": "code",
   "execution_count": null,
   "id": "3ad8fe94-ce67-4bce-bebd-76ece2e85209",
   "metadata": {},
   "outputs": [],
   "source": [
    "s2_lasrc_nbar(lasrc_dir, s2_lasrc_nbar_dir, lasrc_sceneids)"
   ]
  },
  {
   "cell_type": "markdown",
   "id": "d711ded3-6341-403e-904b-4100450d1b56",
   "metadata": {},
   "source": [
    "**Saving LaSRC NBAR scene list**"
   ]
  },
  {
   "cell_type": "code",
   "execution_count": null,
   "id": "d36a8463-9f59-4f85-9418-3877cbbdda4e",
   "metadata": {},
   "outputs": [],
   "source": [
    "s2_lasrc_nbar_sceneids = toolbox.filename(os.listdir(s2_sen2cor_nbar_dir))"
   ]
  },
  {
   "cell_type": "markdown",
   "id": "ec3a5c66-4572-4439-8d79-5e376b716358",
   "metadata": {},
   "source": [
    "### 3.3. Landsat-8/OLI (Surface Reflectance product)"
   ]
  },
  {
   "cell_type": "code",
   "execution_count": null,
   "id": "249a14e4-d56c-4ee0-8d70-938aaa649d80",
   "metadata": {},
   "outputs": [],
   "source": [
    "from research_processing.nbar import lc8_nbar, lc8_generate_angles"
   ]
  },
  {
   "cell_type": "markdown",
   "id": "e9871fba-5104-4d4b-bd48-2b66219e638b",
   "metadata": {},
   "source": [
    "**Prepare output directory**"
   ]
  },
  {
   "cell_type": "code",
   "execution_count": null,
   "id": "7dee6d62-9d35-4832-ade1-0e0ae7ef3a27",
   "metadata": {},
   "outputs": [],
   "source": [
    "lc8_nbar_dir = toolbox.prepare_output_directory(l8_outputs, \"lc8_nbar\")"
   ]
  },
  {
   "cell_type": "markdown",
   "id": "b6afba3e-9cc6-4217-bcb6-33c445b5c5e8",
   "metadata": {},
   "source": [
    "**Generate Landsat-8 Angles for NBAR calculation**"
   ]
  },
  {
   "cell_type": "code",
   "execution_count": null,
   "id": "25547380-29ba-44d7-afd6-341dad6c2c33",
   "metadata": {},
   "outputs": [],
   "source": [
    "scene_angles_lc8 = lc8_generate_angles(landsat8_input_dir, landsat8_sceneids)"
   ]
  },
  {
   "cell_type": "markdown",
   "id": "bdaa1146-0ffc-4509-ad4d-2c377d8f191f",
   "metadata": {},
   "source": [
    "**Generate NBAR for Landsat-8/OLI Surface Reflectance products**"
   ]
  },
  {
   "cell_type": "code",
   "execution_count": null,
   "id": "cccd757b-bef2-4151-b782-dc31435f7b23",
   "metadata": {},
   "outputs": [],
   "source": [
    "lc8_nbar(landsat8_input_dir, lc8_nbar_dir, scene_angles_lc8)"
   ]
  },
  {
   "cell_type": "markdown",
   "id": "236e37f4-52e0-407b-9dc7-137c2395f5e5",
   "metadata": {},
   "source": [
    "**Saving Landsat-8/OLI NBAR scene list**"
   ]
  },
  {
   "cell_type": "code",
   "execution_count": null,
   "id": "7bb88fce-b19e-43c4-940d-456ef3e829b5",
   "metadata": {},
   "outputs": [],
   "source": [
    "lc8_nbar_scene_ids = toolbox.filename(os.listdir(lc8_nbar_dir))"
   ]
  },
  {
   "cell_type": "markdown",
   "id": "cccad1b1-f665-48fb-8ea6-6c4ece12d007",
   "metadata": {},
   "source": [
    "## 4. Validations"
   ]
  },
  {
   "cell_type": "code",
   "execution_count": null,
   "id": "82d0b316-e6e6-4b4b-b2a7-68f3cc6f5694",
   "metadata": {},
   "outputs": [],
   "source": [
    "# ToDo: Text"
   ]
  },
  {
   "cell_type": "code",
   "execution_count": null,
   "id": "080a8eb0-c32a-41d7-a841-db6810ebd8b4",
   "metadata": {},
   "outputs": [],
   "source": [
    "from research_processing.validation import validation_funcs\n",
    "from research_processing.validation import validation_routines"
   ]
  },
  {
   "cell_type": "markdown",
   "id": "e2c53cfa-b1bb-4fc6-8c7d-f69bc1166a50",
   "metadata": {},
   "source": [
    "### 4.1. Landsat-8 Surface Reflectance"
   ]
  },
  {
   "cell_type": "code",
   "execution_count": null,
   "id": "aea4895f-6d7a-4cd0-bfad-d4d7f9ac56c5",
   "metadata": {},
   "outputs": [],
   "source": [
    "# ToDo: Text"
   ]
  },
  {
   "cell_type": "markdown",
   "id": "ba26c4b7-f007-458f-867c-f51840388542",
   "metadata": {},
   "source": [
    "**Search pairs**"
   ]
  },
  {
   "cell_type": "code",
   "execution_count": null,
   "id": "a483840a-aef8-4a8b-8c33-b0da8e4c43d6",
   "metadata": {},
   "outputs": [],
   "source": [
    "validation_sr_l8_pairs = validation_funcs.search_pairs_l8(landsat8_sceneid_list)"
   ]
  },
  {
   "cell_type": "markdown",
   "id": "a89827f8-e1ab-4dd5-a225-782772a268a7",
   "metadata": {},
   "source": [
    "**Prepare output directory**"
   ]
  },
  {
   "cell_type": "code",
   "execution_count": null,
   "id": "34aa33d9-5677-4ba4-845f-6b988f7f3e91",
   "metadata": {},
   "outputs": [],
   "source": [
    "validation_sr_l8_dir = toolbox.prepare_output_directory(validation_outputs, \"validation_sr_l8\")"
   ]
  },
  {
   "cell_type": "markdown",
   "id": "c7619ab4-d467-40bd-9bde-7dc305e72c51",
   "metadata": {},
   "source": [
    "**Defining bands**\n",
    "\n",
    "> Name of the spectral bands that will be used in the validation. These names should be equivalent to the standard USGS Landsat-8 file band naming pattern (e.g. B1, B2)"
   ]
  },
  {
   "cell_type": "code",
   "execution_count": null,
   "id": "c11e7cb3-432b-4efb-bb9b-d71dba2e9c68",
   "metadata": {},
   "outputs": [],
   "source": [
    "validation_sr_l8_bands = [\"B2\", \"B3\", \"B4\", \"B5\", \"B6\", \"B7\"]"
   ]
  },
  {
   "cell_type": "markdown",
   "id": "f338ef33-d988-4bd8-8f64-d66f39f2e774",
   "metadata": {},
   "source": [
    "**Validate the results**"
   ]
  },
  {
   "cell_type": "code",
   "execution_count": null,
   "id": "70773e6d-c400-458d-ba02-65260615e1a8",
   "metadata": {},
   "outputs": [],
   "source": [
    "validation_sr_l8_result = validation_routines.validation_sr_l8(\n",
    "    input_dir  = landsat8_input_dir,\n",
    "    cloud_dir  = landsat8_input_dir,\n",
    "    output_dir = validation_sr_l8_dir,\n",
    "    pairs      = validation_sr_l8_pairs, \n",
    "    bands      = validation_sr_l8_bands\n",
    ")"
   ]
  },
  {
   "cell_type": "markdown",
   "id": "ecfa3680-7b3b-4770-a6dc-04998164f4da",
   "metadata": {},
   "source": [
    "### 4.2. Landsat-8 NBAR"
   ]
  },
  {
   "cell_type": "code",
   "execution_count": null,
   "id": "4d0f29bc-3b3c-40e5-a91b-e9c981930dfd",
   "metadata": {},
   "outputs": [],
   "source": [
    "# ToDo: Text"
   ]
  },
  {
   "cell_type": "markdown",
   "id": "167f9a74-1ffc-4da0-82e8-12e638d22f6e",
   "metadata": {},
   "source": [
    "**Search pairs**"
   ]
  },
  {
   "cell_type": "code",
   "execution_count": null,
   "id": "6fa478dd-f352-4a15-9809-568aa7d55193",
   "metadata": {},
   "outputs": [],
   "source": [
    "validation_nbar_l8_pairs = validation_funcs.search_pairs_l8(landsat8_sceneid_list)"
   ]
  },
  {
   "cell_type": "markdown",
   "id": "863e4363-441c-4257-8c23-95d3b2120863",
   "metadata": {},
   "source": [
    "**Prepare output directory**"
   ]
  },
  {
   "cell_type": "code",
   "execution_count": null,
   "id": "04531f15-b636-4a87-880f-04ec65afab1c",
   "metadata": {},
   "outputs": [],
   "source": [
    "validation_nbar_l8_dir = toolbox.prepare_output_directory(validation_outputs, \"validation_nbar_l8\")"
   ]
  },
  {
   "cell_type": "markdown",
   "id": "a6ead019-c1a8-4f43-820c-cd9c5a4bf13e",
   "metadata": {},
   "source": [
    "**Defining bands**\n",
    "\n",
    "> Name of the spectral bands that will be used in the validation. These names should be equivalent to the standard USGS Landsat-8 file band naming pattern (e.g. B1, B2)"
   ]
  },
  {
   "cell_type": "code",
   "execution_count": null,
   "id": "fca336eb-2341-4705-8378-6ec755081dc0",
   "metadata": {},
   "outputs": [],
   "source": [
    "validation_nbar_l8_bands = [\"B2\", \"B3\", \"B4\", \"B5\", \"B6\", \"B7\"]"
   ]
  },
  {
   "cell_type": "markdown",
   "id": "2ba9863c-0212-4bb9-ba9c-fa025d5a2303",
   "metadata": {},
   "source": [
    "**Validate the results**"
   ]
  },
  {
   "cell_type": "code",
   "execution_count": null,
   "id": "7f367ec6-3f5e-4a9a-9e0e-0ab50e3c45eb",
   "metadata": {},
   "outputs": [],
   "source": [
    "validation_nbar_l8_results = validation_routines.validation_nbar_l8(\n",
    "    input_dir  = lc8_nbar_dir,\n",
    "    cloud_dir  = landsat8_input_dir,\n",
    "    output_dir = validation_nbar_l8_dir,\n",
    "    pairs      = validation_nbar_l8_pairs,\n",
    "    bands      = validation_nbar_l8_bands\n",
    ")"
   ]
  },
  {
   "cell_type": "markdown",
   "id": "ca73f6a3-8765-4b45-87b0-b296734539d4",
   "metadata": {},
   "source": [
    "### 4.3. Sentinel-2/MSI Surface Reflectance (Sen2Cor)"
   ]
  },
  {
   "cell_type": "code",
   "execution_count": null,
   "id": "890517f2-dcb2-4503-82c2-65ab3e9a4588",
   "metadata": {},
   "outputs": [],
   "source": [
    "# ToDo: Text"
   ]
  },
  {
   "cell_type": "markdown",
   "id": "9e0ea933-566a-44db-8842-78cfc9323713",
   "metadata": {},
   "source": [
    "**Search pairs**"
   ]
  },
  {
   "cell_type": "code",
   "execution_count": null,
   "id": "51b03977-679d-44d6-bb52-140425bfd649",
   "metadata": {},
   "outputs": [],
   "source": [
    "validation_sr_s2_sen2cor_pairs = validation_funcs.search_pairs_s2(sentinel2_sceneid_list)"
   ]
  },
  {
   "cell_type": "markdown",
   "id": "baf5062c-b2ea-439a-a4fa-5253fc46c50f",
   "metadata": {},
   "source": [
    "**Prepare output directory**"
   ]
  },
  {
   "cell_type": "code",
   "execution_count": null,
   "id": "4f201d67-75b2-4251-a096-5e57d47e2bac",
   "metadata": {},
   "outputs": [],
   "source": [
    "validation_sr_s2_sen2cor_dir = toolbox.prepare_output_directory(validation_outputs, \"validation_sr_s2_sen2cor\")"
   ]
  },
  {
   "cell_type": "markdown",
   "id": "f86c7f86-0465-4d69-99f2-e1e8920f5fe3",
   "metadata": {},
   "source": [
    "**Defining bands**\n",
    "\n",
    "> Name of the spectral bands that will be used in the validation. These names should be equivalent to the standard ESA Sentinel-2 .SAFE file band naming pattern (e.g. B01, B02).\n",
    "\n",
    "Bands (10m)"
   ]
  },
  {
   "cell_type": "code",
   "execution_count": null,
   "id": "2829e80c-04e3-4c6d-bf57-65121c0998aa",
   "metadata": {},
   "outputs": [],
   "source": [
    "validation_sr_s2_sen2cor_bands10m = [\"B02\", \"B03\", \"B04\", \"B08\"]"
   ]
  },
  {
   "cell_type": "markdown",
   "id": "3d0ec71f-39db-4c64-a78a-b604961b7f82",
   "metadata": {},
   "source": [
    "Bands (20m)"
   ]
  },
  {
   "cell_type": "code",
   "execution_count": null,
   "id": "941b67c0-f60e-4230-9ec7-f9a785ff205f",
   "metadata": {},
   "outputs": [],
   "source": [
    "validation_sr_s2_sen2cor_bands20m = [\"B8A\", \"B11\", \"B12\"]"
   ]
  },
  {
   "cell_type": "markdown",
   "id": "7427b87e-a93f-47bf-a9e7-abc45f3bcba6",
   "metadata": {},
   "source": [
    "**Validate the results**"
   ]
  },
  {
   "cell_type": "code",
   "execution_count": null,
   "id": "c1cef181-799c-4a4f-be52-941ad83abc50",
   "metadata": {},
   "outputs": [],
   "source": [
    "validation_routines.validation_sr_s2_sen2cor(\n",
    "    input_dir  = sen2cor_dir,\n",
    "    cloud_dir  = sen2cor_dir,\n",
    "    output_dir = validation_sr_s2_sen2cor_dir,\n",
    "    pairs      = validation_sr_s2_sen2cor_pairs,\n",
    "    bands10m   = validation_sr_s2_sen2cor_bands10m,\n",
    "    bands20m   = validation_sr_s2_sen2cor_bands20m\n",
    ")"
   ]
  },
  {
   "cell_type": "markdown",
   "id": "20de9dd9-f2a0-4462-b3cf-12de13408e26",
   "metadata": {},
   "source": [
    "### 4.4. Sentinel-2/MSI NBAR (Sen2Cor)"
   ]
  },
  {
   "cell_type": "code",
   "execution_count": null,
   "id": "452cbae2-223e-40e0-a1ab-338025f44e6f",
   "metadata": {},
   "outputs": [],
   "source": [
    "# ToDo: Text"
   ]
  },
  {
   "cell_type": "markdown",
   "id": "0ea8d231-7d76-476e-a210-21133fec8ca6",
   "metadata": {},
   "source": [
    "**Search pairs**"
   ]
  },
  {
   "cell_type": "code",
   "execution_count": null,
   "id": "c26a8815-909a-43a9-a5aa-40d10761bb76",
   "metadata": {},
   "outputs": [],
   "source": [
    "validation_nbar_s2_sen2cor_pairs = validation_funcs.search_pairs_s2(sentinel2_sceneid_list)"
   ]
  },
  {
   "cell_type": "markdown",
   "id": "56fe99a3-61e9-4a06-8c8d-30f8cb8c3afc",
   "metadata": {},
   "source": [
    "**Prepare output directory**"
   ]
  },
  {
   "cell_type": "code",
   "execution_count": null,
   "id": "3664e2fb-c816-49cb-a18c-0f793a4ee423",
   "metadata": {},
   "outputs": [],
   "source": [
    "validation_nbar_s2_sen2cor_dir = toolbox.prepare_output_directory(validation_outputs, \"validation_nbar_s2_sen2cor\")"
   ]
  },
  {
   "cell_type": "markdown",
   "id": "a46abf0a-2ef9-4fb0-aadc-5a9bbf757448",
   "metadata": {},
   "source": [
    "**Defining bands**\n",
    "\n",
    "> Name of the spectral bands that will be used in the validation. These names should be equivalent to the standard ESA Sentinel-2 .SAFE file band naming pattern (e.g. B01, B02).\n",
    "\n",
    "Bands (10m)"
   ]
  },
  {
   "cell_type": "code",
   "execution_count": null,
   "id": "5f86ea2c-b76a-466b-b89b-19ec2450b3e6",
   "metadata": {},
   "outputs": [],
   "source": [
    "validation_nbar_s2_sen2cor_bands10m = [\"B02\", \"B03\", \"B04\", \"B08\"]"
   ]
  },
  {
   "cell_type": "markdown",
   "id": "387f51fa-eb9e-495c-90c9-638ca4dc5b18",
   "metadata": {},
   "source": [
    "Bands (20m)"
   ]
  },
  {
   "cell_type": "code",
   "execution_count": null,
   "id": "fc6b65af-6091-46de-8f7d-882f0da663c5",
   "metadata": {},
   "outputs": [],
   "source": [
    "validation_nbar_s2_sen2cor_bands20m = [\"B8A\", \"B11\", \"B12\"]"
   ]
  },
  {
   "cell_type": "markdown",
   "id": "dc610c09-3901-43ff-82fd-0d543bb64035",
   "metadata": {},
   "source": [
    "**Validate the results**"
   ]
  },
  {
   "cell_type": "code",
   "execution_count": null,
   "id": "494b9170-7302-481b-918e-c86dd733846e",
   "metadata": {},
   "outputs": [],
   "source": [
    "validation_routines.validation_nbar_s2_sen2cor(\n",
    "    input_dir  = s2_sen2cor_nbar_dir,\n",
    "    cloud_dir  = sen2cor_dir,\n",
    "    output_dir = validation_nbar_s2_sen2cor_dir,\n",
    "    pairs      = validation_nbar_s2_sen2cor_pairs,\n",
    "    bands10m   = validation_nbar_s2_sen2cor_bands10m,\n",
    "    bands20m   = validation_nbar_s2_sen2cor_bands20m\n",
    ")"
   ]
  },
  {
   "cell_type": "markdown",
   "id": "f48e82e3-c623-4a69-9882-1ae0e69123a7",
   "metadata": {},
   "source": [
    "### 4.5. Sentinel-2/MSI (LaSRC)"
   ]
  },
  {
   "cell_type": "code",
   "execution_count": null,
   "id": "64c64b53-23a6-4e99-9d12-f24c5ef6740b",
   "metadata": {},
   "outputs": [],
   "source": [
    "# ToDo: Text"
   ]
  },
  {
   "cell_type": "markdown",
   "id": "e096d29b-66cd-4d11-ac3b-3da19f784760",
   "metadata": {},
   "source": [
    "**Search pairs**"
   ]
  },
  {
   "cell_type": "code",
   "execution_count": null,
   "id": "3c6cff05-f909-4491-a2f6-fea007d8e888",
   "metadata": {},
   "outputs": [],
   "source": [
    "validation_sr_s2_lasrc_pairs = validation_funcs.search_pairs_s2(sentinel2_sceneid_list)"
   ]
  },
  {
   "cell_type": "markdown",
   "id": "449a79f7-a734-4313-86ad-cb1aa57a717b",
   "metadata": {},
   "source": [
    "**Prepare output directory**"
   ]
  },
  {
   "cell_type": "code",
   "execution_count": null,
   "id": "a33c8926-1a53-4f20-b6f1-a63bfaaee95d",
   "metadata": {},
   "outputs": [],
   "source": [
    "validation_sr_s2_lasrc_dir = toolbox.prepare_output_directory(validation_outputs, \"validation_sr_s2_lasrc\")"
   ]
  },
  {
   "cell_type": "markdown",
   "id": "b926ff69-16bd-402f-bcae-bf66ea6717eb",
   "metadata": {},
   "source": [
    "**Defining bands**\n",
    "\n",
    "> Name of the spectral bands that will be used in the validation. These names should be equivalent to the standard LaSRC file band naming pattern (e.g. sr_band2, sr_band3, sr_band8a)"
   ]
  },
  {
   "cell_type": "code",
   "execution_count": null,
   "id": "0ceb4a28-14c0-4659-897e-2a0c20c74828",
   "metadata": {},
   "outputs": [],
   "source": [
    "validation_sr_s2_lasrc_bands = [\"sr_band2\", \"sr_band3\", \"sr_band4\", \"sr_band8\", \"sr_band8a\", \"sr_band11\", \"sr_band12\"]"
   ]
  },
  {
   "cell_type": "markdown",
   "id": "34559b5c-4498-4a48-9a1e-9175eaf6a8f0",
   "metadata": {},
   "source": [
    "**Validate the results**"
   ]
  },
  {
   "cell_type": "code",
   "execution_count": null,
   "id": "fbef5ea4-e5ff-497e-acdd-75d97346c458",
   "metadata": {},
   "outputs": [],
   "source": [
    "validation_routines.validation_sr_s2_lasrc(\n",
    "    input_dir  = lasrc_dir,\n",
    "    cloud_dir  = sen2cor_dir,\n",
    "    output_dir = validation_sr_s2_lasrc_dir,\n",
    "    pairs      = validation_sr_s2_lasrc_pairs,\n",
    "    bands      = validation_sr_s2_lasrc_bands\n",
    ")"
   ]
  },
  {
   "cell_type": "markdown",
   "id": "210c5391-1048-4ff3-a6b8-bac015db33f3",
   "metadata": {},
   "source": [
    "### 4.6. Sentinel-2/MSI NBAR (LaSRC)"
   ]
  },
  {
   "cell_type": "code",
   "execution_count": null,
   "id": "176ac070-776e-496d-91f9-d07ed2cbbc0e",
   "metadata": {},
   "outputs": [],
   "source": [
    "# ToDo: Text"
   ]
  },
  {
   "cell_type": "markdown",
   "id": "f8278a0a-77fd-4eed-ba96-a562c5348d28",
   "metadata": {},
   "source": [
    "**Search pairs**"
   ]
  },
  {
   "cell_type": "code",
   "execution_count": null,
   "id": "8bb6040e-b37d-4bb1-b5fb-5e612ab85b48",
   "metadata": {},
   "outputs": [],
   "source": [
    "validation_nbar_s2_lasrc_pairs = validation_funcs.search_pairs_s2(sentinel2_sceneid_list)"
   ]
  },
  {
   "cell_type": "markdown",
   "id": "cddcfeb9-eb31-4ac5-92e2-7eebaa8c7819",
   "metadata": {},
   "source": [
    "**Prepare output directory**"
   ]
  },
  {
   "cell_type": "code",
   "execution_count": null,
   "id": "a13cf78e-b1df-423d-b28b-f970d0f98c2c",
   "metadata": {},
   "outputs": [],
   "source": [
    "validation_nbar_s2_lasrc_dir = toolbox.prepare_output_directory(validation_outputs, \"validation_nbar_s2_lasrc\")"
   ]
  },
  {
   "cell_type": "markdown",
   "id": "99f4c7f1-9c2b-49db-b407-7849277f5777",
   "metadata": {},
   "source": [
    "**Defining bands**\n",
    "\n",
    "> Name of the spectral bands that will be used in the validation. These names should be equivalent to the standard LaSRC file band naming pattern (e.g. sr_band2, sr_band3, sr_band8a)"
   ]
  },
  {
   "cell_type": "code",
   "execution_count": null,
   "id": "40884c1d-3eff-4e15-817c-e695f3bbc096",
   "metadata": {},
   "outputs": [],
   "source": [
    "validation_nbar_s2_lasrc_bands = [\"sr_band2\", \"sr_band3\", \"sr_band4\", \"sr_band8\", \"sr_band8a\", \"sr_band11\", \"sr_band12\"]"
   ]
  },
  {
   "cell_type": "markdown",
   "id": "beaf4f2a-ea24-49d0-b504-0e807202e46a",
   "metadata": {},
   "source": [
    "**Validate the results**"
   ]
  },
  {
   "cell_type": "code",
   "execution_count": null,
   "id": "a64c0574-fbb8-4d36-a20c-5cb947da1d31",
   "metadata": {},
   "outputs": [],
   "source": [
    "validation_routines.validation_nbar_s2_lasrc(\n",
    "    input_dir  = s2_lasrc_nbar_dir, \n",
    "    cloud_dir  = sen2cor_dir, \n",
    "    output_dir = validation_nbar_s2_lasrc_dir, \n",
    "    pairs      = validation_nbar_s2_lasrc_pairs,\n",
    "    bands      = validation_nbar_s2_lasrc_bands\n",
    ")"
   ]
  },
  {
   "cell_type": "markdown",
   "id": "f47885a0-d4fe-4715-b277-c701b1c13198",
   "metadata": {},
   "source": [
    "### 4.7. Compare Sen2Cor SR (Landsat-8 and Sentinel-2)"
   ]
  },
  {
   "cell_type": "code",
   "execution_count": null,
   "id": "80173450-ef94-4a3d-ab6a-6c5984443a6e",
   "metadata": {},
   "outputs": [],
   "source": [
    "# ToDo: Text"
   ]
  },
  {
   "cell_type": "markdown",
   "id": "2b033742-5572-4aa6-b383-d5bae78f981c",
   "metadata": {},
   "source": [
    "**Search pairs**"
   ]
  },
  {
   "cell_type": "code",
   "execution_count": null,
   "id": "4c84c193-41c8-4198-b881-053aa69c34f5",
   "metadata": {},
   "outputs": [],
   "source": [
    "validation_sr_l8_s2_sen2cor_pairs = validation_funcs.search_pairs_l8_s2(\n",
    "    landsat8_sceneid_list, sentinel2_sceneid_list\n",
    ")"
   ]
  },
  {
   "cell_type": "markdown",
   "id": "48350496-db17-4cbb-b7b3-7aafcd501494",
   "metadata": {},
   "source": [
    "**Prepare output directory**"
   ]
  },
  {
   "cell_type": "code",
   "execution_count": null,
   "id": "ee6221df-4b74-4fad-9542-4469a44a41b7",
   "metadata": {},
   "outputs": [],
   "source": [
    "validation_sr_l8_s2_sen2cor_dir = toolbox.prepare_output_directory(validation_outputs, \"validation_sr_l8_s2_sen2cor\")"
   ]
  },
  {
   "cell_type": "markdown",
   "id": "b7c4d8e9-d499-4075-8d45-1fc8a26cb9ef",
   "metadata": {},
   "source": [
    "**Defining bands**\n",
    "\n",
    "Landsat-8/OLI\n",
    "\n",
    "> Name of the spectral bands that will be used in the validation. These names should be equivalent to the standard USGS Landsat-8 file band naming pattern (e.g. B1, B2)"
   ]
  },
  {
   "cell_type": "code",
   "execution_count": null,
   "id": "23588ad1-9fb6-47b6-ab4e-4644227d65df",
   "metadata": {},
   "outputs": [],
   "source": [
    "validation_sr_l8_s2_sen2cor_bands_l8 = [\"B2\", \"B3\", \"B4\", \"B5\", \"B5\", \"B6\", \"B7\"]"
   ]
  },
  {
   "cell_type": "markdown",
   "id": "7e5d5dbc-09c8-4b98-9ab5-2880b091cba0",
   "metadata": {},
   "source": [
    "Sentinel-2/MSI\n",
    "\n",
    "> Name of the spectral bands (spectral resolution = 10m and 20m) that will be used in the validation. These names should be equivalent to the standard ESA Sentinel-2 .SAFE file band naming pattern (e.g. B01, B02, B8A)"
   ]
  },
  {
   "cell_type": "code",
   "execution_count": null,
   "id": "2ddec4ac-77d1-488e-b3a2-a5dc98716efd",
   "metadata": {},
   "outputs": [],
   "source": [
    "validation_sr_l8_s2_sen2cor_bands_s2 = [\"B02\", \"B03\", \"B04\", \"B08\", \"B8A\", \"B11\", \"B12\"]"
   ]
  },
  {
   "cell_type": "markdown",
   "id": "9d395a34-be38-42ed-a1af-b5828fcbd642",
   "metadata": {},
   "source": [
    "**Validate the results**"
   ]
  },
  {
   "cell_type": "code",
   "execution_count": null,
   "id": "0fbb87d4-71f3-4080-bc5b-e81c79c96e68",
   "metadata": {},
   "outputs": [],
   "source": [
    "validation_routines.validation_sr_l8_s2_sen2cor(\n",
    "    input_dir_l8 = landsat8_input_dir, \n",
    "    cloud_dir_l8 = landsat8_input_dir,\n",
    "    input_dir_s2 = sen2cor_dir,\n",
    "    cloud_dir_s2 = sen2cor_dir,\n",
    "    output_dir   = validation_sr_l8_s2_sen2cor_dir,\n",
    "    pairs        = validation_sr_l8_s2_sen2cor_pairs,\n",
    "    bands_l8     = validation_sr_l8_s2_sen2cor_bands_l8,\n",
    "    bands_s2     = validation_sr_l8_s2_sen2cor_bands_s2\n",
    ")"
   ]
  },
  {
   "cell_type": "markdown",
   "id": "33cf1740-c91b-4abe-aad8-ab869eb8473e",
   "metadata": {},
   "source": [
    "### 4.8. Compare LaSRC SR (Landsat-8 and Sentinel-2)"
   ]
  },
  {
   "cell_type": "code",
   "execution_count": null,
   "id": "8a55f315-2959-42ed-bcc2-c680b868beaa",
   "metadata": {},
   "outputs": [],
   "source": [
    "# ToDo: Text"
   ]
  },
  {
   "cell_type": "markdown",
   "id": "79280381-eeb9-4492-8868-af7776761539",
   "metadata": {},
   "source": [
    "**Search pairs**"
   ]
  },
  {
   "cell_type": "code",
   "execution_count": null,
   "id": "372d38fd-355e-474c-a8fe-102a2cea5f10",
   "metadata": {},
   "outputs": [],
   "source": [
    "validation_sr_l8_s2_lasrc_pairs = validation_funcs.search_pairs_l8_s2(\n",
    "    landsat8_sceneid_list, sentinel2_sceneid_list\n",
    ")"
   ]
  },
  {
   "cell_type": "markdown",
   "id": "56ee0c3e-cb24-46dd-b427-54ae16c79802",
   "metadata": {},
   "source": [
    "**Prepare output directory**"
   ]
  },
  {
   "cell_type": "code",
   "execution_count": null,
   "id": "93e14abe-a842-4961-b928-b9386f661328",
   "metadata": {},
   "outputs": [],
   "source": [
    "validation_sr_l8_s2_lasrc_dir = toolbox.prepare_output_directory(validation_outputs, \"validation_sr_l8_s2_lasrc\")"
   ]
  },
  {
   "cell_type": "markdown",
   "id": "ca65466e-4600-4f1f-9dab-912ff1ced131",
   "metadata": {},
   "source": [
    "**Defining bands**\n",
    "\n",
    "Landsat-8/OLI\n",
    "\n",
    "> Name of the spectral bands that will be used in the validation. These names should be equivalent to the standard USGS Landsat-8 file band naming pattern (e.g. B1, B2)"
   ]
  },
  {
   "cell_type": "code",
   "execution_count": null,
   "id": "ecae6ddb-8cf7-44ce-89cb-b7e602751d50",
   "metadata": {},
   "outputs": [],
   "source": [
    "validation_sr_l8_s2_lasrc_bands_l8 = [\"B2\", \"B3\", \"B4\", \"B5\", \"B5\", \"B6\", \"B7\"]"
   ]
  },
  {
   "cell_type": "markdown",
   "id": "9b08cf44-4fbc-44d0-b0c1-e3bdf27b88dc",
   "metadata": {},
   "source": [
    "Sentinel-2/MSI\n",
    "\n",
    "> Name of the spectral bands that will be used in the validation. These names should be equivalent to the standard LaSRC file band naming pattern (e.g. sr_band2, sr_band3, sr_band8a)."
   ]
  },
  {
   "cell_type": "code",
   "execution_count": null,
   "id": "f5dc6201-dc9f-462d-a78b-2f5ab29024f8",
   "metadata": {},
   "outputs": [],
   "source": [
    "validation_sr_l8_s2_lasrc_bands_s2 = [\"sr_band2\", \"sr_band3\", \"sr_band4\", \"sr_band8\", \"sr_band8a\", \"sr_band11\", \"sr_band12\"]"
   ]
  },
  {
   "cell_type": "markdown",
   "id": "fb14c136-85a7-4730-abe8-cb1d56eac15d",
   "metadata": {},
   "source": [
    "**Validate the results**"
   ]
  },
  {
   "cell_type": "code",
   "execution_count": null,
   "id": "e6a1e008-fea8-46ac-87f2-4ea4c66388ed",
   "metadata": {},
   "outputs": [],
   "source": [
    "validation_routines.validation_sr_l8_s2_lasrc(\n",
    "    input_dir_l8 = landsat8_input_dir,\n",
    "    cloud_dir_l8 = landsat8_input_dir,\n",
    "    input_dir_s2 = lasrc_dir,\n",
    "    cloud_dir_s2 = sen2cor_dir,\n",
    "    output_dir   = validation_sr_l8_s2_lasrc_dir,\n",
    "    pairs        = validation_sr_l8_s2_lasrc_pairs,\n",
    "    bands_l8     = validation_sr_l8_s2_lasrc_bands_l8,\n",
    "    bands_s2     = validation_sr_l8_s2_lasrc_bands_s2\n",
    ")"
   ]
  },
  {
   "cell_type": "markdown",
   "id": "fa43a3f2-bda4-420c-92a6-64859e8da10a",
   "metadata": {},
   "source": [
    "### 4.9. Compare Sen2Cor NBAR (Landsat-8 and Sentinel-2)"
   ]
  },
  {
   "cell_type": "code",
   "execution_count": null,
   "id": "df010842-a66a-4fa1-8df5-5d47140eaa4e",
   "metadata": {},
   "outputs": [],
   "source": [
    "# ToDo: Text"
   ]
  },
  {
   "cell_type": "markdown",
   "id": "59584b8d-192b-4f23-a2c6-c8118a6b7974",
   "metadata": {},
   "source": [
    "**Search pairs**"
   ]
  },
  {
   "cell_type": "code",
   "execution_count": null,
   "id": "1a1cb3f6-ba37-41a9-963f-2314584a0d3d",
   "metadata": {},
   "outputs": [],
   "source": [
    "validation_nbar_l8_s2_sen2cor_pairs = validation_funcs.search_pairs_l8_s2(\n",
    "    landsat8_sceneid_list, sentinel2_sceneid_list\n",
    ")"
   ]
  },
  {
   "cell_type": "markdown",
   "id": "1002a0bf-1698-4524-91fb-616f3b7556f9",
   "metadata": {},
   "source": [
    "**Prepare output directory**"
   ]
  },
  {
   "cell_type": "code",
   "execution_count": null,
   "id": "1ddb31f0-c259-49b2-bdb9-ab4e57141802",
   "metadata": {},
   "outputs": [],
   "source": [
    "validation_nbar_l8_s2_sen2cor_dir = toolbox.prepare_output_directory(validation_outputs, \"validation_nbar_l8_s2_sen2cor\")"
   ]
  },
  {
   "cell_type": "markdown",
   "id": "96e0bffb-419a-446d-bbed-896e6eea4fac",
   "metadata": {},
   "source": [
    "**Defining bands**\n",
    "\n",
    "Landsat-8/OLI\n",
    "\n",
    "> Name of the spectral bands that will be used in the validation. These names should be equivalent to the standard USGS Landsat-8 file band naming pattern (e.g. B1, B2)"
   ]
  },
  {
   "cell_type": "code",
   "execution_count": null,
   "id": "374e16eb-feb4-4d06-b098-d4e7f4853b8d",
   "metadata": {},
   "outputs": [],
   "source": [
    "validation_nbar_l8_s2_sen2cor_bands_l8 = [\"B2\", \"B3\", \"B4\", \"B5\", \"B5\", \"B6\", \"B7\"]"
   ]
  },
  {
   "cell_type": "markdown",
   "id": "409683bb-fdb9-446d-9134-dbda64b8658b",
   "metadata": {},
   "source": [
    "Sentinel-2/MSI\n",
    "\n",
    "> Name of the spectral bands (spectral resolution = 10m and 20m) that will be used in the validation. These names should be equivalent to the standard ESA Sentinel-2 .SAFE file band naming pattern (e.g. B01, B02, B8A)"
   ]
  },
  {
   "cell_type": "code",
   "execution_count": null,
   "id": "315850c5-5360-49f2-ba86-5ae827edc925",
   "metadata": {},
   "outputs": [],
   "source": [
    "validation_nbar_l8_s2_sen2cor_bands_s2 = [\"B02\", \"B03\", \"B04\", \"B08\", \"B8A\", \"B11\", \"B12\"]"
   ]
  },
  {
   "cell_type": "markdown",
   "id": "8fd22d68-e3eb-401c-bc09-d7d23bc28c8b",
   "metadata": {},
   "source": [
    "**Validate the results**"
   ]
  },
  {
   "cell_type": "code",
   "execution_count": null,
   "id": "8b912720-aadd-4d5b-ba68-c39500414695",
   "metadata": {},
   "outputs": [],
   "source": [
    "validation_routines.validation_nbar_l8_s2_sen2cor(\n",
    "    input_dir_l8 = lc8_nbar_dir,\n",
    "    cloud_dir_l8 = landsat8_input_dir,\n",
    "    input_dir_s2 = s2_sen2cor_nbar_dir,\n",
    "    cloud_dir_s2 = sen2cor_dir,\n",
    "    output_dir   = validation_nbar_l8_s2_sen2cor_dir,\n",
    "    pairs        = validation_nbar_l8_s2_sen2cor_pairs,\n",
    "    bands_l8     = validation_nbar_l8_s2_sen2cor_bands_l8,\n",
    "    bands_s2     = validation_nbar_l8_s2_sen2cor_bands_s2\n",
    ")"
   ]
  },
  {
   "cell_type": "markdown",
   "id": "40ba9d0a-7d19-4675-a8d8-840d73947306",
   "metadata": {},
   "source": [
    "### 4.10. Compare LaSRC NBAR (Landsat-8 and Sentinel-2)"
   ]
  },
  {
   "cell_type": "code",
   "execution_count": null,
   "id": "551fc33c-fe9b-4137-92aa-1e20815791ab",
   "metadata": {},
   "outputs": [],
   "source": [
    "# ToDo: Text"
   ]
  },
  {
   "cell_type": "markdown",
   "id": "46189247-bde2-483d-beb6-794aed1d6e9b",
   "metadata": {},
   "source": [
    "**Search pairs**"
   ]
  },
  {
   "cell_type": "code",
   "execution_count": null,
   "id": "82992224-014f-4f01-b6d7-e30c8721ccd2",
   "metadata": {},
   "outputs": [],
   "source": [
    "validation_nbar_l8_s2_lasrc_pairs = validation_funcs.search_pairs_l8_s2(\n",
    "    landsat8_sceneid_list, sentinel2_sceneid_list\n",
    ")"
   ]
  },
  {
   "cell_type": "markdown",
   "id": "22af0deb-cee7-4d10-986f-96dfc264b05b",
   "metadata": {},
   "source": [
    "**Prepare output directory**"
   ]
  },
  {
   "cell_type": "code",
   "execution_count": null,
   "id": "e10105f4-acfc-48c0-a888-60b4d0f56e5c",
   "metadata": {},
   "outputs": [],
   "source": [
    "validation_nbar_l8_s2_lasrc_dir = toolbox.prepare_output_directory(validation_outputs, \"validation_nbar_l8_s2_lasrc\")"
   ]
  },
  {
   "cell_type": "markdown",
   "id": "e867b069-f940-43ca-a6dc-e2491a236295",
   "metadata": {},
   "source": [
    "**Defining bands**\n",
    "\n",
    "Landsat-8/OLI\n",
    "\n",
    "> Name of the spectral bands that will be used in the validation. These names should be equivalent to the standard USGS Landsat-8 file band naming pattern (e.g. B1, B2)"
   ]
  },
  {
   "cell_type": "code",
   "execution_count": null,
   "id": "284e4884-eb51-463d-84ba-c1978b2dd36c",
   "metadata": {},
   "outputs": [],
   "source": [
    "validation_nbar_l8_s2_lasrc_bands_l8 = [\"B2\", \"B3\", \"B4\", \"B5\", \"B5\", \"B6\", \"B7\"]"
   ]
  },
  {
   "cell_type": "markdown",
   "id": "96123256-5e0a-4870-befc-573ade50f2c2",
   "metadata": {},
   "source": [
    "Sentinel-2/MSI\n",
    "\n",
    "> Name of the spectral bands that will be used in the validation. These names should be equivalent to the standard LaSRC file band naming pattern (e.g. sr_band2, sr_band3, sr_band8a)."
   ]
  },
  {
   "cell_type": "code",
   "execution_count": null,
   "id": "6bdde4fc-fc99-45fd-94ca-1581695823eb",
   "metadata": {},
   "outputs": [],
   "source": [
    "validation_nbar_l8_s2_lasrc_bands_s2 = [\"sr_band2\", \"sr_band3\", \"sr_band4\", \"sr_band8\", \"sr_band8a\", \"sr_band11\", \"sr_band12\"]"
   ]
  },
  {
   "cell_type": "markdown",
   "id": "5fa89bb6-d55f-4b97-bae0-9d4d08f073e8",
   "metadata": {},
   "source": [
    "**Validate the results**"
   ]
  },
  {
   "cell_type": "code",
   "execution_count": null,
   "id": "e7b6560d-6291-4cd1-b842-7587feb24d2c",
   "metadata": {},
   "outputs": [],
   "source": [
    "validation_routines.validation_nbar_l8_s2_lasrc(\n",
    "    input_dir_l8 = lc8_nbar_dir,\n",
    "    cloud_dir_l8 = landsat8_input_dir,\n",
    "    input_dir_s2 = s2_lasrc_nbar_dir,\n",
    "    cloud_dir_s2 = sen2cor_dir,\n",
    "    output_dir   = validation_nbar_l8_s2_lasrc_dir, \n",
    "    pairs        = validation_nbar_l8_s2_lasrc_pairs,\n",
    "    bands_l8     = validation_nbar_l8_s2_lasrc_bands_l8,\n",
    "    bands_s2     = validation_nbar_l8_s2_lasrc_bands_s2\n",
    ")"
   ]
  }
 ],
 "metadata": {
  "kernelspec": {
   "display_name": "Python 3",
   "language": "python",
   "name": "python3"
  },
  "language_info": {
   "codemirror_mode": {
    "name": "ipython",
    "version": 3
   },
   "file_extension": ".py",
   "mimetype": "text/x-python",
   "name": "python",
   "nbconvert_exporter": "python",
   "pygments_lexer": "ipython3",
   "version": "3.8.8"
  }
 },
 "nbformat": 4,
 "nbformat_minor": 5
}
