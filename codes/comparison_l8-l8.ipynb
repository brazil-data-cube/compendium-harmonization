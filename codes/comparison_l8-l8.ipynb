{
 "cells": [
  {
   "cell_type": "markdown",
   "metadata": {},
   "source": [
    "## Check if timeline is complete"
   ]
  },
  {
   "cell_type": "code",
   "execution_count": 1,
   "metadata": {},
   "outputs": [],
   "source": [
    "import json\n",
    "import matplotlib.pyplot as plt\n",
    "import os\n",
    "from datetime import datetime\n",
    "from operator import itemgetter\n",
    "\n",
    "# 3rd party\n",
    "import numpy\n",
    "import rasterio\n",
    "from rasterio.enums import Resampling\n",
    "from rasterio.io import MemoryFile\n",
    "from rasterio.transform import Affine\n",
    "from rasterio.warp import reproject, calculate_default_transform\n",
    "from rasterio.windows import Window\n",
    "from shapely.geometry import box"
   ]
  },
  {
   "cell_type": "code",
   "execution_count": 112,
   "metadata": {},
   "outputs": [],
   "source": [
    "def reproject_img(src, ref):\n",
    "    transform, width, height = calculate_default_transform(\n",
    "        src.crs, ref.crs, src.width, src.height, *src.bounds, resolution=ref.transform[0])\n",
    "    kwargs = src.meta.copy()\n",
    "    kwargs.update({\n",
    "        'crs': ref.crs,\n",
    "        'transform': transform,\n",
    "        'width': width,\n",
    "        'height': height\n",
    "    })\n",
    "    memfile = MemoryFile()\n",
    "    intermed_dataset = memfile.open(\n",
    "        driver='GTiff',\n",
    "        height=kwargs['height'],\n",
    "        width=kwargs['width'],\n",
    "        count=kwargs['count'],\n",
    "        dtype=kwargs['dtype'],\n",
    "        crs=kwargs['crs'],\n",
    "        transform=kwargs['transform'],\n",
    "        nodata=kwargs['nodata']\n",
    "    )\n",
    "    reproject(\n",
    "        source=rasterio.band(src, 1),\n",
    "        destination=rasterio.band(intermed_dataset, 1),\n",
    "        src_transform=intermed_dataset.transform,\n",
    "        src_crs=intermed_dataset.crs,\n",
    "        dst_transform=transform,\n",
    "        dst_crs=ref.crs,\n",
    "        dst_resolution=transform[0],\n",
    "        resampling=Resampling.nearest)\n",
    "    return intermed_dataset\n",
    "\n",
    "\n",
    "def raster_intersection(raster1, raster2):\n",
    "    # Check if data on same crs, if different must reproject\n",
    "    if raster1.crs != raster2.crs:\n",
    "        raster2 = reproject_img(raster2, raster1)\n",
    "\n",
    "    bb_raster1 = box(raster1.bounds[0], raster1.bounds[1], raster1.bounds[2], raster1.bounds[3])\n",
    "    bb_raster2 = box(raster2.bounds[0], raster2.bounds[1], raster2.bounds[2], raster2.bounds[3])\n",
    "\n",
    "\n",
    "    xminR1, yminR1, xmaxR1, ymaxR1 = raster1.bounds\n",
    "    xminR2, yminR2, xmaxR2, ymaxR2 = raster2.bounds\n",
    "\n",
    "    intersection = bb_raster1.intersection(bb_raster2)\n",
    "    transform = Affine(raster1.res[0], 0.0, intersection.bounds[0], 0.0, -raster1.res[1], intersection.bounds[3])\n",
    "\n",
    "    p1Y = intersection.bounds[3] - raster1.res[1]/2\n",
    "    p1X = intersection.bounds[0] + raster1.res[0]/2\n",
    "    p2Y = intersection.bounds[1] + raster1.res[1]/2\n",
    "    p2X = intersection.bounds[2] - raster1.res[0]/2\n",
    "    #row index raster1\n",
    "    row1R1 = int((ymaxR1 - p1Y)/raster1.res[1])\n",
    "    #row index raster2\n",
    "    row1R2 = int((ymaxR2 - p1Y)/raster2.res[1])\n",
    "    #column index raster1\n",
    "    col1R1 = int((p1X - xminR1)/raster1.res[0])\n",
    "    #column index raster2\n",
    "    col1R2 = int((p1X - xminR2)/raster1.res[0])\n",
    "\n",
    "    #row index raster1\n",
    "    row2R1 = int((ymaxR1 - p2Y)/raster1.res[1])\n",
    "    #row index raster2\n",
    "    row2R2 = int((ymaxR2 - p2Y)/raster2.res[1])\n",
    "    #column index raster1\n",
    "    col2R1 = int((p2X - xminR1)/raster1.res[0])\n",
    "    #column index raster2\n",
    "    col2R2 = int((p2X - xminR2)/raster1.res[0])\n",
    "\n",
    "    width1 = col2R1 - col1R1 + 1\n",
    "    width2 = col2R2 - col1R2 + 1\n",
    "    height1 = row2R1 - row1R1 + 1\n",
    "    height2 = row2R2 - row1R2 + 1\n",
    "\n",
    "    arr_raster1 = raster1.read(1, window=Window(col1R1, row1R1, width1, height1))\n",
    "    arr_raster2 = raster2.read(1, window=Window(col1R2, row1R2, width2, height2))\n",
    "\n",
    "    return arr_raster1, arr_raster2\n",
    "\n",
    "\n",
    "def search_pairs_l8(sceneids_file='input/l8-sceneids.txt'):\n",
    "    sceneids = [] # define an empty list\n",
    "    with open(sceneids_file, 'r') as filehandle: # open file and read the content in a list\n",
    "        for line in filehandle:\n",
    "            currentPlace = line[:-1] # remove linebreak which is the last character of the string\n",
    "            sceneids.append(currentPlace) # add item to the list\n",
    "\n",
    "    l8_sceneids = []\n",
    "    for sceneid in sceneids:\n",
    "        splited_sceneid = sceneid.split('_')\n",
    "        sensing_date = datetime.strptime(splited_sceneid[3], '%Y%m%d')\n",
    "        orbit = int(splited_sceneid[2])\n",
    "        l8_sceneids.append([sceneid, sensing_date, orbit])\n",
    "\n",
    "    # Order by sensing_date\n",
    "    l8_sceneids = sorted(l8_sceneids, key=itemgetter(1))\n",
    "\n",
    "    day_diff = 10\n",
    "    pairs = []\n",
    "    uniques = set()\n",
    "    for i in range(0, len(l8_sceneids)-1):\n",
    "        # Select with day difference\n",
    "        if abs((l8_sceneids[i][1] - l8_sceneids[i+1][1]).days) < day_diff:\n",
    "            # Select from other orbit\n",
    "            if l8_sceneids[i][2] != l8_sceneids[i+1][2]:\n",
    "                pairs.append((l8_sceneids[i][0], l8_sceneids[i+1][0]))\n",
    "                uniques.add(l8_sceneids[i][0])\n",
    "                uniques.add(l8_sceneids[i+1][0])\n",
    "\n",
    "    return pairs\n",
    "\n",
    "def mask_pixel_qa_col2(arr):\n",
    "    fill = [1]\n",
    "    high_cloud_confidence = [480, 992]\n",
    "    cloud = [352, 368, 416, 432, 480, 864, 880, 928, 944, 992]\n",
    "    cloud_shadow = [328, 392, 840, 904, 1350]\n",
    "\n",
    "    all_masked_values = fill + high_cloud_confidence + cloud + cloud_shadow\n",
    "    mask = numpy.copy(arr)\n",
    "    mask[numpy.where(numpy.isin(mask, all_masked_values))] = 0\n",
    "    mask[mask>0]=1\n",
    "    return mask.astype(bool)\n",
    "###\n",
    "\n",
    "\n",
    "def mask_pixel_bitwise(mask, flags_list=None, nodata=None):\n",
    "    if flags_list is None:\n",
    "        L8_flag = {\n",
    "            'fill': 1<<0,\n",
    "            'dilated_cloud': 1<<1,\n",
    "            'cirrus': 1<<2,\n",
    "            'cloud': 1<<3,\n",
    "            'shadow': 1<<4,\n",
    "            'snow': 1<<5#,\n",
    "#             'clear': 1<<6,\n",
    "#             'water': 1<<7\n",
    "        }\n",
    "        flags_list = L8_flag\n",
    "    # first we will create the result mask filled with zeros and the same shape as the mask\n",
    "    final_mask = numpy.zeros_like(mask)\n",
    "    if nodata is not None:\n",
    "        final_mask[mask==nodata] = 1\n",
    "\n",
    "    # then we will loop through the flags and add the\n",
    "    for flag in flags_list:\n",
    "        # get the mask for this flag\n",
    "        flag_mask = numpy.bitwise_and(mask, flags_list[flag])\n",
    "\n",
    "        # add it to the final flag\n",
    "        final_mask = final_mask | flag_mask\n",
    "\n",
    "    final_mask[final_mask > 0] = 1\n",
    "    return final_mask.astype(bool)"
   ]
  },
  {
   "cell_type": "code",
   "execution_count": 94,
   "metadata": {},
   "outputs": [
    {
     "name": "stdout",
     "output_type": "stream",
     "text": [
      "Comparing pair ('LC08_L2SP_223081_20170807_20200903_02_T1', 'LC08_L2SP_222081_20170816_20200903_02_T1') band B2\n"
     ]
    },
    {
     "name": "stderr",
     "output_type": "stream",
     "text": [
      "<ipython-input-94-2155e8eb21c2>:48: RuntimeWarning: Mean of empty slice\n",
      "  abs_dif_mean = numpy.nanmean(abs_dif)\n",
      "<ipython-input-94-2155e8eb21c2>:51: RuntimeWarning: Mean of empty slice\n",
      "  relative_abs_perc_mean = numpy.nanmean(relative_abs_perc)*100\n"
     ]
    },
    {
     "name": "stdout",
     "output_type": "stream",
     "text": [
      "Comparing pair ('LC08_L2SP_223081_20170807_20200903_02_T1', 'LC08_L2SP_222081_20170816_20200903_02_T1') band B3\n",
      "Comparing pair ('LC08_L2SP_223081_20170807_20200903_02_T1', 'LC08_L2SP_222081_20170816_20200903_02_T1') band B4\n",
      "Comparing pair ('LC08_L2SP_223081_20170807_20200903_02_T1', 'LC08_L2SP_222081_20170816_20200903_02_T1') band B5\n",
      "Comparing pair ('LC08_L2SP_223081_20170807_20200903_02_T1', 'LC08_L2SP_222081_20170816_20200903_02_T1') band B6\n",
      "Comparing pair ('LC08_L2SP_223081_20170807_20200903_02_T1', 'LC08_L2SP_222081_20170816_20200903_02_T1') band B7\n"
     ]
    },
    {
     "name": "stderr",
     "output_type": "stream",
     "text": [
      "<ipython-input-94-2155e8eb21c2>:66: RuntimeWarning: Mean of empty slice\n",
      "  comparison_metrics['all_pairs'][b]['abs_dif_mean'] = numpy.nanmean(sum_abs_dif)\n",
      "<ipython-input-94-2155e8eb21c2>:67: RuntimeWarning: Mean of empty slice\n",
      "  comparison_metrics['all_pairs'][b]['relative_abs_perc_mean'] = numpy.nanmean(sum_relative_abs_perc)\n"
     ]
    }
   ],
   "source": [
    "input_dir = '/home/marujo/Downloads/validation/l8_sr'\n",
    "output_dir = '/tower/git_hub/marujore/c-factor-article/validation/l8_sr/'\n",
    "\n",
    "bands = ['B2', 'B3', 'B4', 'B5', 'B6', 'B7']\n",
    "pairs = search_pairs_l8('/tower/git_hub/marujore/c-factor-article/input/l8-sceneids.txt')\n",
    "\n",
    "# pairs = [('LC08_L2SP_222081_20200723_20200910_02_T1','LC08_L2SP_223081_20200730_20200908_02_T1'), ('LC08_L2SP_223081_20200730_20200908_02_T1','LC08_L2SP_222081_20200723_20200910_02_T1')] #TEST\n",
    "pairs = [('LC08_L2SP_223081_20170807_20200903_02_T1','LC08_L2SP_222081_20170816_20200903_02_T1')] #TEST\n",
    "\n",
    "comparison_metrics = {}\n",
    "\n",
    "for pair in pairs:\n",
    "    comparison_metrics[pair[0]+'_x_'+pair[1]] = {}\n",
    "    # Prepare Cloud Mask\n",
    "    cloud1_path = os.path.join(input_dir, pair[0]) + '/' + pair[0] + '_QA_PIXEL.TIF'\n",
    "    cloud2_path = os.path.join(input_dir, pair[1]) + '/' + pair[1] + '_QA_PIXEL.TIF'\n",
    "    cloud1_ds = rasterio.open(cloud1_path)\n",
    "    cloud2_ds = rasterio.open(cloud2_path)\n",
    "    cloud1_arr, cloud2_arr = raster_intersection(cloud1_ds, cloud2_ds)\n",
    "    mask1 = mask_pixel_bitwise(cloud1_arr, nodata=0)\n",
    "    mask2 = mask_pixel_bitwise(cloud2_arr, nodata=0)\n",
    "    mask = numpy.logical_or(mask1, mask2) # Combined mask\n",
    "\n",
    "    for b in bands:\n",
    "        #Load files\n",
    "        print(f\"Comparing pair {pair} band {b}\")\n",
    "        raster1_path = os.path.join(input_dir, pair[0]) + '/' + pair[0] + '_SR_' + b + '.TIF'\n",
    "        raster2_path = os.path.join(input_dir, pair[1]) + '/' + pair[1] + '_SR_' + b + '.TIF'\n",
    "        raster1_ds = rasterio.open(raster1_path)\n",
    "        raster2_ds = rasterio.open(raster2_path)\n",
    "\n",
    "        # Get raster intersection\n",
    "        raster1_arr, raster2_arr = raster_intersection(raster1_ds, raster2_ds)\n",
    "        raster1_arr = raster1_arr.astype(float)\n",
    "        raster2_arr = raster2_arr.astype(float)\n",
    "\n",
    "        #Apply Cloud mask\n",
    "        raster1_arr[mask] = numpy.nan\n",
    "        raster2_arr[mask] = numpy.nan\n",
    "\n",
    "        # Compare\n",
    "        abs_dif = abs(raster1_arr - raster2_arr)\n",
    "        abs_dif_mean = numpy.nanmean(abs_dif)\n",
    "        abs_sum = abs(raster1_arr + raster2_arr)\n",
    "        relative_abs_perc = numpy.divide((2*abs_dif), abs_sum)\n",
    "        relative_abs_perc_mean = numpy.nanmean(relative_abs_perc)*100\n",
    "\n",
    "        # Store\n",
    "        comparison_metrics[pair[0]+'_x_'+pair[1]][b] = {}\n",
    "        comparison_metrics[pair[0]+'_x_'+pair[1]][b]['abs_dif_mean'] = abs_dif_mean\n",
    "        comparison_metrics[pair[0]+'_x_'+pair[1]][b]['relative_abs_perc_mean'] = relative_abs_perc_mean\n",
    "\n",
    "comparison_metrics['all_pairs'] = {}\n",
    "for b in bands:\n",
    "    comparison_metrics['all_pairs'][b] = {}\n",
    "    sum_abs_dif = []\n",
    "    sum_relative_abs_perc = []\n",
    "    for pair in pairs:\n",
    "        sum_abs_dif.append(comparison_metrics[pair[0]+'_x_'+pair[1]][b]['abs_dif_mean'])\n",
    "        sum_relative_abs_perc.append(comparison_metrics[pair[0]+'_x_'+pair[1]][b]['relative_abs_perc_mean'])\n",
    "    comparison_metrics['all_pairs'][b]['abs_dif_mean'] = numpy.nanmean(sum_abs_dif)\n",
    "    comparison_metrics['all_pairs'][b]['relative_abs_perc_mean'] = numpy.nanmean(sum_relative_abs_perc)\n",
    "\n",
    "with open(os.path.join(output_dir,'comparison_metrics.json'), 'w') as file:\n",
    "    file.write(json.dumps(comparison_metrics))"
   ]
  },
  {
   "cell_type": "code",
   "execution_count": 134,
   "metadata": {},
   "outputs": [
    {
     "name": "stdout",
     "output_type": "stream",
     "text": [
      "Comparing pair ('LC08_L2SP_223081_20170807_20200903_02_T1', 'LC08_L2SP_222081_20170816_20200903_02_T1') band B2\n"
     ]
    }
   ],
   "source": [
    "comparison_metrics = {}\n",
    "\n",
    "for pair in pairs:\n",
    "    comparison_metrics[pair[0]+'_x_'+pair[1]] = {}\n",
    "    # Prepare Cloud Mask\n",
    "    cloud1_path = os.path.join(input_dir, pair[0]) + '/' + pair[0] + '_QA_PIXEL.TIF'\n",
    "    cloud2_path = os.path.join(input_dir, pair[1]) + '/' + pair[1] + '_QA_PIXEL.TIF'\n",
    "    cloud1_ds = rasterio.open(cloud1_path)\n",
    "    cloud2_ds = rasterio.open(cloud2_path)\n",
    "    cloud1_arr, cloud2_arr = raster_intersection(cloud1_ds, cloud2_ds)\n",
    "    mask1 = mask_pixel_bitwise(cloud1_arr, nodata=0)\n",
    "    mask2 = mask_pixel_bitwise(cloud2_arr, nodata=0)\n",
    "    mask = numpy.logical_or(mask1, mask2) # Combined mask\n",
    "\n",
    "    for b in bands:\n",
    "        #Load files\n",
    "        print(f\"Comparing pair {pair} band {b}\")\n",
    "        raster1_path = os.path.join(input_dir, pair[0]) + '/' + pair[0] + '_SR_' + b + '.TIF'\n",
    "        raster2_path = os.path.join(input_dir, pair[1]) + '/' + pair[1] + '_SR_' + b + '.TIF'\n",
    "        raster1_ds = rasterio.open(raster1_path)\n",
    "        raster2_ds = rasterio.open(raster2_path)\n",
    "\n",
    "        # Get raster intersection\n",
    "        raster1_arr, raster2_arr = raster_intersection(raster1_ds, raster2_ds)\n",
    "        raster1_arr = raster1_arr.astype(float)\n",
    "        raster2_arr = raster2_arr.astype(float)\n",
    "\n",
    "        #Apply Cloud mask\n",
    "        raster1_arr[mask] = numpy.nan\n",
    "        raster2_arr[mask] = numpy.nan\n",
    "\n",
    "\n",
    "        # Compare\n",
    "#         abs_dif = abs(raster1_arr - raster2_arr)\n",
    "#         abs_dif_mean = numpy.nanmean(abs_dif)\n",
    "#         abs_sum = abs(raster1_arr + raster2_arr)\n",
    "#         relative_abs_perc = numpy.divide((2*abs_dif), abs_sum)\n",
    "#         relative_abs_perc_mean = numpy.nanmean(relative_abs_perc)*100\n",
    "\n",
    "#         # Store\n",
    "#         comparison_metrics[pair[0]+'_x_'+pair[1]][b] = {}\n",
    "#         comparison_metrics[pair[0]+'_x_'+pair[1]][b]['abs_dif_mean'] = abs_dif_mean\n",
    "#         comparison_metrics[pair[0]+'_x_'+pair[1]][b]['relative_abs_perc_mean'] = relative_abs_perc_mean"
   ]
  },
  {
   "cell_type": "code",
   "execution_count": 135,
   "metadata": {},
   "outputs": [
    {
     "data": {
      "text/plain": [
       "<matplotlib.image.AxesImage at 0x7fc395ef10a0>"
      ]
     },
     "execution_count": 135,
     "metadata": {},
     "output_type": "execute_result"
    },
    {
     "data": {
      "image/png": "[encoded data removed]",
      "text/plain": [
       "<Figure size 432x288 with 3 Axes>"
      ]
     },
     "metadata": {
      "needs_background": "light"
     },
     "output_type": "display_data"
    }
   ],
   "source": [
    "fig, (ax1, ax2, ax3) = plt.subplots(1, 3)\n",
    "ax1.imshow(mask1)\n",
    "ax2.imshow(mask2)\n",
    "ax3.imshow(mask)"
   ]
  },
  {
   "cell_type": "code",
   "execution_count": 136,
   "metadata": {},
   "outputs": [
    {
     "data": {
      "text/plain": [
       "<matplotlib.image.AxesImage at 0x7fc396a679a0>"
      ]
     },
     "execution_count": 136,
     "metadata": {},
     "output_type": "execute_result"
    },
    {
     "data": {
      "image/png": "[encoded data removed]",
      "text/plain": [
       "<Figure size 432x288 with 2 Axes>"
      ]
     },
     "metadata": {
      "needs_background": "light"
     },
     "output_type": "display_data"
    }
   ],
   "source": [
    "fig, (ax1, ax2) = plt.subplots(1, 2)\n",
    "ax1.matshow(raster1_arr)\n",
    "ax2.matshow(raster2_arr)"
   ]
  },
  {
   "cell_type": "code",
   "execution_count": 137,
   "metadata": {},
   "outputs": [
    {
     "data": {
      "text/plain": [
       "8269.798598376836"
      ]
     },
     "execution_count": 137,
     "metadata": {},
     "output_type": "execute_result"
    }
   ],
   "source": [
    "numpy.nanmean(raster1_arr)"
   ]
  },
  {
   "cell_type": "code",
   "execution_count": 128,
   "metadata": {},
   "outputs": [
    {
     "data": {
      "text/plain": [
       "8260.567765572352"
      ]
     },
     "execution_count": 128,
     "metadata": {},
     "output_type": "execute_result"
    }
   ],
   "source": [
    "numpy.nanmean(raster2_arr)"
   ]
  },
  {
   "cell_type": "code",
   "execution_count": 131,
   "metadata": {},
   "outputs": [
    {
     "data": {
      "text/plain": [
       "149.62948773110153"
      ]
     },
     "execution_count": 131,
     "metadata": {},
     "output_type": "execute_result"
    }
   ],
   "source": [
    "numpy.nanmean(abs_dif)"
   ]
  },
  {
   "cell_type": "code",
   "execution_count": 130,
   "metadata": {},
   "outputs": [
    {
     "data": {
      "text/plain": [
       "array([[nan, nan, nan, ..., nan, nan, nan],\n",
       "       [nan, nan, nan, ..., nan, nan, nan],\n",
       "       [nan, nan, nan, ..., nan, nan, nan],\n",
       "       ...,\n",
       "       [nan, nan, nan, ..., nan, nan, nan],\n",
       "       [nan, nan, nan, ..., nan, nan, nan],\n",
       "       [nan, nan, nan, ..., nan, nan, nan]])"
      ]
     },
     "execution_count": 130,
     "metadata": {},
     "output_type": "execute_result"
    }
   ],
   "source": [
    "abs_dif"
   ]
  },
  {
   "cell_type": "code",
   "execution_count": null,
   "metadata": {},
   "outputs": [],
   "source": []
  }
 ],
 "metadata": {
  "kernelspec": {
   "display_name": "Python 3",
   "language": "python",
   "name": "python3"
  },
  "language_info": {
   "codemirror_mode": {
    "name": "ipython",
    "version": 3
   },
   "file_extension": ".py",
   "mimetype": "text/x-python",
   "name": "python",
   "nbconvert_exporter": "python",
   "pygments_lexer": "ipython3",
   "version": "3.8.5"
  }
 },
 "nbformat": 4,
 "nbformat_minor": 4
}
